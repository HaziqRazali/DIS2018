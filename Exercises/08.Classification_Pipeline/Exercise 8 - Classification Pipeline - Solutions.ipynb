{
 "cells": [
  {
   "cell_type": "markdown",
   "metadata": {
    "collapsed": true
   },
   "source": [
    "# Exercise 8: Classification Pipeline"
   ]
  },
  {
   "cell_type": "markdown",
   "metadata": {},
   "source": [
    "**Libaries needed: pandas, sklearn>=0.19, numpy, nltk, graphviz (python-graphviz), e.g.**\n",
    "```\n",
    "conda install graphviz\n",
    "conda install python-graphviz\n",
    "```"
   ]
  },
  {
   "cell_type": "markdown",
   "metadata": {},
   "source": [
    "First, make sure your environment is setup with the right libraries. In this exercise, you should be filling the empty code sections, marked as `TODO:`"
   ]
  },
  {
   "cell_type": "code",
   "execution_count": 1,
   "metadata": {},
   "outputs": [],
   "source": [
    "import pandas as pd\n",
    "import matplotlib\n",
    "import matplotlib.pyplot as plt\n",
    "import seaborn as sns\n",
    "import numpy as np\n",
    "import warnings\n",
    "warnings.filterwarnings('ignore')"
   ]
  },
  {
   "cell_type": "markdown",
   "metadata": {
    "collapsed": true
   },
   "source": [
    "## Analyzing Weather Sentiments in Tweets\n",
    "\n",
    "In this exercise, we consider the [Weather sentiment](https://data.world/crowdflower/weather-sentiment) dataset from [Crowdflower](https://www.crowdflower.com/).\n",
    "\n",
    "To create this dataset, contributors were asked to grade the sentiment of a particular tweet relating to the weather. Contributors could choose among the following categories:\n",
    "1. Positive\n",
    "2. Negative\n",
    "3. I can't tell\n",
    "4. Neutral / author is just sharing information\n",
    "5. Tweet not related to weather condition\n",
    "\n",
    "The catch is that 20 contributors graded each tweet. Thus, in many cases contributors assigned conflicting sentiment labels to the same tweet. \n",
    "\n",
    "In the `data` directory, you will find the file [weather-non-agg-DFE.csv](data/weather-non-agg-DFE.csv) containing the raw contributor answers for each of the 1,000 tweets.\n",
    "\n",
    "\n",
    "The fields of the csv file are as follows:\n",
    "1. **_unit\\_id_**: CrowdFlower’s numeric ID for the unit,\n",
    "2. **channel**: channel via which the contributor entered the job,\n",
    "3. **trust**: the contributor's accuracy level in the current job, determined by their accuracy on the Test Questions they’ve seen in the job,\n",
    "4. **worker_id**: CrowdFlower Contributor ID,\n",
    "5. **country**: worker's country code\n",
    "6. **region**: worker's region\n",
    "7. **city**: worker's city\n",
    "8. **emotion**: worker's assigned emotion to the tweet\n",
    "9. **tweet_id**: id of the tweet\n",
    "10. **tweet_body**: body text of the tweet\n",
    "\n",
    "\n",
    "Our goal in this exercise is to build a classifier that predicts the tweet's emotion according to the aforementioned categories. Towards that, we will be first aggregating the results of the crowdflower task in order to get a clean dataset. Then we will be preparing the data features by tokenizing the text. Finally, we will be inputting these features into a text classifier. \n"
   ]
  },
  {
   "cell_type": "markdown",
   "metadata": {
    "collapsed": true
   },
   "source": [
    "### Task 1: Data Formatting\n",
    "\n",
    "To begin with let's load the data into a format we can work with.\n",
    "\n"
   ]
  },
  {
   "cell_type": "code",
   "execution_count": 2,
   "metadata": {},
   "outputs": [
    {
     "name": "stdout",
     "output_type": "stream",
     "text": [
      "(20000, 10)\n"
     ]
    },
    {
     "data": {
      "text/html": [
       "<div>\n",
       "<style scoped>\n",
       "    .dataframe tbody tr th:only-of-type {\n",
       "        vertical-align: middle;\n",
       "    }\n",
       "\n",
       "    .dataframe tbody tr th {\n",
       "        vertical-align: top;\n",
       "    }\n",
       "\n",
       "    .dataframe thead th {\n",
       "        text-align: right;\n",
       "    }\n",
       "</style>\n",
       "<table border=\"1\" class=\"dataframe\">\n",
       "  <thead>\n",
       "    <tr style=\"text-align: right;\">\n",
       "      <th></th>\n",
       "      <th>_unit_id_</th>\n",
       "      <th>channel</th>\n",
       "      <th>trust</th>\n",
       "      <th>worker_id</th>\n",
       "      <th>country</th>\n",
       "      <th>region</th>\n",
       "      <th>city</th>\n",
       "      <th>emotion</th>\n",
       "      <th>tweet_id</th>\n",
       "      <th>tweet_body</th>\n",
       "    </tr>\n",
       "  </thead>\n",
       "  <tbody>\n",
       "    <tr>\n",
       "      <th>0</th>\n",
       "      <td>314960382</td>\n",
       "      <td>clixsense</td>\n",
       "      <td>0.4541</td>\n",
       "      <td>18034918</td>\n",
       "      <td>IND</td>\n",
       "      <td>7</td>\n",
       "      <td>Delhi</td>\n",
       "      <td>Neutral / author is just sharing information</td>\n",
       "      <td>82846118</td>\n",
       "      <td>Fire Weather Watch issued May 17 at 4:21PM CDT...</td>\n",
       "    </tr>\n",
       "    <tr>\n",
       "      <th>1</th>\n",
       "      <td>314960385</td>\n",
       "      <td>clixsense</td>\n",
       "      <td>0.4541</td>\n",
       "      <td>18034918</td>\n",
       "      <td>IND</td>\n",
       "      <td>7</td>\n",
       "      <td>Delhi</td>\n",
       "      <td>Positive</td>\n",
       "      <td>82510997</td>\n",
       "      <td>Passing out now.  working tonight. Storms toda...</td>\n",
       "    </tr>\n",
       "    <tr>\n",
       "      <th>2</th>\n",
       "      <td>314960391</td>\n",
       "      <td>clixsense</td>\n",
       "      <td>0.4541</td>\n",
       "      <td>18034918</td>\n",
       "      <td>IND</td>\n",
       "      <td>7</td>\n",
       "      <td>Delhi</td>\n",
       "      <td>Negative</td>\n",
       "      <td>83271279</td>\n",
       "      <td>RT @mention: \"The storm is only that which aut...</td>\n",
       "    </tr>\n",
       "    <tr>\n",
       "      <th>3</th>\n",
       "      <td>314960396</td>\n",
       "      <td>clixsense</td>\n",
       "      <td>0.4541</td>\n",
       "      <td>18034918</td>\n",
       "      <td>IND</td>\n",
       "      <td>7</td>\n",
       "      <td>Delhi</td>\n",
       "      <td>Positive</td>\n",
       "      <td>80058872</td>\n",
       "      <td>It is hot out here but it feels great</td>\n",
       "    </tr>\n",
       "    <tr>\n",
       "      <th>4</th>\n",
       "      <td>314960400</td>\n",
       "      <td>clixsense</td>\n",
       "      <td>0.4541</td>\n",
       "      <td>18034918</td>\n",
       "      <td>IND</td>\n",
       "      <td>7</td>\n",
       "      <td>Delhi</td>\n",
       "      <td>Neutral / author is just sharing information</td>\n",
       "      <td>80058809</td>\n",
       "      <td>I can't find a way to delete my iWitness Weath...</td>\n",
       "    </tr>\n",
       "  </tbody>\n",
       "</table>\n",
       "</div>"
      ],
      "text/plain": [
       "   _unit_id_    channel   trust  worker_id country region   city  \\\n",
       "0  314960382  clixsense  0.4541   18034918     IND      7  Delhi   \n",
       "1  314960385  clixsense  0.4541   18034918     IND      7  Delhi   \n",
       "2  314960391  clixsense  0.4541   18034918     IND      7  Delhi   \n",
       "3  314960396  clixsense  0.4541   18034918     IND      7  Delhi   \n",
       "4  314960400  clixsense  0.4541   18034918     IND      7  Delhi   \n",
       "\n",
       "                                        emotion  tweet_id  \\\n",
       "0  Neutral / author is just sharing information  82846118   \n",
       "1                                      Positive  82510997   \n",
       "2                                      Negative  83271279   \n",
       "3                                      Positive  80058872   \n",
       "4  Neutral / author is just sharing information  80058809   \n",
       "\n",
       "                                          tweet_body  \n",
       "0  Fire Weather Watch issued May 17 at 4:21PM CDT...  \n",
       "1  Passing out now.  working tonight. Storms toda...  \n",
       "2  RT @mention: \"The storm is only that which aut...  \n",
       "3              It is hot out here but it feels great  \n",
       "4  I can't find a way to delete my iWitness Weath...  "
      ]
     },
     "execution_count": 2,
     "metadata": {},
     "output_type": "execute_result"
    }
   ],
   "source": [
    "data = pd.read_csv('data/weather-non-agg-DFE.csv')\n",
    "# print the shape of our data frame\n",
    "print(data.shape)\n",
    "data.head()"
   ]
  },
  {
   "cell_type": "markdown",
   "metadata": {},
   "source": [
    "Let's see how our labels are distributed:"
   ]
  },
  {
   "cell_type": "code",
   "execution_count": 3,
   "metadata": {},
   "outputs": [
    {
     "name": "stdout",
     "output_type": "stream",
     "text": [
      "For all tweets:\n",
      "Neutral / author is just sharing information    5371\n",
      "Negative                                        4986\n",
      "Positive                                        4953\n",
      "Tweet not related to weather condition          3553\n",
      "I can't tell                                    1137\n",
      "Name: emotion, dtype: int64\n",
      "For tweet_id=82846118:\n",
      "Neutral / author is just sharing information    16\n",
      "Negative                                         1\n",
      "Tweet not related to weather condition           1\n",
      "I can't tell                                     1\n",
      "Positive                                         1\n",
      "Name: emotion, dtype: int64\n"
     ]
    }
   ],
   "source": [
    "print(\"For all tweets:\\n\" + str(data.emotion.value_counts()))\n",
    "print(\"For tweet_id=82846118:\\n\" + str(data[data.tweet_id==82846118].emotion.value_counts()))"
   ]
  },
  {
   "cell_type": "markdown",
   "metadata": {
    "collapsed": true
   },
   "source": [
    "### Task 2: Aggregating the Annotations\n",
    "\n",
    "Now we will be aggregating the data of the workers to obtain one label per tweet. Your input is the pandas data frame `data`. Your output should be a data frame of 1000 rows, with one `emotion` field for each `tweet_id`. You should use the Majority Decision algorithm, where the value of `emotion` field is simply the one occurring most frequently per `tweet_id`.\n",
    "\n",
    "\n"
   ]
  },
  {
   "cell_type": "code",
   "execution_count": 12,
   "metadata": {},
   "outputs": [],
   "source": [
    "def foo(d):\n",
    "    #print(d.value_counts())\n",
    "    #print()\n",
    "    return d.value_counts().index[0]"
   ]
  },
  {
   "cell_type": "code",
   "execution_count": 13,
   "metadata": {
    "scrolled": true
   },
   "outputs": [],
   "source": [
    "# We're only interested in these columns for now ['tweet_id','emotion', 'tweet_body'].\n",
    "# We convert the data to an object with just these columns \n",
    "data= data[['tweet_id','emotion', 'tweet_body']]\n",
    "\n",
    "# groupby['tweet_id'] - I have multiple rows with the same tweet_id. This extracts those.\n",
    "# agg - aggregator\n",
    "\n",
    "# TODO: Next we group the data with here\n",
    "# agg_data = data.groupby(['tweet_id']).agg(lambda x:x.value_counts().index[0])\n",
    "agg_data = data.groupby(['tweet_id']).agg({\n",
    "    'emotion' : foo,\n",
    "    'tweet_body' : lambda x:x.iloc[0],\n",
    "})\n",
    "\n",
    "#agg_data = data.groupby(['tweet_id']).agg({\n",
    "#    'emotion' : lambda x:x.value_counts().index[0],\n",
    "#    'tweet_body' : lambda x:x.iloc[0],\n",
    "#})"
   ]
  },
  {
   "cell_type": "markdown",
   "metadata": {},
   "source": [
    "By now, your data should have been aggregated. You should get 1000 rows in total as we had 20 labels. The index column for your data frame would be the `tweet_id`. Let's get a preview of how the data frame looks like now."
   ]
  },
  {
   "cell_type": "code",
   "execution_count": 14,
   "metadata": {},
   "outputs": [
    {
     "name": "stdout",
     "output_type": "stream",
     "text": [
      "data shape: (1000, 2)\n",
      "data columns: Index(['tweet_body', 'emotion'], dtype='object')\n",
      "data columns: tweet_id\n"
     ]
    },
    {
     "data": {
      "text/html": [
       "<div>\n",
       "<style scoped>\n",
       "    .dataframe tbody tr th:only-of-type {\n",
       "        vertical-align: middle;\n",
       "    }\n",
       "\n",
       "    .dataframe tbody tr th {\n",
       "        vertical-align: top;\n",
       "    }\n",
       "\n",
       "    .dataframe thead th {\n",
       "        text-align: right;\n",
       "    }\n",
       "</style>\n",
       "<table border=\"1\" class=\"dataframe\">\n",
       "  <thead>\n",
       "    <tr style=\"text-align: right;\">\n",
       "      <th></th>\n",
       "      <th>tweet_body</th>\n",
       "      <th>emotion</th>\n",
       "    </tr>\n",
       "    <tr>\n",
       "      <th>tweet_id</th>\n",
       "      <th></th>\n",
       "      <th></th>\n",
       "    </tr>\n",
       "  </thead>\n",
       "  <tbody>\n",
       "    <tr>\n",
       "      <th>79185673</th>\n",
       "      <td>I dunno which asshole in the sky flunked out o...</td>\n",
       "      <td>Negative</td>\n",
       "    </tr>\n",
       "    <tr>\n",
       "      <th>79185724</th>\n",
       "      <td>@mention Seriously, that's February weather!</td>\n",
       "      <td>Neutral / author is just sharing information</td>\n",
       "    </tr>\n",
       "    <tr>\n",
       "      <th>79185900</th>\n",
       "      <td>Special Weather Statement issued May 05 at 5:1...</td>\n",
       "      <td>Neutral / author is just sharing information</td>\n",
       "    </tr>\n",
       "    <tr>\n",
       "      <th>79186190</th>\n",
       "      <td>@mention TC: loved the new Fresh Air (#16). Cu...</td>\n",
       "      <td>Positive</td>\n",
       "    </tr>\n",
       "    <tr>\n",
       "      <th>79186569</th>\n",
       "      <td>@mention HAPPY BIRTHDAY!!! You're planning on ...</td>\n",
       "      <td>Positive</td>\n",
       "    </tr>\n",
       "  </tbody>\n",
       "</table>\n",
       "</div>"
      ],
      "text/plain": [
       "                                                 tweet_body  \\\n",
       "tweet_id                                                      \n",
       "79185673  I dunno which asshole in the sky flunked out o...   \n",
       "79185724       @mention Seriously, that's February weather!   \n",
       "79185900  Special Weather Statement issued May 05 at 5:1...   \n",
       "79186190  @mention TC: loved the new Fresh Air (#16). Cu...   \n",
       "79186569  @mention HAPPY BIRTHDAY!!! You're planning on ...   \n",
       "\n",
       "                                               emotion  \n",
       "tweet_id                                                \n",
       "79185673                                      Negative  \n",
       "79185724  Neutral / author is just sharing information  \n",
       "79185900  Neutral / author is just sharing information  \n",
       "79186190                                      Positive  \n",
       "79186569                                      Positive  "
      ]
     },
     "execution_count": 14,
     "metadata": {},
     "output_type": "execute_result"
    }
   ],
   "source": [
    "# We can verify the shape of the resulting data (should be (1000,2))\n",
    "print('data shape:',agg_data.shape)\n",
    "# We can also check the columns and the index\n",
    "print('data columns:',agg_data.columns)\n",
    "print('data columns:',agg_data.index.name)\n",
    "agg_data.head()"
   ]
  },
  {
   "cell_type": "markdown",
   "metadata": {},
   "source": [
    "We will split now the dataset into two parts, the training data and the testing data. The test data should be 0.2 of the original data size. "
   ]
  },
  {
   "cell_type": "code",
   "execution_count": 15,
   "metadata": {},
   "outputs": [],
   "source": [
    "from sklearn.model_selection import train_test_split\n",
    "\n",
    "# TODO: fill here\n",
    "train_data, test_data = train_test_split(agg_data, test_size=0.2, random_state= 42)"
   ]
  },
  {
   "cell_type": "code",
   "execution_count": 16,
   "metadata": {},
   "outputs": [
    {
     "data": {
      "text/html": [
       "<div>\n",
       "<style scoped>\n",
       "    .dataframe tbody tr th:only-of-type {\n",
       "        vertical-align: middle;\n",
       "    }\n",
       "\n",
       "    .dataframe tbody tr th {\n",
       "        vertical-align: top;\n",
       "    }\n",
       "\n",
       "    .dataframe thead th {\n",
       "        text-align: right;\n",
       "    }\n",
       "</style>\n",
       "<table border=\"1\" class=\"dataframe\">\n",
       "  <thead>\n",
       "    <tr style=\"text-align: right;\">\n",
       "      <th></th>\n",
       "      <th>tweet_body</th>\n",
       "      <th>emotion</th>\n",
       "    </tr>\n",
       "    <tr>\n",
       "      <th>tweet_id</th>\n",
       "      <th></th>\n",
       "      <th></th>\n",
       "    </tr>\n",
       "  </thead>\n",
       "  <tbody>\n",
       "    <tr>\n",
       "      <th>79189697</th>\n",
       "      <td>Mad windy for no reason</td>\n",
       "      <td>Negative</td>\n",
       "    </tr>\n",
       "    <tr>\n",
       "      <th>82838312</th>\n",
       "      <td>#WEATHER:  1:56 pm : 77.0F. Feels F. 29.96% Hu...</td>\n",
       "      <td>Neutral / author is just sharing information</td>\n",
       "    </tr>\n",
       "    <tr>\n",
       "      <th>83257061</th>\n",
       "      <td>I should've went to Colombia for the month at ...</td>\n",
       "      <td>Positive</td>\n",
       "    </tr>\n",
       "    <tr>\n",
       "      <th>82840644</th>\n",
       "      <td>Follow @mention @mention @mention #Glee #Herec...</td>\n",
       "      <td>Tweet not related to weather condition</td>\n",
       "    </tr>\n",
       "    <tr>\n",
       "      <th>84050466</th>\n",
       "      <td>it's hot  as #Truck outside</td>\n",
       "      <td>Negative</td>\n",
       "    </tr>\n",
       "  </tbody>\n",
       "</table>\n",
       "</div>"
      ],
      "text/plain": [
       "                                                 tweet_body  \\\n",
       "tweet_id                                                      \n",
       "79189697                            Mad windy for no reason   \n",
       "82838312  #WEATHER:  1:56 pm : 77.0F. Feels F. 29.96% Hu...   \n",
       "83257061  I should've went to Colombia for the month at ...   \n",
       "82840644  Follow @mention @mention @mention #Glee #Herec...   \n",
       "84050466                        it's hot  as #Truck outside   \n",
       "\n",
       "                                               emotion  \n",
       "tweet_id                                                \n",
       "79189697                                      Negative  \n",
       "82838312  Neutral / author is just sharing information  \n",
       "83257061                                      Positive  \n",
       "82840644        Tweet not related to weather condition  \n",
       "84050466                                      Negative  "
      ]
     },
     "execution_count": 16,
     "metadata": {},
     "output_type": "execute_result"
    }
   ],
   "source": [
    "# check a sample of the training data\n",
    "train_data.head()"
   ]
  },
  {
   "cell_type": "code",
   "execution_count": 17,
   "metadata": {},
   "outputs": [
    {
     "data": {
      "text/html": [
       "<div>\n",
       "<style scoped>\n",
       "    .dataframe tbody tr th:only-of-type {\n",
       "        vertical-align: middle;\n",
       "    }\n",
       "\n",
       "    .dataframe tbody tr th {\n",
       "        vertical-align: top;\n",
       "    }\n",
       "\n",
       "    .dataframe thead th {\n",
       "        text-align: right;\n",
       "    }\n",
       "</style>\n",
       "<table border=\"1\" class=\"dataframe\">\n",
       "  <thead>\n",
       "    <tr style=\"text-align: right;\">\n",
       "      <th></th>\n",
       "      <th>tweet_body</th>\n",
       "      <th>emotion</th>\n",
       "    </tr>\n",
       "    <tr>\n",
       "      <th>tweet_id</th>\n",
       "      <th></th>\n",
       "      <th></th>\n",
       "    </tr>\n",
       "  </thead>\n",
       "  <tbody>\n",
       "    <tr>\n",
       "      <th>82837308</th>\n",
       "      <td>We got hot chocolate here at the Ridgeland bas...</td>\n",
       "      <td>Negative</td>\n",
       "    </tr>\n",
       "    <tr>\n",
       "      <th>83269180</th>\n",
       "      <td>@mention I had sonic too! I got orange slush t...</td>\n",
       "      <td>Tweet not related to weather condition</td>\n",
       "    </tr>\n",
       "    <tr>\n",
       "      <th>83269499</th>\n",
       "      <td>Waiting patiently for the electric car. Glorio...</td>\n",
       "      <td>Positive</td>\n",
       "    </tr>\n",
       "    <tr>\n",
       "      <th>82853149</th>\n",
       "      <td>Memphis weather is so bipolar!!!</td>\n",
       "      <td>Negative</td>\n",
       "    </tr>\n",
       "    <tr>\n",
       "      <th>82517760</th>\n",
       "      <td>Argh. WHY does the guy behind me have his AC b...</td>\n",
       "      <td>Negative</td>\n",
       "    </tr>\n",
       "  </tbody>\n",
       "</table>\n",
       "</div>"
      ],
      "text/plain": [
       "                                                 tweet_body  \\\n",
       "tweet_id                                                      \n",
       "82837308  We got hot chocolate here at the Ridgeland bas...   \n",
       "83269180  @mention I had sonic too! I got orange slush t...   \n",
       "83269499  Waiting patiently for the electric car. Glorio...   \n",
       "82853149                   Memphis weather is so bipolar!!!   \n",
       "82517760  Argh. WHY does the guy behind me have his AC b...   \n",
       "\n",
       "                                         emotion  \n",
       "tweet_id                                          \n",
       "82837308                                Negative  \n",
       "83269180  Tweet not related to weather condition  \n",
       "83269499                                Positive  \n",
       "82853149                                Negative  \n",
       "82517760                                Negative  "
      ]
     },
     "execution_count": 17,
     "metadata": {},
     "output_type": "execute_result"
    }
   ],
   "source": [
    "# check a sample of the test data\n",
    "test_data.head()"
   ]
  },
  {
   "cell_type": "markdown",
   "metadata": {},
   "source": [
    "You can see the number of samples from each class."
   ]
  },
  {
   "cell_type": "code",
   "execution_count": 18,
   "metadata": {},
   "outputs": [
    {
     "name": "stdout",
     "output_type": "stream",
     "text": [
      "training\n",
      "Negative                                        232\n",
      "Neutral / author is just sharing information    205\n",
      "Tweet not related to weather condition          181\n",
      "Positive                                        180\n",
      "I can't tell                                      2\n",
      "Name: emotion, dtype: int64\n",
      "testing\n",
      "Neutral / author is just sharing information    58\n",
      "Positive                                        51\n",
      "Negative                                        47\n",
      "Tweet not related to weather condition          44\n",
      "Name: emotion, dtype: int64\n"
     ]
    }
   ],
   "source": [
    "print('training') \n",
    "print(train_data.emotion.value_counts())\n",
    "print('testing')\n",
    "print(test_data.emotion.value_counts())"
   ]
  },
  {
   "cell_type": "markdown",
   "metadata": {},
   "source": [
    "### Task 3: Feature Creation\n",
    "\n",
    "Now that we have aggregated the data, we will work on creating the features to use in our classifier. The input to the classifier is a tweet. However, for this task, we will be using the tokens (e.g., words) in the tweet as the feautres.\n",
    "In specific, each tweet will be represented with a vector that indicates what words are in the tweet and how frequently each word occurs. This way, we do not account for the order of occurrence of these words. This kind of features is also called the **bag of words** technique."
   ]
  },
  {
   "cell_type": "markdown",
   "metadata": {},
   "source": [
    "Let's further process and take a look first on our data:"
   ]
  },
  {
   "cell_type": "code",
   "execution_count": 19,
   "metadata": {},
   "outputs": [
    {
     "name": "stdout",
     "output_type": "stream",
     "text": [
      "[('Mad windy for no reason', 'Negative'), ('#WEATHER:  1:56 pm : 77.0F. Feels F. 29.96% Humidity. 11.5MPH South Wind.', 'Neutral / author is just sharing information'), (\"I should've went to Colombia for the month at least they have beautiful weather\", 'Positive'), ('Follow @mention @mention @mention #Glee #Herecomestheboom #sunshine @mention!!', 'Tweet not related to weather condition'), (\"it's hot  as #Truck outside\", 'Negative'), ('Heavy Dust Storm Blankets Parts Of Chandler: A good sized dust storm blew through the east valley blanketing par... {link}', 'Neutral / author is just sharing information'), ('@mention rrrrriiight who yu tellin idk weather to be mad or cry -__-', 'Negative'), ('Needless to say, it is scorching out. I am still hot and I have been back inside for quite some time now.', 'Negative'), ('Waking up to beautiful weather- what a great day it will be!', 'Positive'), ('We brought the sunshine from LA... But we also brought the traffic! #SMUGGLERSTOUR {link}', 'Positive'), ('@mention nothing better then woman in warm weather #yeahiamthattype', 'Positive'), ('Tatum, NM @ 12:00 PM: Temp:90F(H 91/L 55), Hum: 3&#x25;, DewPt:-1F, Wind: WSW at 18 G 28.0 mph, Rain:0.00 In. #weather', 'Neutral / author is just sharing information'), ('RT @mention: RT @mention: BREAKING: Large, wedge tornado on the ground coming into Okla City LIVE on our weather blog {link} ...', 'Neutral / author is just sharing information'), (\"@mention  Thx - sounds like you've gone through some crazy weather...\", 'Negative'), ('Gardner WX 05/18/11 03:00 AM | 49F, 55&#x25; Humidity, Feels Like 49F | Alerts: NO CURRENT ADVISORIES | {link}', 'Neutral / author is just sharing information'), ('#WEATHER:  2:53 pm : 57.0F. Feels 56F. 30.10% Humidity. 6.9MPH Northwest Wind.', 'Neutral / author is just sharing information'), (\"RT @mention: The 3rd world war hasn't even happened yet... and the crazy weather is from Earth changing and possibly from H.A.A.R. ...\", 'Negative'), (\"It's bone chilling cold outside!!\", 'Negative'), ('@mention Hot Lyrics, Hot Beatz, No Deal? Get Your Music Out there with @mention', 'Tweet not related to weather condition'), ('Damn weather, just turn and stay sunny.', 'Negative'), (\"@mention shhhh, just cum to the philippines where it's sunny and shitty everyday\", 'Negative'), ('#WEATHER:  9:56 pm : 67.0F. Feels F. 29.83% Humidity. 11.5MPH Northeast Wind.', 'Neutral / author is just sharing information'), (\"After being told no pink for decades USDA now says cooked pork can be pink, @ 145 degrees not 160. Next will they admit alien UFO's are real\", 'Tweet not related to weather condition'), (\"G'morning, Sunshine: 60s and partly sunny? OK!\", 'Positive'), ('Severe Thunderstorm Warning for Fulton, Knox, and Peoria County in IL until 7:45pm CDT. #ilwx', 'Neutral / author is just sharing information'), ('Special Weather Statement issued May 05 at 5:14PM CDT expiring May 05 at 6:15PM CDT by NWS Central Illinois... {link}', 'Neutral / author is just sharing information'), ('omg it so windy !!!!!', 'Negative'), ('@mention I was laughing, @mention is running in fresh snow in Boulder and its gotta be in 90s here. Trail was awesome!', 'Positive'), ('national storm reports... here are the raw observations for the tornado reports today. {link}', 'Neutral / author is just sharing information'), ('Monday mornings, sunshine and planning ahead: Do you plan for the week ahead on Monday morning o... {link} (Via @mention)', 'Positive'), (\"RT @mention: Don't try to stop the storm,just wait with patience and faith until the storm pass away and the rainbow come to bright your  ...\", 'Neutral / author is just sharing information'), ('this must be the end.  the weather channel has gone into commercial-free mode.', 'Neutral / author is just sharing information'), (\"@mention Hint: It's windy. Nowhere super fun just yet...\", 'Negative'), ('Mango snow ice  @ Twist (Snow Ice) {link}/', 'Tweet not related to weather condition'), ('Poured a cup of hot sepia coffee in a wisteria flowered mug, dandelion sunshine spilling through the periwinkle sky.', 'Positive'), ('@mention \"Take care to bypass University so you don\\'t collide w/ the sunshine & rainbows being unearthed by construction.\"', 'Tweet not related to weather condition'), ('Ran 5.9 miles in 52 mins and felt good. 46 degrees at the start of the run, with very little wind. My pre-run... {link}', 'Neutral / author is just sharing information'), ('Its a million degrees', 'Negative'), ('Perfect weather for a natural disaster. I thnk 2012 came early...', 'Positive'), ('\"LIKE\" our brand new Northwest Weather Podcast page!  Mark and Brian are recording their 4th episode today.  You... {link}', 'Neutral / author is just sharing information'), ('@mention TC: loved the new Fresh Air (#16). Currently flying to warmer weather and the chilled out beats were perfect. Keep it up!', 'Positive'), ('This hot, dry, & windy weather is going to turn the #canola fast. Keep a close eye on it if you plan on swathing or pushing. #okanola', 'Negative'), ('Today, give a stranger one of your smiles. It might be the only sunshine he sees all day.', 'Tweet not related to weather condition'), ('@mention Hi Five! I love a bit of Snow Patrol! Have this band on now tho.  They are going to be HUGE.  {link}', 'Tweet not related to weather condition'), ('@mention hahaha...tell Slush we are gonna win it next year!', 'Tweet not related to weather condition'), (\"@mention Thanks, I hope the same for you too. I'd be more inclined to go outside if it wasn't this hot already...\", 'Negative'), ('The weather is so gloomy and cold :(', 'Negative'), ('Man the weather so shitty in the Chi.....summer needs to come on', 'Negative'), ('damn. already 62 degrees out! makes me very happy! :D bring on the heat!', 'Positive'), (\"I been freezing but didn't wana get up to fool with the air #lazytweet\", 'Negative'), ('Quartet of snowy owls finds new home at Beardsley Zoo: BRIDGEPORT  Associated Press   A quartet of snowy owls, a... {link}', 'Tweet not related to weather condition'), ('@mention no shelters but keep close watch on weather :(( hugs', 'Negative'), (\"72 degrees and sunny. Yeah it's  going to hell in a hat box\", 'Negative'), ('Hot and Cold {link} #waters #hot #cold', 'Neutral / author is just sharing information'), (\"@mention after seeing that I'm going to wash my eyes out with some nice boiling hot bleach now, thank you.\", 'Tweet not related to weather condition'), ('Fun time celebrating my bday with my fam and some birthday cake yogurt  @ 32 Degrees!', 'Neutral / author is just sharing information'), ('Sunny weather for driving back to San Diego, spending the long Memorial Day weekend w/hubby in 10 days. What makes you smile today? :)', 'Positive'), (\"Now's the time to sign up for ABC 17 severe weather texts: {link} Follow @mention & Facebook: {link}\", 'Neutral / author is just sharing information'), ('RT @mention: Do NOT go out to move your car in a hail storm. Your car can be fixed. You might not be fixable. #preparenow', 'Negative'), ('WTH....VA with this damn bipolar ass weather....', 'Negative'), ('eww its 81% humidity  today :I', 'Negative'), (\"Im not complaining but it's FREEZING in my room!\", 'Negative'), ('New: SatWeather  (Weather): SatWeather 1.0Device: iOS UniversalCategory: WeatherPrice: $.99, Version: 1.0 (iTunes) Description: \\t\\t\\tSa...', 'Neutral / author is just sharing information'), ('So sad - a former homebound student of mine died this morning.  She was like a ray of sunshine, always positive despite her condition.', 'Tweet not related to weather condition'), ('My gosh! Its too hot outside...  {link}', 'Negative'), ('A storm with quarter-sized hail is making the situation in Joplin even tougher {link}', 'Negative'), (\"It's fuckin hot out\", 'Negative'), ('These kids have wore me out 4 the day.. #whew time to get naked its *HOT* LOL', 'Tweet not related to weather condition'), ('Sunny day man #12 and #35', 'Positive'), (\"Bear River's Quest for a 4-Peat Begins Saturday {link} - #snow #utah\", 'Tweet not related to weather condition'), ('RT @mention: Miami weather is just like Charlie Sheen.. Bi-polar!', 'Negative'), ('Spending the afternoon downtown with the family walking around the Canal and enjoying the beautiful weather #nomorerain', 'Positive'), ('RT @mention: Ahh weather.com says that our area is getting a bad storm and to stay away from windows.... Glad my beds right under a h ...', 'Negative'), ('This weather keeps me under the covers.', 'Negative'), ('Phones been ringing since 7, must be sunny again! #boutime', 'Positive'), ('Slush explosion date with steph #bonding', 'Tweet not related to weather condition'), ('Video weather update, including Tornado Watch details: {link}', 'Neutral / author is just sharing information'), ('NYC weather is so disrespectful this week', 'Negative'), ('RT @mention: Horses have 16 muscles in each ear, allowing them to rotate their ears 180 degrees.', 'Tweet not related to weather condition'), (\"@mention haha ASU has an amazing honors program, that's the only reason I want to go there. And i can't stand snow Dx\", 'Negative'), ('@mention the software queries say two-three \"link degrees\" of the articles. (ie James Burke has the link Science Historian which has...)', 'Tweet not related to weather condition'), ('If you are in Winston... I say we plan a pool party since it is hot as hell outside', 'Negative'), ('#Childhoodmemories racing for a snow Coe after bball games at Germantown.', 'Tweet not related to weather condition'), ('The lightning from the storm last night was spectacular. They were predicting the storms all day, but you really... {link}', 'Positive'), (\"It's on the windy side, but still in the 70's downtown #ColoradoSprings! Happy hour now until 6:00 pm at @mention\", 'Neutral / author is just sharing information'), ('Free Blizzard!! {link}', 'Tweet not related to weather condition'), ('@mention LISTEN TO ON RAINY DAYS', 'Tweet not related to weather condition'), (\"RT @mention: According to the weather on @mention 's phone, every day is going to be a muffin.  {link}\", 'Negative'), (\"@mention It's sunny here too. And it's closer! :D\", 'Positive'), ('Absolutely FREEZING after lunch. I need to warm up!', 'Negative'), (\"Catch The Fish Folks tomorrow at the Weds Downtown Farmers' Market 4-7.  Weather will be great - Copper River Sockeye salmon at great...\", 'Positive'), ('@mention check out dis video shit is hot song is crazy trust RT (@mention {link})', 'Tweet not related to weather condition'), (\"I'm just a hippie...in the woods...playing her djembe on a rainy sunday afternoon {link}\", 'Neutral / author is just sharing information'), ('Rest of Tonight Partly cloudy until late night then becoming mostly clear. A 20 percent chance of showers and thunderstorms in the evening', 'Neutral / author is just sharing information'), ('RT @mention: Listening to Sunshine Anderson typing a paper #CollegeDays // where has she been?', 'Tweet not related to weather condition'), ('Ha! What did I tell you yesterday?! 60% chance of thunderstorms forecast tomorrow and storms forecast all week until Thursday! &gt;:D', 'Neutral / author is just sharing information'), ('Loving this weather (:', 'Positive'), ('RT @mention: Lol yall crazy! RT @mention: out campn with @mention waitn on da new jays in da cold its #serious', 'Negative'), ('I wish I had a girlfriend, this is perfect weather to get naked in.', 'Positive'), ('RT @mention: Why is my house below zero degrees all the time?', 'Negative'), ('RT @mention: Cinderella, Snow White, and Sleeping Beauty are all gonna be pretty ticked when they find out they all married Prin ...', 'Tweet not related to weather condition'), (\"@mention Most of my followers are usually in and around Tally. That's where the storm is now\", 'Neutral / author is just sharing information'), ('Arsenal blows. Weather is amazing. Neighbor bumpin music into the courtyard. Some baby screaming. #sunday', 'Positive'), ('Snow White, HOLLA! RT @mention: Hi Ho, hi ho... I forgot to check in, yo. (@ Harbor Court) {link}', 'Tweet not related to weather condition'), (\"Footballer sparks Twitter storm: Twitter users have reacted to a footballer's bid to find out who is putting inf... {link}\", 'Tweet not related to weather condition'), ('Shoutout to the sunshine this morning #EastSide #Tacoma', 'Positive'), ('Well, FB friends, it was nice to see you all come outta the woodwork...see you next Spam storm!', 'Tweet not related to weather condition'), ('Thunderstorms today, high 69 (21 C).', 'Neutral / author is just sharing information'), (\"It's too hot out. Fuckin aye\", 'Negative'), (\"watching 180 degrees south again. I can't get enough of this movie.\", 'Tweet not related to weather condition'), ('@mention you are welcome! doing great-except sooo tired of this weather! how about you!?', 'Negative'), ('#WEATHER:  3:53 am : 57.0F. Feels 55F. 29.98% Humidity. 10.4MPH North Wind.', 'Neutral / author is just sharing information'), (\"Call me crazy, but I am enjoying the cool weather. Because I know in a month or so it'll be 1065 degrees outside. #memphisheat\", 'Positive'), ('Severe Thunderstorm Warning until 05:45 PM CDT issued for Edwards & Kiowa Counties with 60mph gusts & 1.00\" hail possible', 'Neutral / author is just sharing information'), (\"@mention I gotta say, you are so stunning. I've been working out for the last few months and im trying to get my hot body too xoxo\", 'Tweet not related to weather condition'), ('FINALLY! The temp outside is over 70.', 'Positive'), ('@mention Jeri, here\\'s your cute story for the day! \"Anchor saves ducklings from storm drain\" {link}', 'Tweet not related to weather condition'), ('In the Heart of the Summer we Need a Snow Plow !', 'Neutral / author is just sharing information'), ('RT @mention: This kind of weather makes me want to go swimming.', 'Positive'), ('Clouds & Showers East, Sunny & Dry Elsewhere {link}', 'Neutral / author is just sharing information'), ('Well, those thunderstorms as I was doing yard work were nice.', 'Negative'), (\"@mention Yeah I was sick recently too. It's probably the weather or something.\", 'Negative'), ('Sigma Gamma Rho Sorority Inc. Beta Omega Sigma-Shreveport,La {From left to right} Quiet Storm - Margarita Hill... {link}', 'Tweet not related to weather condition'), ('Another rainy day! Blah.', 'Negative'), ('Is it hot outside?', 'Neutral / author is just sharing information'), (\"Goddamn this weather! Can't run in the rain. Oh well, at least PSN is back up.\", 'Negative'), (\"Got chilly feet :( (I'm slyly tryna seem cute)\", 'Negative'), ('Sonic lemonberry slush = pure #amazingness', 'Tweet not related to weather condition'), (\"RT @mention Why does Lindsay Lohan hate Christmas? She's been in & out of rehab for dashing through the snow...LMMFAO\", 'Tweet not related to weather condition'), (\"#United States #Wisconsin #Wisconsin Dells #The ButtesThe nation's weather - The Associated Press\", 'Neutral / author is just sharing information'), ('New event. Severe Thunderstorm Warning from 5/19/2011 3:57 PM to 5:00 PM CDT for Woodward Count... Read more at {link}', 'Neutral / author is just sharing information'), ('Bout to enjoy this sunshine a bit', 'Positive'), ('@mention I wanna go to the Caribbean , I wanna bring @mention and I wanna see some sunshine! #wannagobw', 'Positive'), ('RT @mention: Life is so much more manageable when the weather is nice.', 'Positive'), ('I dunno which asshole in the sky flunked out of weather school or whatever but I should not need a jacket in May', 'Negative'), ('the weather didnt scare me away from the stores tonight!', 'Negative'), ('Freezing, wet, and still looking at rocks @mention @mention', 'Negative'), ('Hmmmm my voice is still crap thanks to this cold but I think I might do an audio tweet just to try it out.Anyone interested in hearing it?', 'Negative'), (\"@mention it won't last too long...the storm that is.. :) nice & sunny in my neck of the woods..\", 'Positive'), (\"@mention oh nice! We're all the way here in sunny Burbank California!\", 'Positive'), ('Im riding the #HeatWave til the wheels melt off! lol #TeamHeat', 'Tweet not related to weather condition'), ('Goodness it got cold quick!! It was just 80 degrees in NYC! #wheresmycoat', 'Negative'), ('Miss the parents pool! RT @mention: Hanging at Inlaws pool and pool house for Mothers Day!! Sunny and 80 degrees! {link}', 'Positive'), ('its gonna be 90 degrees Tuesday and Wednesday', 'Neutral / author is just sharing information'), ('#sunshine', 'Positive'), ('Its #Friday nd da weather is ok....wat trubbl is thur to get into?!!', 'Positive'), ('Weekend Weather Causes Delays In I-270 Bridge Work  {link}', 'Neutral / author is just sharing information'), ('#NEWMUSIC Sunny Black - Lets Get It In - {link} #twitraxtuesday', 'Tweet not related to weather condition'), ('Umm jealous!! RT @mention: Just checked the weather for Mexico..85 and sunny EVERYday :)', 'Positive'), ('Wednesday - Partly sunny. Slight chance of rain showers in the morning...then a slight chance of thunderstorms in...  {link}', 'Neutral / author is just sharing information'), ('#WEATHER: 5:54 am C: 69.0F. Feels F. 29.54% Humidity. 13.8MPH South Wind.', 'Neutral / author is just sharing information'), ('WX ALT: ...A SEVERE THUNDERSTORM WARNING REMAINS IN EFFECT UNTIL 145 AM EDT FOR SOUTH CENTRAL GASTON COUNTY IN THE... {link}', 'Neutral / author is just sharing information'), ('Saw the storm damage in La Crosse, as did the gov. A WWII vet shares his storm story @mention on NBC15. {link}', 'Neutral / author is just sharing information'), ('Niggaz got degrees cuz...', 'Tweet not related to weather condition'), ('Its Freezing D;', 'Negative'), (\"The days half over and I still haven't seen my mother! Upside its 80 degrees outside :)\", 'Positive'), ('@mention Greeting! I love Snow Patrol, so this is right up my street. Hear them here:{link}', 'Tweet not related to weather condition'), ('Happy Birthday #LeeSoonkyu :] sunny!', 'Tweet not related to weather condition'), ('Ok so its like 78 degrees, he has on some timbos, shorts with an full length leather coat.. Wow, #damshame.', 'Negative'), (\"It's always nice and sunny on mothers day but stays rainy on fathers day\", 'Neutral / author is just sharing information'), ('I wish i was wearing pants right now. Its chilly outside.', 'Negative'), ('This weather knocked everyone out', 'Negative'), ('#WEATHER: 12:53 am : 49.0F. Feels 47F. 29.95% Humidity. 5.8MPH Northeast Wind.', 'Neutral / author is just sharing information'), ('Enjoying the Midwest weather!', 'Positive'), ('New book. Lemonade. 90 degree weather. #perfection', 'Positive'), ('Nothing says \"Happy Cinco de Mayo!\" like an AP test and a rainy day. #fail', 'Positive'), ('Sweden Climate, Temperatures &amp; Weather Info | It&#39;s a Stormy Life {link}', 'Neutral / author is just sharing information'), (\"I'll take the lightening over the snow any day! Yay for thunderstorms!\", 'Positive'), ('@mention I agree! Beautiful view. Mine was just walking through Cap Hill but the sunshine made it a nice walk home. Hope it stays.', 'Positive'), ('#WEATHER:  4:53 pm : 89.0F. Feels F. 29.72% Humidity. 21.9MPH South Wind.', 'Neutral / author is just sharing information'), (\"I'm Eric Wright, I'm ruthless I terrorize, you either parish or be paralyzed cause I'm 1000 degrees fahrenheit\", 'Tweet not related to weather condition'), (\"it's a nice day in LA. sunny :)\", 'Positive'), ('Beautiful weather in Chi-town. Going to grab Pizanos with @mention per the rockin rec of @mention', 'Positive'), ('#tropicalstorm, #philippines: 1200Z 9 May 11 #JTWC ATCF Track, Tropical Storm 03W (Aere). {link} #aere #bebeng #03w', 'Neutral / author is just sharing information'), ('Weather data at 06:30 AM. 42.5&#xB0;F, 92&#x25; humidity. Wind: 0.0 mph from the N. Rain: 0.00 in. NO CURRENT ADVISORIES', 'Neutral / author is just sharing information'), ('What up sunshine', 'Positive'), ('#WEATHER:  1:54 pm : 53.0F. Feels 49F. 29.82% Humidity. 12.7MPH Northwest Wind.', 'Neutral / author is just sharing information'), ('Weather for Seattle    {link}', 'Neutral / author is just sharing information'), (\"The only thing I can do is move foward and focus on the future. As hard as it may seem it can only get better. The storm can't last forever\", 'Tweet not related to weather condition'), ('Severe Thunderstorm Warning for Atchison and Leavenworth County in KS until 9:45pm. Updates as needed from Bryan Busby', 'Neutral / author is just sharing information'), ('@mention sunny again.. something is clearly afoot! you? #coffeeup', 'Positive'), ('It is hot out here but it feels great', 'Positive'), ('#NMFire #NMwx Fire Weather Watch issued May 21 at 1:28PM MDT expiring May 23 at 9:00PM MDT by NWS Albuquerque... {link}', 'Neutral / author is just sharing information'), ('staying up late to craft up a STORM!', 'Tweet not related to weather condition'), ('This week in NYC will mark the longest stretch of dry weather since February. #happymonday', 'Positive'), ('@mention u like to swim when its cold outside....', 'Neutral / author is just sharing information'), ('Turtles. Pizza. Wildflowers. Sunshine. Grenades. Your mom. Me. Jell-O and of course...a 1971 Pontiac Trans-Am. Oh and a bed. Full of puppies', 'Tweet not related to weather condition'), (\"RT @mention: Oh goodie...finally warm enough for the neighborhood banshees to be out in the streets cryin about who's turn it is to  ...\", 'Positive'), ('Sunny skies over by KC Library, Plaza branch. But ominous skies over Downtown KC. Sirens still ringing. {link}', 'Neutral / author is just sharing information'), (\"@mention love ya profile pic gorgeous. How's the weather in Atl\", 'Positive'), (\"Activision Blizzard's quarterly profit, sales rise \\\\n    (Reuters)\\\\n: Reuters - NEW YORK (Reuters)- Activision ... {link}\", 'Tweet not related to weather condition'), ('Headed out to the province of Siem Reap to check out the work a local church is doing in the community there.  #motoride #hourandahalf #hot', 'Tweet not related to weather condition'), (\"@mention just cause there's a #shitstorm at Colby, you make my sunshine! Love you\", 'Positive'), (\"@mention Keek! I love a bit of Snow Patrol! Have this band on now tho.  It's been on repeat since I heard it.  {link}\", 'Tweet not related to weather condition'), (\"It's a rainy, gloomy day here in Los Angeles but I still have sunscreen on! Why? Because everyday, rain or shine,... {link}\", 'Negative'), ('The gas and this weather need to get off that bull shit lol', 'Negative'), ('Severe Thunderstorm Warning for Choctaw, Montgomery, and Webster County in MS until 7:45pm. {link} #mswx', 'Neutral / author is just sharing information'), ('Graduate Degrees in Education {link}', 'Tweet not related to weather condition'), ('RT @mention: \"The storm is only that which authenticates your path\" -- @mention', 'Tweet not related to weather condition'), ('Well, blake survived the weather! RT @mention: Had to go with my gut on this one. This is a tough position to be in.  #TheVoice', 'Neutral / author is just sharing information'), (\"#WeRockEachOthersWorlds @mention I am proud to be one of your Twitter BFF's, Frank! Hope you are having a #sunny day! *bright smile*\", 'Positive'), ('@mention u nvr told us how the interview in the \"pretty sunny park in nyc wit some BET friends\" went lol details plz -__-', 'Neutral / author is just sharing information'), (\"The weather better be decent in KC because I'm going through Tribe withdraw.\", 'Neutral / author is just sharing information'), ('@mention Because the temperature is 61 Degrees :)', 'Positive'), ('RT @mention: The color of these #yellow #calcite faceted drops makes me smile!  Sunny!  @mention #artFire #AFPounce {link} ...', 'Positive'), ('If a storm picks up, lean into the wind instead of turning away from it if you want to keep balance', 'Neutral / author is just sharing information'), ('Thinking the cloudy super cool weather is making me xtra sleepy 2day', 'Negative'), ('i want to go out..but its cold and yucky out so idk', 'Negative'), ('@mention it was beautiful, thank you.  Great weather & everyone had fun!!  :)', 'Positive'), (\"40 & rainy is such a letdown after last week's weather :( Good day to move into a bigger bedroom though!\", 'Negative'), (\"RT @mention: #Aots Now that PSN is back I'm going play Uncharted 2, Crysis 2, Motor Storm- all 3 of 'em! And all online!!!\", 'Tweet not related to weather condition'), ('@mention listening to jdb before I go to bed.. It makes mr miss sophomore year and the exchange that summer we were storm chasers :)', 'Tweet not related to weather condition'), ('81 degrees & cloudy! I love the 81 but not the cloudy! !', 'Positive'), (\"In the 'BU (Malibu) showing leases. The weather is perfect! Click 4 pic&gt; {link}\", 'Positive'), ('Death by the Glass: A Sunny McCoskey Napa Valley Mystery (Sunny Mccloskey Napa Valley Mystery):  {link}', 'Tweet not related to weather condition'), ('Mostly sunny this afternoon, high 84 (29 C).  Low  66 (19 C) tonight.', 'Neutral / author is just sharing information'), ('Sunshine!', 'Positive'), ('Its freezing in Boston hows the weather in Providence???', 'Negative'), ('RT @mention: Hot day in Moab today, went to Arches National Park but wife and kids petered out after a 2mi hike. Definitely have to come  ...', 'Neutral / author is just sharing information'), ('Sen. Whisnant just said our state economist has gotten our budget income forecast wrong 14 out 16 times wrong. Makes me feel warm & fuzzy', 'Tweet not related to weather condition'), ('Fund raiser at Boyd Ranch a success, although auction cut short due to windy wind.', 'Negative'), ('misty, cloudy, rainy evening spoiled viewing of beautiful Niagara Falls...', 'Negative'), ('@mention Insomnia and thunderstorms kept me up all night...So much fun...', 'Negative'), (\"Greaaaat. So, the room i'm testing in, is freezing! Wtf. :/\", 'Negative'), (\"What's with all the rainy weber?\", 'Negative'), (\"Hi from sunny Boston. Weather is fine, wish you were here... (@ Joe's American Bar & Grill w/ 2 others) {link}\", 'Positive'), ('RT @mention: droppn The storm video tomorrow crazyy - Black Thoughts 2', 'Tweet not related to weather condition'), ('@mention Heard you\\'re filming in LA. I studied at LSU few years ago. Still remember the weather it\\'s like \"public sauna.\" Stay cool:)', 'Negative'), ('RT @mention: Three things about my flight: I can lay down across 3 seats just fine, it was freezing & I got to see this.  {link} ...', 'Tweet not related to weather condition'), ('YES! I hope this rain turns into a Thunderstorm....wait, are my car windows up!?', 'Positive'), ('@mention SNOW!!!!!!  Where the heck are you?', 'Negative'), ('Ooooh I know its gone be 1671 degrees at that track meet friday and full of niggas', 'Negative'), ('Weather Halts And Ends Tied Game In Seattle - GoDucks.com - The ... {link}', 'Neutral / author is just sharing information'), ('@mention take chi- town by storm! I expect nothing less! and @mention you better be ready for me to visit!', 'Tweet not related to weather condition'), ('Storm-Downed Tree Kills Twin Sisters: Twin sisters were were killed when severe storms blew through parts of the... {link}', 'Negative'), (\"@mention @mention @mention it's just something to do and really storm? You don't know what a wet dream?\", 'Tweet not related to weather condition'), ('B MY Sunshine - Nonprofit; To improve the environment of Special Needs Individuals, through there senses: touch, hear, smell and sight!!!', 'Tweet not related to weather condition'), ('Sunny in Marin County right now. (via @mention // thanks!)', 'Positive'), ('The vent next to the toliet in the guest bathroom provides for a perfect doo doo temp. #shittertwits', 'Tweet not related to weather condition'), ('We all know that rainy days can be stressful when your kids are stuck inside, desperate for activities to occupy... {link}', 'Negative'), ('RT @mention: WINTER STORM WARNINGS for CO and MT for SNOW 6 - 12 inches {link} #weather #news #snomg #blizzard #wx', 'Neutral / author is just sharing information'), ('@mention You free tonight? Looks like the weather might be on our side.', 'Positive'), ('...SHOWERS AND THUNDERSTORMS MOVING SLOWLY OVER THE AREA... AN AREA OF RAIN WITH EMBEDDED THUNDERSTORMS WILL DRIFT SLOW {link}', 'Neutral / author is just sharing information'), (\"Today's weather has me dreaming of chocolate. Thankfully we carry some local favorites...  {link}\", 'Positive'), ('#WEATHER:  12:56 am: 56.0F. Feels 52F. 29.81% Humidity. 18.4MPH Southwest Wind.', 'Neutral / author is just sharing information'), ('The weather is beautiful. Even the birds are bumping. #mnisdope', 'Positive'), (\"Couldn't ask for a better forecast @mention @mention @mention @mention {link}\", 'Positive'), (\"You made a fool out of you, and boy, she's bringing you down. She made your heart melt, but you're cold to the core.\", 'Tweet not related to weather condition'), (\"@mention Hey what's up stranger? not a whole lot over this way I'm back in MI and hating the weather lol What about u\", 'Negative'), (\"my children are not dressed for today's weather.  mommyskills -5\", 'Negative'), ('Cold and rainy here in Boston, Wish I was in ATL with the #Krewe', 'Negative'), ('Sitting in deepsea world with a mixed slush puppy and a scone. :)', 'Tweet not related to weather condition'), ('Really hoping the weather forecast for this weekend is a lie. Come on Blue Skies!!!', 'Negative'), ('It is literally pissing it down in sideways rain. I have nothing to protect me from this monstrous weather.', 'Negative'), ('RT @mention: #childhoodmemories Me @mention @mention @ Sunny Ballin on them niggas at Charles A. Green(Sumner Park)', 'Tweet not related to weather condition'), ('@mention Happy Birthday....weather is so shitty yeeeesh! Well atleast smile bright :D', 'Negative'), (\"GM all looking at another rainy week don't let it make you weak!!\", 'Negative'), ('Mostly sunny and 80 degrees saturday. Perfect weather for #preakness', 'Positive'), ('@mention get out of the house and enjoy the nice weather. So I was really upset. But my little cousins are over... so idk', 'Positive'), ('the storm outside = no bueno', 'Negative'), ('@mention It cld be 4 degrees and yu wld have me outside in shorts, lol... #JustCrazy!', 'Negative'), ('@mention that was the effect I was hoping for haha, I hated that snow, I looked gorgeous that day bed head with old clothes on haha', 'Negative'), ('\"@mention: @mention awwww sounds sad lol its always hot there so yaw need a break anyway\"--that\\'s not fair, I want nice weather lol', 'Negative'), ('Dear #sanfrancisco, this weather blows. Rain? In may? Um no thank you. Please, get it together. Thanks', 'Negative'), ('No b-roll video will be shot until the weather warms up! Watching fans, drivers and crews in winter coats is not enjoyable TV.', 'Negative'), ('YW! RT @mention: Improving my tweet-ability - study time before hitting the sunshine.  Thank you @mention and  @mention for...', 'Positive'), ('Last night was AWESOME. - And the weather is beautiful. Good mood high for the rest of the weekend, which is... {link}', 'Positive'), (\"@mention So this weekend? 3 rainy days in a row and it's May Term you don't have to do anything for class, duh :p\", 'Negative'), (\"Vietnamese's ice coffee for this sunny noon. {link}\", 'Neutral / author is just sharing information'), ('@mention Wow! Snow Patrol are great but getting samey. Try this! What do u think?  {link}', 'Tweet not related to weather condition'), ('Special Weather Statement issued May 13 at 6:42PM EDT expiring May 13 at 9:45PM EDT by NWS Buffalo {link}... {link}', 'Neutral / author is just sharing information'), ('For details about 2 Person Hot Tubs check out his latest web site about Hot Tub Chemicals. Posted in Spa and Med... {link}', 'Tweet not related to weather condition'), ('BLOG: Another Day, Another Round Of Thunderstorms {link}', 'Negative'), (\"@mention next time u are in Paris & weather allows let's have a picnic\", 'Positive'), ('guess ill go move my car...the weather jus fucked up my plans...once again', 'Negative'), ('Lance Berkman with a snow cone diving catch, yeah it happened', 'Tweet not related to weather condition'), ('Listening to KFOR-TV via Weather Channel -- they are reporting tornado is 1/2 mile wide, debris 1.5 miles around tornado', 'Neutral / author is just sharing information'), ('@mention we have it here in Blue Ash. We waited out the storm eating fabulous burgers at the Oakley Pub. :)', 'Positive'), ('Shawdee keeps cummin in my office talkin bout hey sunshine. Um like wtf u want my cookies bitch?', 'Tweet not related to weather condition'), ('This weather on some bullshit .', 'Negative'), ('RT @mention: Georgia weather be pissin me off.', 'Negative'), ('BTW!!!! Hannah Storm can get it.. I will FUCK Ms STorm', 'Tweet not related to weather condition'), (\"I uploaded a @mention video {link} God's Snow (Original Song By Mark Gott)\", 'Tweet not related to weather condition'), ('Did it. Some folks saw me from above and were taken aback. Your left boot has a tiny leak, good thing the water was above 65 degrees.', 'Positive'), ('Weather chills hot air balloon stampede {link}', 'Neutral / author is just sharing information'), (\"@mention Yello!  Looking for the next Snow Patrol? I recommend this. I can't stop playing it! {link}\", 'Tweet not related to weather condition'), (\"Going for a walk on the esplanade just because it's sunny out.\", 'Positive'), ('@mention Bonjour Snow Patrol are great but getting samey. Try this! What do u think?  {link}', 'Tweet not related to weather condition'), (\"High-Atis - It's Always Sunny In Florida  {link} via @mention\", 'Positive'), ('Anyone streaming video from the parks or resorts today? Looks like nice weather in WDW!', 'Positive'), ('Prayers going out to Joplin, Missouri and everyone affected by all this crazy weather!', 'Negative'), ('#Storm #Clouds at #Twilight  {link}  #Redmond #Oregon #Photography #RedGage', 'Neutral / author is just sharing information'), (\"HOT, HOT, and HOT this weekend with a chance of storms, Kendra's webcast is brand new and online now: {link} #fb\", 'Negative'), ('#WEATHER: 7:51 am E: 55.0F. Feels F. 30.01% Humidity. 3.5MPH Variable Wind.', 'Neutral / author is just sharing information'), (\"New #iPhone / #iPad #app 'HurricaneSoftware.com's iHurricane With Push' (#Weather: 3 Stars) $2.99. {link}\", 'Tweet not related to weather condition'), ('RT @mention: Freezing! O.o WeLoveSwift', 'Negative'), ('I am freezing! I wanna cuddle (:', 'Negative'), ('I want the sunshine back, please come back :)', 'Negative'), ('@mention oh hot dayum. Lmao & locked out my house waiting for a key company to come lmao', 'Negative'), ('RT @mention: Significant damage from a tornado in Joplin, MO.  Appears windows blown out at hospital.  Live coverage on The Weather Ch ...', 'Negative'), (\"It's windy here too. RT @mention: Rustling night | blows me away | clutching at straws | where cosmic winds | carry your scent #micropoetry\", 'Neutral / author is just sharing information'), ('Not summer yet, its still chilly Willy out here.', 'Negative'), (\"-_- To them doin these twitter bio's for the people gettin they doctorate degrees. Im tryna leave today sir\", 'Tweet not related to weather condition'), ('Just saw Snow White working at Lady Foot Locker, she was looking hot, seriously, she was the fairest of the mall', 'Tweet not related to weather condition'), ('so sunny and beautiful in Tulsa right now. I decided to spend sometime outside the office and work on my tan.   :)', 'Positive'), ('RT @mention: they just interrupted the emergency weather program with another emergency weather warning. TAKING OUR ASSES TO THE BATH ...', 'Negative'), (\"@mention how's the weather there?\", 'Neutral / author is just sharing information'), ('@mention today has just been a weird day all round. I would blame the weather, but, it just seems to easy.', 'Negative'), ('New event. Severe Thunderstorm Warning from 5/25/2011 1:15 PM to 2:15 PM CDT for Christian Coun... Read more at {link}', 'Neutral / author is just sharing information'), ('Dirt 3 arrives with more rally, new modes and snowy skies. {link}', 'Tweet not related to weather condition'), ('WX ALT: ...A SEVERE THUNDERSTORM WARNING REMAINS IN EFFECT UNTIL 630 PM EDT FOR NORTHEASTERN PICKENS...NORTHWESTERN... {link}', 'Neutral / author is just sharing information'), (\"I have too much to do today -___- And the weather doesn't make it any better.\", 'Negative'), ('RT @mention: My kids keep using words like \"fresh air\" & \"sunshine.\" Must go investigate. While I\\'m gone, would you read? {new post}  ...', 'Neutral / author is just sharing information'), ('On our way ;-) RT @mention: Its 83 Degrees & only Noon @mention just landed We Bout to be Outchea (cont) {link}', 'Neutral / author is just sharing information'), ('Statesville, NC Weather - 2:00 PM- Fair Skies, Temp: 74.9, Wind: 3.6, Rain Today: 0.00', 'Neutral / author is just sharing information'), (\"In Rhode Island and it's a beautiful sunny day!\", 'Positive'), ('@mention s friday at 6 at tha stadium ...if tha weather bad its gone be in tha gym at 3', 'Negative'), ('THE STORM IS UPON US - PTSD AND OUR VETERANS - Veteran Awareness Coalition {link}', 'Tweet not related to weather condition'), ('@mention @mention Something else to bear in mind for #muchado - pray for good weather!', 'Positive'), ('@mention Oh wow, you had hail? We just got dark clouds passing overhead in southern NH. Now it is sunny and windy.', 'Neutral / author is just sharing information'), ('houston weather, may 21, diverticulitis, may 21st, ...: houston weather may 21 diverticulitis may 21st mary tyle...  {link}', 'Neutral / author is just sharing information'), (\"Why has the weather sucked so bad lately? A hurricane isn't gonna stop me from getting my swag on.\", 'Negative'), ('Weather Alert: Flood Warning issued May 22 at 6:32PM MDT expiring May 23 at 9:32AM MDT by NWS Glasgow {link}... {link}', 'Neutral / author is just sharing information'), (\"@mention how bout chasing the money till it's sunny w/ no sleep.  money stretch long.. Wall street.\", 'Tweet not related to weather condition'), ('so my moms going out tonight ^_^ ...with her \"hot date\" lmao', 'Tweet not related to weather condition'), ('@mention @mention Tech Ops stated that the ticket is on hold until storm damage is repaired. No ETR yet.', 'Neutral / author is just sharing information'), ('I just realized that I am probly the only person dumb enough to be Tweeting @mention IMDB info while stuck outside in a hail storm Lol', 'Negative'), ('@mention There might be some snow up in the mountains, buh I live in the city so no snow here :)', 'Positive'), ('@mention yikes. sounds like you know your seasons. #louisville on that crazy stuff like #detroit weather-wise.', 'Negative'), (\"Storm chasers - if you are in Lawton, OK, Mon-Wed this next week, we'd love to do coffee.\", 'Tweet not related to weather condition'), ('RT @mention: @mention yeah me too,i`m freezing man...don`t let that sunshine fool you FOOOOOOOOOOOOOOOOOOOOOOL!!!!!!!!!!!', 'Negative'), ('@mention not in sunny dover! haha', 'Positive'), ('Tags: Applicat, Blackberry Device, Book Flights, Clever Tools, Currency Converter, Day Weather Forecast, Device ... {link}', 'Tweet not related to weather condition'), (\"7:30 final and its like 95 degrees. I can't take the biggest exam of the year under these conditions. #stupidhot\", 'Negative'), ('Just seen this toyota commercial and im thinking why would a truck have to go thru almost 300 degrees?', 'Tweet not related to weather condition'), (\"Burr it's so cold out today! I definitely am not looking forward to sitting outside at a track meet! #cold #Ithoughtitwassummer\", 'Negative'), (\"Partly Sunny Skies Show Up For Mother's Day - {link}\", 'Positive'), ('#WEATHER: 10:53 pm : 49.0F. Feels 46F. 29.94% Humidity. 6.9MPH South Wind.', 'Neutral / author is just sharing information'), ('78.1F (Feels: 78.1F) - Humidity: 87% - Wind: 9.2mph NE - Gust: 13.0mph - Pressure: 1008.7mb (+0.5)  #weather {link}', 'Neutral / author is just sharing information'), (\"@mention it's cold outside\", 'Neutral / author is just sharing information'), ('Mann da weather ppl nva kno wat dey talkin bout..', \"I can't tell\"), ('@mention same here in the bluegrass! I could do w/o the humidity though! :-)', 'Positive'), (\"BLOG UPDATE: {link} What's the difference between a dust devil & dust storm? #azwx\", 'Neutral / author is just sharing information'), ('RT @mention: Morning! Dry start to day, with some patchy fog. An isolated shower/storm possible later, but not as many as yesterday. ...', 'Neutral / author is just sharing information'), (\"Right on my way to Chelsea, not sure what pub were going to yet.   0 3 WIN WE BE NICE  It's sunny here now in, the only way is Essex\", 'Positive'), (\"@mention I've heard the weather is lovely up there!\", 'Positive'), (\"There ain't no sunshine when she's gone.\", 'Tweet not related to weather condition'), ('Freezing my butt off. (@ Long Sands Beach) {link}', 'Negative'), (\"@mention 's tomato plant is growing so nicely in the weather garden! #weathermanhasagreenthumb !  {link}\", 'Positive'), ('@mention old lady with hot pink feather extensions.. The reason i want mine out!  {link}', 'Tweet not related to weather condition'), ('Just a heads up to everyone, weather is crazy everywhere, not just where u live. I thought I needed to clear that up.', 'Negative'), (\"@mention Hi Monali! Nice to meet you! I'm SUPER jealous of your profile picture..sure beats the rainy weather in DC!\", 'Negative'), (\"I can clearly see the sunshine, but I'm steady walking thru the rain** Boosie\", 'Negative'), ('Dear perfect weather, thanks for the vest lunch hour of all time. (@ Lady Bird Lake Trail w/ 2 others) {link}', 'Positive'), ('RT @mention: Weather Chanel cameraman turns away from recovery of body live, after EF4 tornado slams Joplin Missouri. CNN, MSNBC : ...', 'Negative'), ('@mention storm? Be safe! The weather has been crazy lately!', 'Negative'), ('Damn its hot out. Even when not working on a 240 degree engine...', 'Negative'), ('RT @mention: Why is it 80 degrees inside and outside? I need another blizzard.', 'Negative'), ('Check out the line-up of the Main Stage ... hot off the presses! {link}', 'Tweet not related to weather condition'), ('Omg storm and hail please go away so I can catch my flight home!! #ihatestorms', 'Negative'), ('Such an awesome day out today. Gotta love sunny days.', 'Positive'), ('soo I pressed my way out to bible study in this weather! truly a #sacrifice', 'Negative'), ('RT @mention: Its hot af outside.', 'Negative'), ('Did some Carmen Electra Aerobic Striptease & Cindy Crawford DVD. Cycled, hula-hooped, snow-ball fought & did some balancing on the Wii Fit.', 'Tweet not related to weather condition'), ('Tatum, NM @ 7:00 PM: Temp:86F(H 90/L 52), Hum: 8&#x25;, DewPt:17F, Wind: S at 18 G 40.0 mph, Rain:0.00 In. #weather', 'Neutral / author is just sharing information'), ('Buggin for only having a t shirt on...shaking like a stripper #freezing', 'Negative'), ('RT @mention: Iso. t-storm this evening if anything, likely get the game in tonight. #Royals fcast: {link}  Sorry @mention ...', 'Neutral / author is just sharing information'), ('Its amazingly hot outside.. That means its time for the pool. Thank Goodness I look good in a 2 piece. :)', 'Positive'), ('84.2F (Feels: 89.9F) - Humidity: 67% - Wind: 15.2mph SSE - Gust: 20.6mph - Pressure: 1011.8mb (-0.2)  #weather {link}', 'Neutral / author is just sharing information'), ('Bring on the sunshine bring on the good times :) #summer2011', 'Positive'), (\"RT @mention: I need your lovin', like the sunshine.\", 'Tweet not related to weather condition'), ('*HOT!* Discount 60% Hermes handbag online sale, 2011 newest style included! Go check it out!!! {link} #ad', 'Tweet not related to weather condition'), ('Not outside but looking out the window at them. Its to hot to be bothered by the animals.', 'Negative'), ('Discovery Kids Climate Cubes Weather Information Station - $12.99 + S&H {link}', 'Neutral / author is just sharing information'), (\"@mention Looking forward to your show tonight in Salt Lake City. The weather is supposed to be great. Hopefully you'll toss me a pick\", 'Positive'), (\"RT @mention: Who's excited for TPC this weekend? Sunshine,  beach & golf - life is good!\", 'Positive'), ('You can plan for a change in the weather and time.', 'Neutral / author is just sharing information'), (\"fuckin hell. its gonna rain and be chilly in st louis. of course. why can't it be like 90 and sunny.....ill never go there again LOL\", 'Negative'), (\"It's cold as hell outside and they in the pool kickin it o_O\", 'Negative'), ('Check it out!! RT @mention: I posted 46 photos on Facebook in the album \"Storm Damage\" {link}', 'Neutral / author is just sharing information'), ('This weather is crazy, especially while driving. Maybe ballet will be canceled!', 'Negative'), ('So the weather is gettin pretty bad..Idk if im still gonna b able to come home today :-S', 'Negative'), ('Freezing', 'Negative'), (\"Today's weather is simply *perfect*. Rowan's so happy to be outside. But oy, $18 on sunblock for him? My mother just used olive oil on us :/\", 'Positive'), ('Have to say though I think I have wind burn!  Wow it was windy! However tent,  windbreak, ME AND ER and guests survived!', 'Negative'), ('Stay safe all! RT @mention: New event. Severe Thunderstorm Watch from to 11:00 PM EDT for @mention {link}', 'Neutral / author is just sharing information'), ('@mention nope. Never got a chance to head out. Next time. Thanks for the recommendation. Wish weather was better down there', 'Negative'), ('I earned the Six Degrees sticker on @mention! {link}', 'Tweet not related to weather condition'), ('...SCATTERED THUNDERSTORMS DEVELOPING ACROSS WEST TEXAS AND SOUTHEAST NEW MEXICO WILL BE CAPABLE OF PRODUCING DRY LIGHT {link}', 'Neutral / author is just sharing information'), ('Really, what is going on with this weather....Tent no tent......that is the question for all my brides right now......', 'Negative'), (\"What a picture perfect day here in Coeur d'Alene!  Anyone else out enjoying the sunshine?\", 'Positive'), (\"It's 82 degrees\", 'Neutral / author is just sharing information'), ('RT @mention: Tonight and tomorrow, partly cloudy. Lows around 56. Highs around 76. Chance of storms. #Richmond #weather', 'Neutral / author is just sharing information'), ('Now Playing on BaltimoreNetRadio: EDDIE RABBIT - I Love A Rainy Night', 'Tweet not related to weather condition'), ('Severe Thunderstorm Warning for Kay and Noble County until 6:45pm. {link}', 'Neutral / author is just sharing information'), ('@mention Hi Five! I love Snow Patrol, so this is right up my street. I have it on repeat! {link}', 'Tweet not related to weather condition'), (\"it's too damn hot for the power to be out....\", 'Negative'), (\"Chef Gelman of The Driskill joins us for a beer pairing duel against Chef Rob Snow of Judges' Hill Restaurant!!... {link}\", 'Tweet not related to weather condition'), ('@mention yea dis weather trash', 'Negative'), ('in the house washing clothes on this rainy day #BORED', 'Negative'), ('Record LOW humidity in Phoenix today:  {link}', 'Neutral / author is just sharing information'), ('Bikini Weather Pictures - New Picture -  {link} #Bikini #Babes', 'Tweet not related to weather condition'), (\"damn its goin rain all next week -.- where the 80's weather att ?\", 'Negative'), ('\"When will I see you again\" by the 3 degrees on the radio has precious moments in the lyrics, on a rainy afternoon #preciousmoments', 'Neutral / author is just sharing information'), ('Jeff Will Miss Oprah & Gives Her A Shout Out The Only Way A Weatherman  Could!!! 7day Forecast. #Oprah | {link} via @mention', 'Tweet not related to weather condition'), ('It is hot ass hell outside', 'Negative'), (\"RT @mention: Tim Minchin Storm' rant animated using Adobe After Effects, Flash, Photoshop & a Wacom Cintiq - {link}\", 'Tweet not related to weather condition'), ('I hate auto lock doors. Locked myself out of my apartment and am freezing to death outside in a tee shirt. #fb', 'Negative'), (\"There's got to be a least 50 people still left at the old Overstock.com Coliseum. No Overstock on A's fans on rainy nights. #MLB\", 'Neutral / author is just sharing information'), ('Freezing. Cuddling...alone :(', 'Negative'), ('Da thangs I wud do to sunny anderson #sheesh', 'Tweet not related to weather condition'), ('@mention my sisters pregnancy until I can finally hold that bundle of sunshine:)', 'Tweet not related to weather condition'), ('Lluvia/rain (Observemos El Tiempo/Weather Watchers):  {link}', 'Neutral / author is just sharing information'), ('Out walking enjoying the sunshine...NOT!', 'Negative'), ('It is a soup day. . . And a selling golf carts by text message rainy day. . . Outside of the box? Or genius?', 'Neutral / author is just sharing information'), (\"RT @mention: @mention I was hoping the colder weather would hasten their demise...I'm afraid it's only prolonged our inevitable d ...\", 'Negative'), ('Audible! Skipping KY weather; are now Nashville bound.', 'Neutral / author is just sharing information'), ('The weather better be right tonight!', 'Positive'), ('GD: Light Rain and Windy and 54 F at Grand Island, Central Nebraska Regional Airport, NE Winds are from the North at 26 {link}', 'Neutral / author is just sharing information'), (\"TGif biatches! Here's to a sunny Friday regardless of rain and drama! #popularnameregardlessofparticipation\", 'Positive'), ('Check this out #LOVE?RS was watchin @mention an came acros it dusnt she luk amazingly cutely hot? just sayin {link}', 'Tweet not related to weather condition'), ('#WEATHER: 3:54 pm M: 81.0F. Feels F. 29.66% Humidity. 20.7MPH Southwest Wind.', 'Neutral / author is just sharing information'), ('Ppl lookin like hot ghetto messes of tha week out here! Lmbooooo', 'Tweet not related to weather condition'), ('@mention i knew it im like the sunshine to your morning the pencil to your paper the eyelid to your eye', 'Tweet not related to weather condition'), ('Keep your face to the {link}  sunshine and you cannot see the shadow.', 'Tweet not related to weather condition'), ('Playing euchre in a windy, sunburnt outside tourney drinking yoohoo, wearing zebra print sunglasses break this poker face.', 'Positive'), (\"@mention fine bout to go this interview. How's the weather there???\", 'Neutral / author is just sharing information'), ('RT @mention: Beautiful weather brings every1 n their mama out SHEESH&lt;&lt; Tell one of dem moms to feed me!!', 'Positive'), (\"I don't mind the rain... your face is like sunshine &lt;3 &lt;3 &lt;3\", 'Positive'), ('Hanging around nothing else to do but frown rainy days and #mondays always get me down -The Carpenters', 'Negative'), ('Another amazing Southern Hemisphere weather appropriate garment... {link}', 'Positive'), ('Spending this rainy day at the museum #MOMA #Sundayafternoon @mention', 'Neutral / author is just sharing information'), ('Wednesday - Snow showers. Snow accumulation 3 to 5 inches. Highs in the 30s.  {link}', 'Neutral / author is just sharing information'), ('pretty much addicted to Storm Warning right now...amazing song :)', 'Tweet not related to weather condition'), (\"@mention it's ok ;o) hot out tho. but cloudy.\", 'Neutral / author is just sharing information'), (\"@mention I couldnt agree more. What's the temp?\", 'Neutral / author is just sharing information'), (\"227's YouTube ESPN Pro-am draws stars to storm-battered Alabama: Alabama football coach Nick... {link} BCS-College Football\", 'Neutral / author is just sharing information'), (\"@mention i hope!! i've been sick as a dog lately. fucking weather has me screwed up. :-(\", 'Negative'), ('#WEATHER:  6:52 am : 63.0F. Feels F. 29.65% Humidity. 0.0MPH North Wind.', 'Neutral / author is just sharing information'), (\"If you're in need of any huge logs or branches, there are plenty floating in the Yellowstone River right now. #rain #flooding #Billings\", 'Neutral / author is just sharing information'), ('Gardner WX 05/12/11 06:00 AM | 58F, 86&#x25; Humidity, Feels Like 58F | Alerts: NO CURRENT ADVISORIES | {link}', 'Neutral / author is just sharing information'), (\"yay it's gonna storm! c:\", 'Positive'), (\"it's all gone very quiet here at Wine HQ. Maybe everyone has gone home early to enjoy the sunshine? Whats everyones plan this weekend then?\", 'Positive'), ('Man its so windy out here', 'Negative'), ('#WEATHER:  8:53 pm : 67.0F. Feels F. 29.82% Humidity. 6.9MPH Southeast Wind.', 'Neutral / author is just sharing information'), (\"I'm at Snowy White Laundromat (1291-1299 N Broadhead Rd, Monaca) {link}\", 'Neutral / author is just sharing information'), ('@mention been chatting up a storm on #BlackberryMessenger with a bunch of cool MMA people', 'Tweet not related to weather condition'), (\"just informed my sister that canucks fans stole 'the green man' from its always sunny in philly...she was surprised. THE MORE YOU KNOW ---*\", 'Tweet not related to weather condition'), ('{link} Ukraine weather forecaster sparks political storm', 'Tweet not related to weather condition'), ('So far today is pretty great weather wise for this 7lb hot dog BBQ.', 'Positive'), ('@mention I share you optimism about warmer weather but the storms look quite impressive on radar.', 'Positive'), ('#WEATHER:  2:55 pm : 86.0F. Feels F. 30.06% Humidity. 4.6MPH Southeast Wind.', 'Neutral / author is just sharing information'), ('Northern IN likely to go under a weather watch per SPC soon...details to come.', 'Neutral / author is just sharing information'), ('Pic: Check out the little T-storm that just popped up on radar south of the track. {link}', 'Neutral / author is just sharing information'), (\"@mention At least it ain't snow!\", 'Positive'), ('#WEATHER:  7:52 am : 65.0F. Feels F. 29.53% Humidity. 16.1MPH Southwest Wind.', 'Neutral / author is just sharing information'), (\"@mention I'm off on Thursday but I'm keeping local at the moment for the lack of spondos! If it's sunny I'll be out photographing...\", 'Neutral / author is just sharing information'), ('May be a long night.  More bad weather to come, so please limit travel and listen to warning sirens or alerts on the radio & t.v.', 'Negative'), (\"I'm at Turnpike S (Florida's Turnpike, Sunshine Parkway) {link}\", 'Tweet not related to weather condition'), ('RT @mention: Damn this thunder storm kame out of No where', 'Negative'), ('Cool and rainy.  Solution: rum and cider at 8am! lol', 'Neutral / author is just sharing information'), ('I can\\'t wait until tomorrow night so that when I\\'m still alive, I\\'ll tweet up a storm, \"world ends on Saturday\" my ass', 'Tweet not related to weather condition'), ('Nothing like sirens going off in the area to add a sense of immediacy to the weather reports.  At least the worst has passed to the north.', 'Negative'), ('Valley Center area is under a several thunderstorm watch until 10 p.m.', 'Neutral / author is just sharing information'), ('Happy Mothers Day, enjoy the sunshine, now... looking forward to Fathers Day.', 'Positive'), (\"Couldn't ask for better weather!\", 'Positive'), ('Amen RT @mention Bulls defense is too good to get blown out. They just have to weather this storm and take the lead in the 4th', 'Tweet not related to weather condition'), ('So nice to be able to wear a skirt and walk outside in the sunshine without feeling cold! I love the sun. #summer', 'Positive'), ('@mention ur twitt sad some ppl r so temp soooooooooo fake', 'Tweet not related to weather condition'), ('56 Degrees Saturday night?? YES! I love it', 'Positive'), ('@mention We can finally compete with your weather in FL! Sunny & 70 here in Chicago today!', 'Positive'), (\"Tuesday's Hourly Wx for St. Mary's County: * 7AM: Rain. 62*F. * 12PM: Rain. 68*F. * 3PM: Thunderstorms. 71*F.\", 'Neutral / author is just sharing information'), (\"Hitting the 90s that's naked weather\", 'Negative'), (\"Sounds delightful! @mention RT: Can't wait to stroll on the beach and brain storm!\", 'Positive'), ('@mention Am I wrong to think the boy has never seen snow in March?', 'Neutral / author is just sharing information'), ('I woke up to a beautiful ball of red coming over the horizon...oh where art thou ball of sunshine so enjoy having your around', 'Positive'), ('Rainy Summer featured my #vintage shoes {link} via @mention', 'Tweet not related to weather condition'), ('Insaneeee weather over here!!!!', 'Negative'), (\"It's hot as fuck outside . If y'all going out put on extra deodorant\", 'Negative'), ('@mention unfortunately the same here (Sunny skies).  really need some rain.Too much sun can be as depressing as too much rain. #pubwrite', 'Negative'), ('Freaking out about this final, and the library is so damn hot!', 'Negative'), ('Visit {link} & #NowPlaying on {link} Long Way To Fall by Malibu Storm', 'Tweet not related to weather condition'), ('Got a quick run in before day 3 of weather starts.', 'Neutral / author is just sharing information'), (\"@mention paid work is all good :0) Hopefully we'll have lots of sunshine for you to enjoy too xx\", 'Positive'), ('RT @mention: Severe Thunderstorm Warning for Dakota, Goodhue, Rice and Steele County in MN until 2:30pm. More: {link} & o ...', 'Neutral / author is just sharing information'), (\"@mention   I think I have some snow too!  (although it's finally Spring this week!)\", 'Positive'), ('#WEATHER:  1:53 am : 61.0F. Feels 58F. 29.75% Humidity. 18.4MPH West Wind.', 'Neutral / author is just sharing information'), ('Scattered showers, thunderstorms possible for Las Vegas {link}', 'Neutral / author is just sharing information'), ('#np snow money- bun b', 'Tweet not related to weather condition'), ('The weather is getting hot again. *sigh*', 'Negative'), ('#WEATHER:  4:56 pm : 70.0F. Feels F. 29.96% Humidity. 6.9MPH East Wind.', 'Neutral / author is just sharing information'), (\"RT @mention: Learn more about CMC's new bachelor's degrees tonight in Edwards: 5:30-7pm! Sign up, learn more at {link} ...\", 'Tweet not related to weather condition'), ('Feather in the Storm: A Childhood Lost in Chaos:  {link}', 'Tweet not related to weather condition'), (\"What Produces Pippa's Perfect Posterior? Find out the Secret! Plus: New Pics Of Pippa Looking Hot In Tight Jeans: {link}\", 'Tweet not related to weather condition'), ('playin 2k and j.crawford jus did his move #cold', 'Tweet not related to weather condition'), (\"My brother told me it.was hot out , so I came out in a tank , now I'm freezing\", 'Negative'), ('@mention I know what you mean! :) the day is going well,  we are finally having nice weather', 'Positive'), ('RT @mention: ...even the weather in OKC is #thunder[ing]up', 'Neutral / author is just sharing information'), ('Nothing beats a cozy, rainy evening in with homemade chili, cornbread, and too much bourbon for a Thursday night.', 'Positive'), (\"@mention manny doesn't want to test the weather\", 'Neutral / author is just sharing information'), ('Video: Blawan - Getting Me Down More summer vibes for rainy days {link}', 'Tweet not related to weather condition'), ('Putting all utensil away, covering all mirrors/monitor/television, staying away from windows and hiding in the closet! A storm is coming BRB', 'Negative'), ('So the storm is no joke back in greensboro', 'Negative'), ('A church in Tuscaloosa is adopting 25 storm victim families from the Rosedale Community: {link}', 'Neutral / author is just sharing information'), ('Had a great weekend thanks to the sunny weather. Now I have to sit inside for 8 hours at work. Boo!', 'Positive'), (\"I see it's still windy here in Vegas. Can't say I missed it. #fb\", 'Negative'), (\"A week from today is Solar SUNday at the Idaho Green Expo.  Let's hope it's sunny so you can be amazed at all of... {link}\", 'Positive'), ('why is just windy by my post is it because all of the trees and buildings!', 'Negative'), ('#WEATHER:  7:53 pm : 79.0F. Feels F. 29.63% Humidity. 24.2MPH Southeast Wind.', 'Neutral / author is just sharing information'), ('US GAS: Warm-Weather Forecasts Lift Natural Gas Futures {link}', 'Neutral / author is just sharing information'), ('Remember to always play after the storm. \"Mattie J. T. Stepanek\"', 'Tweet not related to weather condition'), ('The bad news about warm weather, there seem to be more assault crimes. {link}', 'Negative'), (\"Dem wolf grey 5's aint as clean as I thought they were gone be *shrugs* I know shaq got sum hot shit coming out..\", 'Tweet not related to weather condition'), ('RT @mention: This weekend only! FREE SHIPPING at Yah Bag with coupon code SUNSHINE. Pass it on! #etsy', 'Tweet not related to weather condition'), ('Is anyone else just sick and tired of this weather?', 'Negative'), ('This weather makes me very happy!', 'Positive'), (\"It feels grwat in durham lol RT @mention It's sooo hot out here!! #deepsouth\", 'Positive'), ('Idk y she got all this COLD air blowing out on the baby like this....', 'Negative'), (\"Ew... bought a salad at the Sunshine store and the chicken has gone bad.  One bite won't make me get sick, right? Ick.\", 'Tweet not related to weather condition'), (\"I can't find a way to delete my iWitness Weather account but at least I've deleted ALL my photos on the site. (1 of which had 3K + views)\", 'Tweet not related to weather condition'), ('Tomorrows 82 degrees ? thats what im fuckin talking abt ^_^ .', 'Positive'), (\"Hi Dawn :) @mention you plz send some of your warm OK weather here. Brrrrr :D Hope you're having a gr8 Monday! DawnRachel13 @mention\", 'Neutral / author is just sharing information'), ('@mention We live out in the country (or the Boonies as we like to call it) so we see these things quite often as it starts to warm up.', 'Neutral / author is just sharing information'), (\"What's happening with all the #SouthEastToday weather girls all leaving @mention and now Kaye!  :(\", 'Tweet not related to weather condition'), ('Gov. Bentley: 238 storm related fatalities in Alabama {link}', 'Neutral / author is just sharing information'), ('RT @mention: Ready to get on this flight back to slc. Later mammoth. Kinda bummed snow season is over not gonna lie', 'Negative'), ('Getting my eat on at Red Lobster. Snow crab legs, lobster tail, shrimp and cheddar biscuits. Need extra workout day 2 burn off the cals.', 'Tweet not related to weather condition'), ('@mention haha, sunny down here!', 'Positive'), ('Vintage Linen Lot  14 items Snowy White  great by ShandrasLinens {link} via @mention', 'Tweet not related to weather condition'), (\"Five months after the ice storm killed my sago palms I just realized that they're in pots and I could have moved them inside. Yup. #dumbass\", 'Negative'), ('#LISTEN Sunny Black - Lets Get It In.. - {link}', 'Tweet not related to weather condition'), ('Preparing for the worst but still praying for the best with this storm stuff!', 'Negative'), (\"RT @mention: Check out the ENTIRE album here!!! {link} then buy it, cuz it's HOT!!!!!\", 'Tweet not related to weather condition'), ('Rainy weekend ahead...what will you be doing?~ Connie', 'Neutral / author is just sharing information'), ('Help #Joplin-The Salvation Army providing emergency relief services.   Text the word \"Joplin\" to 80888 to make a $10 donation. #CNN weather', 'Tweet not related to weather condition'), (\"What a tease yesterday's nice weather was. .\", 'Positive'), ('#ncwx Conditions for Durham, NC at 12:49 pm EDT: Current Conditions: Partly Cloudy, 86 FForecast: Mon - Isolated Thunderstorms. High:...', 'Neutral / author is just sharing information'), (\"@mention Yello! I love Snow Patrol, so this is right up my street. I'm love this song. {link}\", 'Tweet not related to weather condition'), (\"@mention stuck overnight?! That's awful! I've been delayed by blizzard but it was before my flight too off. I feel sorry for connecting.\", 'Negative'), ('Special Weather Statement issued May 13 at 1:46PM CDT expiring May 13 at 2:45PM CDT by NWS Mobile {link}/', 'Neutral / author is just sharing information'), ('This mornin my kids were makin me crazy! Just now we found a dvd of them singin U R My Sunshine at ages 20 mos, 4 & 6 &lt;3 #myraptureplaylist', 'Tweet not related to weather condition'), (\"It's 66 baseball degrees at beautiful Baum Stadium.  Let's play two!!\", 'Positive'), (\"I'm glad it's nice weather here for Bike to Work Day. Not that I did. Bike to work. I just like nice weather.\", 'Positive'), ('RT @mention: RT @mention: U.S. National Severe Weather Alerts Map - WeatherBug.com {link}', 'Neutral / author is just sharing information'), (\"i Had Great Mother's Day Weekend weather was very nice\", 'Positive'), (\"@mention ..watching The D.E.N.N.I.S. system and thinking I need new Sunny in my life. Can't wait!! I'm in love with all of you.&lt;3\", 'Tweet not related to weather condition'), ('I favorited a @mention video {link} Keep On The Sunny Side - June Carter Cash', 'Tweet not related to weather condition'), ('Its super awful here in OK, the weather is soo moody.', 'Negative'), (\"On my way to celebrate the homie @mention's graduation. 2 degrees. 1 woman. #motivation\", 'Tweet not related to weather condition'), ('Reed Timmer is following Fairview storm right now, while launching 6 probes into large tornado.', 'Neutral / author is just sharing information'), ('RT @mention: Need that warm weather to come back', 'Negative'), ('Live web coverage from Springfield, MO of the #Joplin #tornado: {link}/  Thanks @mention', 'Neutral / author is just sharing information'), ('Hail storm-1 andrew-0', 'Neutral / author is just sharing information'), (\"@mention why didn't Brian say anythng on the weather segment?\", 'Neutral / author is just sharing information'), ('RT @mention: TORNADO WARNING N central TX TORNADO NEAR SAGINAW...MOVING EAST SOUTHEAST AT 40 MPH.  SOFTBALL SIZED HAIL {link} ...', 'Neutral / author is just sharing information'), (\"I love when it rains but it's bot dark and gloomy out.... This is just perfect weather to not be single.\", 'Positive'), ('Why the fuck all my teachers tryna go outside today?! Its too hot for dat shit', 'Negative'), ('Love this Iowa weather that goes from warm and sunny to rainy and lightening in less than 2 seconds:):):)', 'Positive'), ('VIDEO: Hay fever surges in UK heatwave {link}', 'Neutral / author is just sharing information'), ('Severe Thunderstorm Warning for Lancaster County in PA until 7:30pm EDT. #pawx', 'Neutral / author is just sharing information'), (\"I'm outside at 9 o'clock at night at its 75 degrees out. #fuckyeahsummer!!\", 'Positive'), (\"@mention If this is what Seattle is like, I'm not surprised somebody killed Rosie Larsen. Everybody must be surly. #TheKilling #Rain\", 'Negative'), ('New:: Tsunami warning EAS TSW on tv and weather radio {link}/', 'Neutral / author is just sharing information'), ('Am I the only person who heard that loud thundering storm last night or was that just me?', 'Neutral / author is just sharing information'), ('Scattered thunderstorms this afternoon, high 62 (17 C).  Low  51 (11 C) tonight.', 'Neutral / author is just sharing information'), ('60 degrees. And its almost the end of may. Wisconsin... I hate you.', 'Negative'), ('Fuck you tavi you stupid fucking idiot. Cancel practice before we fucking drive 35 minutes in a fucking storm to medina you fuck', 'Negative'), ('#storm yeah? {link}/', 'Negative'), ('Italian toddler left by dad in hot car dies - Yahoo! News {link} #WTF? ALERT, #PullUp! #Get heads out of Winter Den! #HotNow!', 'Tweet not related to weather condition'), ('The weather gods have been listening. This is the weather I LOVE in #Portland', 'Positive'), ('RT @mention: Learn about online masters psychology degrees {link}', 'Tweet not related to weather condition'), (\"Outside @mention waiting to see @mention & @mention. It's freezing but worth it :-)!!!!\", 'Positive'), ('SPC MD 747: MD 0747 CONCERNING SEVERE THUNDERSTORM WATCH 283... FOR PARTS OF CNTRL AND NERN TX / SWRN AND CNT... {link}', 'Neutral / author is just sharing information'), ('Art In A Busy World: Sketching On Rainy Days. {link}', 'Neutral / author is just sharing information'), ('Friday evening. Weather? Beautiful. Last man standing at the office. Bitter? Nah. It only makes payday that much sweeter. Stay hungry.', 'Positive'), ('We have been Busy collecting Wal Mart Gift Cards Via Pay Pal to Give to Tornado and Storm Victims to Present to... {link}', 'Neutral / author is just sharing information'), (\"@mention yeah, i'm talking, you see these pics of the river up on the rocks, as opposed to storm conditions\", 'Neutral / author is just sharing information'), ('Ughhhhhh its so damn hot outside', 'Negative'), (\"@mention Fun Vata article! It's so windy here, everyonne's Vata is through the roof!\", 'Negative'), ('{link} Montreal Weather Webcams st. Hubert street Plaza, Qc. Canada', 'Neutral / author is just sharing information'), (\"50 degrees and rainy. Guess there's no cookout.\", 'Negative'), ('is it to cold outside to be wearing sandals ?', 'Neutral / author is just sharing information'), ('RT @mention: severewarn: Severe Thunderstorm Warning for Benton, Mille Lacs, and Sherburne County in MN until 7:45pm CDT. #mnwx', 'Neutral / author is just sharing information'), (\"hereeee we go with blowing sunshine up scotty's ass. #americanidol we don't need another country star. NO THANK YOU\", 'Tweet not related to weather condition'), ('#WEATHER:  6:51 pm : 74.0F. Feels F. 29.88% Humidity. 0.0MPH North Wind.', 'Neutral / author is just sharing information'), ('Sunshine to continue throughout Western New York {link}', 'Neutral / author is just sharing information'), ('On my way to the Train... Storm comes at 5 my train leaves at 5:15 =O', 'Negative'), (\"RT @mention: Uqhhh it's sooooo hot outside ! #Texasweather\", 'Negative'), ('check out this song {link} RT @mention \"hey Drake.\" \"Whats up Gavn.\" \"Your mom\\'s hot.\" \"DUD...', 'Tweet not related to weather condition'), ('In Florida, the hotter it is outside, the colder it is inside. Freezing at my desk today.', 'Negative'), ('Rhode Island: sunshine all beautiful _ MA : Dark n grey skies! Shits ugly!', 'Negative'), ('Thanks for all the awesome birthday wishes! I think I might fine a sunny spot and curl up like a cat!', 'Positive'), ('RT @mention: You know the old saying: April showers bring May severe thunderstorms.', 'Negative'), ('Guess another severe #Thunderstorm is heading toward #WV. :-/  #NoMoreRain', 'Negative'), ('Cold weather. Taylor Swift is playing. Suddenly sleepy..zzZzZ', 'Neutral / author is just sharing information'), (\"Where's the sunshine? I think Texas is calling my name! Time to move back home!\", 'Negative'), (\"it's 80 degrees for what?\", 'Negative'), (\"RT @mention: Life isn't about waiting for the storm to pass, it's about learning to dance in the rain.\", 'Tweet not related to weather condition'), ('Um I would like a powerade slush. Thank you. RT @mention: finna be on this #HappyHour flow at Sonic #yesyes', 'Tweet not related to weather condition'), ('#WEATHER:  12:52 am: 74.0F. Feels F. 30.03% Humidity. 5.8MPH Southeast Wind.', 'Neutral / author is just sharing information'), (\"Good morning and HOLY HUMIDITY! This is the one thing about moving back east from Colorado that I didn't miss..my face hates it!\", 'Negative'), ('Watch KNWA now. Dan Skoff & Clint Boone are tracking severe weather in Benton County. Possible tornadoes may be brewing', 'Neutral / author is just sharing information'), (\"RT @mention: I ffucked enough hoes now its time 2 count money cuz i'll be damn if dis summer be dark n sunny!!!\", 'Negative'), ('Sunshine linked to fatherhood | Parent Pages for parents, families ... {link}', 'Tweet not related to weather condition'), ('@mention Hannah Storm... that sounds like  a comic book character name...', 'Tweet not related to weather condition'), ('Partly sunny this afternoon with isolated t-showers.  ~80. Becoming more humid tonight as warm front approaches, then passes. Warm. 60.', 'Neutral / author is just sharing information'), ('@mention DM me yur email so i can sesnd yu this new music from sunny red... 28day later mixtape... #BGN', 'Tweet not related to weather condition'), (\"@mention We've had a lovely weather all week. It started turning today. Now, it's just weird!\", 'Positive'), ('Looking up in columbus circle #nyc #rain {link}', 'Neutral / author is just sharing information'), ('Polo boots in 80 degree weather #fail', 'Negative'), ('News - Current Conditions : 64.4F, Heavy Thunderstorms and Rain - 7:07 PM EDT May. 16: Temperat... {link} #News #Greensboro', 'Neutral / author is just sharing information'), ('Is Hot As Hell Outside Today In Da City Of #Decatur', 'Negative'), ('I hate this weather. Good day for a movie marathon though... Xmen! :D', 'Negative'), ('RT @mention: My room is freezing', 'Negative'), (\"Severe Storm Damage In Southeast Wisconsin: At the height of Sunday's severe storms, thousands lost power in... {link}\", 'Neutral / author is just sharing information'), ('#WEATHER:  1:53 pm : 59.0F. Feels 58F. 30.06% Humidity. 6.9MPH West Wind.', 'Neutral / author is just sharing information'), (\"It's not storm damage or budget negotiations, but many Minnesota military families are facing hardships now too. {link}\", 'Tweet not related to weather condition'), ('Hot off the presses! Check out the new issue of the Amadeus \"Prospectus\" newsletter. {link} #travelagent #traveltech', 'Tweet not related to weather condition'), ('#arenafootball @mention @mention {link} TD Storm off net!', 'Tweet not related to weather condition'), (\"@mention I'm doin good 2 jus waiting on some good weather\", 'Neutral / author is just sharing information'), ('Planting strawberries @mention and enjoying the sunshine!', 'Positive'), ('Photo: weather forecast for the #Rapture {link}', 'Neutral / author is just sharing information'), ('Gardner WX 05/17/11 07:00 AM | 44F, 65&#x25; Humidity, Feels Like 44F | Alerts: NO CURRENT ADVISORIES | {link}', 'Neutral / author is just sharing information'), ('Chilly - Chili, Chile, Chilli, Chily, Mirchi, Chilli Pepper, Aji, Paprika {link}', 'Tweet not related to weather condition'), ('#WEATHER:  11:56 pm: 69.0F. Feels F. 29.69% Humidity. 5.8MPH South Wind.', 'Neutral / author is just sharing information'), ('@mention what!!? Camping is so much fun!! water & sunshine during the day...clear skies & stars @ night!', 'Positive'), (\"Love my new jewelry books from Powell's. Much needed inspiration on a rainy Monday.\", 'Positive'), ('@mention, @mention and @mention team up with @mention and for storm victims {link} via @mention', 'Tweet not related to weather condition'), ('Check this video out -- John Stewart- Chilly Winds-The Turf Inn-2003 {link} via @mention', 'Tweet not related to weather condition'), (\"Just got to my apt... It's 2 damn hot outside for me!\", 'Negative'), ('Won a Storm award!! Oh yeah!', 'Tweet not related to weather condition'), ('Siesta Key Beach with my Dad. Its a beautiful hot sunny day.', 'Positive'), (\"Ashley and Storm were watching Old Boy. It's dubbed, unfortunately, but whatevs.\", 'Tweet not related to weather condition'), ('RT @mention: The weather is beyond beautiful ! :)', 'Positive'), (\"@mention HAPPY BIRTHDAY!!! You're planning on taking care of this whole rainy cloudy thing right? if not, i'll party in the rain with ya ;)\", 'Positive'), (\"I wanna do something fun but I don't want to be caught out in the storm tonight so I think I'll just stay home lol\", 'Negative'), ('RT @mention: Just finished copy edit of A History of Ancient Britain. Emerged blinking into sunshine for first time in days. In boo ...', 'Tweet not related to weather condition'), ('- this house is beyond cold..feels like imm layin inside a freezer..can we please turn OFF the A.C.. #freezing', 'Negative'), ('@mention I think there is a hint of sunshine here... but I may have to send out for a latte. So cold my muscles have seized up!', 'Negative'), ('Hope everyone is having better weather than we are here in New England.  Ugh, hope it stops raining sometime soon.', 'Negative'), ('I love @mention. We are gonna take Austin by storm. #bestfriend', 'Tweet not related to weather condition'), ('@mention So maybe your exemplary customer service from Google is tied into Hell freezing over? Hmm...', 'Tweet not related to weather condition'), (\"I don't remember the weather sucking this bad last May... Regardless, it feels good to just stay in and relax all day. #chillin\", 'Negative'), ('#WEATHER: 8:52 pm C: 76.0F. Feels F. 29.76% Humidity. 17.3MPH Southeast Wind.', 'Neutral / author is just sharing information'), ('Gunmen storm Afghan government building {link}', 'Tweet not related to weather condition'), ('RT @mention: #Salute to @mention for going to show the kids love out in Tuscaloosa who were affected by the storm. {link}. ...', 'Neutral / author is just sharing information'), ('Im going to lunch early today.   The weather is nice outside so Im going to enjoy #metime somewhere pleasant :)', 'Positive'), ('Trace Adkins singing Rainy Night in Georgia...damn...I mean DAYUM!!!!', 'Tweet not related to weather condition'), ('LIVE COVERAGE: Weather delays Amgen start until 1:15 pm {link}', 'Neutral / author is just sharing information'), ('@mention: RT @mention: Cleveland weather blows me .', 'Negative'), (':)) Dress weather again, yay.', 'Positive'), ('RT @mention: I think those American nutters must have misinterpreted a bad weather forecast #rapture', 'Negative'), (\"RT @mention: It'll be sunny again by time you land RT @mention: Every time I think about going back to Portland it starts ra ...\", 'Negative'), (\"RT @mention: 84 deg. F and 3% humidity. Don't go playing with matches, kids. &gt; and forget the corduroys too.  #friction\", 'Neutral / author is just sharing information'), (\"Nature's Sunshine Products Reports First Quarter Financial Results {link}\", 'Tweet not related to weather condition'), (\"RT @mention: Syria 'arrests scores' in Damascus suburb: Soldiers reportedly storm Saqba, making several arrests overnight, wh... http: ...\", 'Tweet not related to weather condition'), ('#WEATHER:  5:54 am : 66.0F. Feels F. 29.97% Humidity. 0.0MPH North Wind.', 'Neutral / author is just sharing information'), ('Updating a recipe for a summer soup, perfect for the hot weather', 'Positive'), ('wishing i was in sunny Florida watching @mention && the Orioles get this series win! #LEGGO', 'Tweet not related to weather condition'), ('Check out my hot new hip hop {link} via @mention', 'Tweet not related to weather condition'), ('HUGE thunderstorm this morning! Rain..lots of it..(FINALLY) thunder, lightning.. the works.. Texas knows how to have a storm!', 'Positive'), (\"I don't mind stormy weather, but IT BETTER NOT make @#$* neighbor's car alarm go off all night like last night, or I'll...well, something.\", 'Negative'), ('@mention good crowd in Wrigley today, terrible weather. tell that redneck that just called in 2 check the Reds crowd on a Wed. day game', 'Negative'), ('Could really go for some chocolate, a blanket, some music, and a big bay window right now. #rain', 'Positive'), ('RT @mention: Our blog this week includes fun outdoor recreation recos. Good timing with this gorgeous weather: {link}', 'Positive'), ('RT @mention: Tatum, NM @ 8:00 PM: Temp:75F(H 84/L 45), Hum:30&#x25;, DewPt:42F, Wind: SE at 17 G 27.0 mph, Rain:0.00 In. #weather', 'Neutral / author is just sharing information'), ('Mostly sunny today, high 70 (21 C).', 'Neutral / author is just sharing information'), ('@mention How about Metal Storm & Wasp Knife for MW3??? {link} {link} #AwesomeWeapons #MW3', 'Tweet not related to weather condition'), ('Horrible wet morning.....bring back the sunshine!', 'Negative'), ('RT @mention: Remember to be safe around #utflood waters; they were snow not long ago. Very cold. {link}', 'Negative'), ('Post Edited: La Crosse Technology Weather Direct WD-3308U-WAL 4 Day Internet Powered Wireless Forecaster {link}', 'Neutral / author is just sharing information'), (\"@mention Lol, that's called spring weather.\", 'Positive'), ('hot weather puts me in a bad mood .', 'Negative'), ('cold in here cold outside', 'Negative'), (\"Me and katilyn chatting up the movie, walk outside.. OMG. Sprint to car. We don't like thunder storms. #mature\", 'Negative'), ('Severe Weather In Dallas Causes Flight Delays, Diversions In SA from KSAT - Local News {link}', 'Neutral / author is just sharing information'), ('Friday afternoon shopping, sunshine, margaritas, happiness!', 'Positive'), ('@mention where are you? save the young girl in the storm center she is out of her comfort zone.', 'Negative'), ('Get the goodies! *SOLD OUT Mojo Moxy Poppys* {link} Follow & RT: Mojo Moxy shoes are HOT! #winhotshoes #contest', 'Tweet not related to weather condition'), ('#WEATHER: 12:56 pm : 77.0F. Feels F. 29.88% Humidity. 3.5MPH Variable Wind.', 'Neutral / author is just sharing information'), (\"You're the best! Warm weather is calling now--let's make plans :) RT @mention: We all love having @mention & everyday #FF\", 'Positive'), ('@mention cherry slush', 'Tweet not related to weather condition'), ('@mention no no! Haha. There are several days, but for some reason today seems extra nice. The weather is beautiful. :)', 'Positive'), ('6 degrees of separation', 'Tweet not related to weather condition'), ('@mention Hullo!  Looking for the next Snow Patrol? I recommend this. Listen: {link}', 'Tweet not related to weather condition'), ('@mention &lt;folks are out enjoying the nice weather. Rain back Friday for the next six days.lol:-(', 'Positive'), ('Heading outside for a run. Enjoying this weather as much as I can before the rain inevitably returns.', 'Positive'), ('First and last time walking to a class on Friday in Cornell. Thanks to the snow. #ItsMay', 'Negative'), ('Probably Bad News: Anything For a Blizzard: Probably Bad News: Anything For a Blizzard Submitted by: Unknown Epi... {link}', 'Negative'), ('Really hot outside', 'Negative'), ('Humidity, why must you do such unorthodox things to my hair?', 'Negative'), ('Sunshine parks and new hair scarves make life not so bad when @mention stays up all night.', 'Tweet not related to weather condition'), (\"Eat yourheart out too!i'm @ the vacation house.Nice weather&beautiful sight.Nothing like this in SG. ;p @mention  {link}\", 'Positive'), ('Calm After the Storm | RedGage {link}', 'Tweet not related to weather condition'), (\"@mention i'm not laughing at you storm and i don't think it's ignorance, just innocence\", \"I can't tell\"), ('Imma chef and imma cook up a storm in the morning', 'Tweet not related to weather condition'), ('MU softball opener delayed: Bad weather pushes DePaul-Indiana to 8:30 p.m. {link}', 'Negative'), ('RT @mention: Strongest storm now crossing Natcher Parkway south of Masonville & moving into northern Ohio County. #tristatewx', 'Neutral / author is just sharing information'), ('Looks like rain. For ever. #weather {link}', 'Negative'), ('Severe weather delays White Sox-Rangers {link} via @mention', 'Negative'), (\"10:00 and its 75 degrees...i'll take it\", 'Neutral / author is just sharing information'), ('Good dreary, rainy, foggy, drizzly, misty, stormy morning everyone.', 'Negative'), (\"It's so hot that I have found out (the hard way) that my seat belt buckle could be used as a branding iron #teamfollowback\", 'Negative'), (\"RT @mention: It's getting warm in them thar hills.  Amador County Foothills/Shendoah Valley, Plymouth, CA...nice, sunny, warm,.. ...\", 'Positive'), (\"I'm gonna take a bath and read. I planned to make pasta puttanesca for dinner, but the weather is making me want Chipotle Chicken Chowder.\", 'Neutral / author is just sharing information'), ('@mention and a #happymonday 2 u too sweets. Im coolin, just at work tryin 2 stay warm. this bama weather is skidzo lol. what u doin?', 'Negative'), ('The sunshine makes me happy.', 'Positive'), ('13:42-Sky:  partly cloudy|Vis: 8mi -Temp: 83.1F-Hum: 66.0 %-Pres: 29.82\"-24Hr Rain: 0.00\"-Winds: N 3.1 MPH-Windchill: 87.9F #cltwx', 'Neutral / author is just sharing information'), ('@mention Done with the rain and headed to the beach tomorrow.  Finally sunshine and sand!', 'Positive'), (\"I don't care how FAIR-WEATHER the Atlanta fanbase is...I'm a LOYAL #FALCONS, #BRAVES, and #HAWKS fan... I don't believe in bandwagon jumping\", 'Tweet not related to weather condition'), ('Does it snow a lot in Idaho,Utah,Colorado and New Mexico in December? {link}', 'Neutral / author is just sharing information'), (\"I'll be at Shuckers - Wake Forest tonight, starting at 6:30! Fantastic weather for an evening on the patio!\", 'Positive'), (\"@mention It's supposed to go up to 70 today. Sunshine early. A slight chance for a shower or t-storm later. Going to my Aunt's house later.\", 'Positive'), ('This weather has left me completely incapable of functioning as a normal person.', 'Negative'), ('YUMMAY RT @mention: Weather Up with @mention for some yummy oysters :)', 'Tweet not related to weather condition'), (\"@mention Seriously, that's February weather!\", 'Neutral / author is just sharing information'), ('@mention smoke rollin out the window an ice cold beer sittin in the console :)', 'Tweet not related to weather condition'), ('If you got on walmart snow boots in yo twitcon #sityoassdown. You are not badd.', 'Tweet not related to weather condition'), ('Gosh the scanner is active this morning. Is everyone misbehaving because the sunny weather went away?', 'Negative'), ('#bestdogever Crummy weather in WI. Perfect day for chilling with girl and K9. {link}', 'Negative'), (\"@mention I am too haha it's kinda hot out though\", 'Positive'), ('#WEATHER: 6:51 pm E: 62.0F. Feels 60F. 29.94% Humidity. 12.7MPH South Wind.', 'Neutral / author is just sharing information'), ('Why did i wear this lil dress???? Im freezing in this airport. Damn.', 'Negative'), (\"#Today's #Cubs-#Giants game has been postponed due to the forecast for inclement weather & poor conditions throughout the day.\", 'Negative'), ('Weather keeping you indoors today? Join us for worship this weekend! Saturday at 5:30 pm, Sunday at 8:00 or 10:45 am.', 'Neutral / author is just sharing information'), ('Its #Cold N Herr ..', 'Negative'), ('Riding out the storm: local housing still sluggish {link}', 'Negative'), ('Morning sunshine.', 'Positive'), ('I actually like the #rain... Only because my umbrella is too cool... #zebraprint!', 'Positive'), ('Blog Post: The Weather Man is Killling Golf! - {link}', 'Negative'), (\"@mention when I say uneducated I'm not referring to diplomas or degrees no worries\", 'Tweet not related to weather condition'), ('RT @mention: Ready for this @mention weekend!! Hope the weather is nice!!', 'Positive'), ('#C4IforHumanity: Extreme Weather - North-America - USA {link}', 'Neutral / author is just sharing information'), ('@mention  loving this awesome Iowa weather!! suppose to be 91 tomorrow..they  say a record high', 'Positive'), ('RT @mention: Weather Geek alert... #NOAA shows La Nina weakening (Seattle peeps, looking good for summer!) {link}', 'Neutral / author is just sharing information'), ('@mention  Sunshine! You lucky dog!', 'Positive'), (\"@mention I'm not related to him, but I know him from storm spotting for my county.\", 'Tweet not related to weather condition'), (\"@mention Fair enough. This weekend has million things going on. It's like everyone decided to celebrate the good weather this weekend.\", 'Positive'), (\"Damn well i'm glad the storm went right pass here\", 'Positive'), ('Ready to be in the house! Its hot out here!', 'Negative'), (\"@mention BTW, the guy who says the world is ending today has $7M in the bank. Because, you know, he's saving for a rainy day.\", 'Tweet not related to weather condition'), ('These #ExtremeCouponing folk are a BLIZZARD person wanting DREAM! Just have the goodies!', 'Tweet not related to weather condition'), (\"I kno everybody in AZ betta be outside enjoying this Good weather cuz I'm sure its gone be short lived smh\", 'Positive'), ('This weather forecast is depressing', 'Negative'), ('In need of a long nap & some sunshine.', 'Neutral / author is just sharing information'), (\"I hope it won't be too hot in the morning! Jacksonville weather be on hell+2 degrees!\", 'Negative'), ('Loving this warm weather!', 'Positive'), ('Turned on TV here at the hotel, immediately see meteorologists watching #Wx around Kansas. Glad it was nice weather when I landed here.', 'Positive'), ('159 degrees + large bacon cheeseburger + work = #poorlifechoices.', 'Negative'), (\"This cold weather got me ready to lay up wit someone else's girlfriend.. #DontJudgeMe\", 'Negative'), ('Last full week of school. Summertime sunshine #seeyousoon', 'Positive'), ('#cltnews WBTV 3 News, Weather, Sports, and Traffic for Charlotte, NC-AptarGroup to ... - WBTV {link}', 'Neutral / author is just sharing information'), ('Oh yeah forgot to say Today is my kinda weather #AllSmiles #Grateful', 'Positive'), ('Even when the rain falls, even when the flood stops rising, even when the storm comes, I am washed by the water.', 'Negative'), ('@mention you around Detroit at all?  Got a weather page set up for it.', 'Neutral / author is just sharing information'), ('WZTV FOX17 :: Weather {link}', 'Neutral / author is just sharing information'), ('Severe weather delays Players Championship - {link}', 'Neutral / author is just sharing information'), ('Palm Beach County Commission cites Sunshine Law concerns for dumping committee of local leaders.{link}', 'Tweet not related to weather condition'), ('Helloooo, Sunshine!', 'Positive'), ('Honeys, tonight is First Friday in the Crossroads Art District. And the weather is going to be GORGEOUS! Some come... {link}', 'Positive'), ('On my way baby keep my spot warm lmao RT @mention This thunderstorm makes me wish I had someone to cuddle with', 'Negative'), ('Mmmmmm warm sunny afternoon on a patio! (@ The Tavern Tech Center) {link}', 'Positive'), ('Militants storm Pakistani naval base in Karachi \\\\n    (AP)\\\\n: AP - Islamist militants stormed a naval base in t... {link}', 'Tweet not related to weather condition'), ('@mention sunny I love u', 'Positive'), ('MLB Weather Alert &#8211; Wednesday May 11th - {link}/', 'Neutral / author is just sharing information'), ('Y looky here...da window is open 6 inches! It finally getting warmer outside..maybe 60 degrees now..IT\"S ABOUT TIME! #whereisspring?', 'Positive'), (\"Just in! Joe's Provacateur petite bootcut in the Hannah wash. Perfect for warmer weather! {link}\", 'Positive'), (\"good morning, it's sunny, pick up new car and then off to Wilton house near Salisbury i think\", 'Positive'), ('Grateful for the sunny, warm weather. Perfect stroll on the beach with @mention. Photo: {link} #cannonbeach #getaway', 'Positive'), (\"It's Jus to hot outside to be sleepin n clothes\", 'Negative'), ('Severe Thunderstorm Warning for Camden and Miller County until 2:00pm. #MidMoWx', 'Neutral / author is just sharing information'), ('Partly Cloudy and 84 F at Stuart Powell Field Airport, KY The humidity is 40%. The heat index is 83.  Last Updated on M {link}', 'Neutral / author is just sharing information'), (\"@mention no, normal pajamas. it's not that cold out!\", 'Neutral / author is just sharing information'), (\"RT @mention: I can't wait for the storm tonight :)\", 'Positive'), ('Operation Heatwave Survey, May 21st, area centered around Fitzhugh and Live Oak. {link}', 'Neutral / author is just sharing information'), (\"RT @mention: Congrats OKC is trending. What should be trending is #WatchoutMavs there's about to be a Thunderstorm in Dallas!\", 'Neutral / author is just sharing information'), (\"RT @mention: Word on the street is, it's going to snow later on today\", 'Neutral / author is just sharing information'), ('@mention good morning Viv how are you this beautiful sunny morning', 'Positive'), ('@mention delicious! Lol I have been waiting for this 70 degrees for oh...8 months! No joke. I\\'ve been out being a real \"dirty girl\" lol', 'Positive'), ('Need some warm Cappuccino on this ugly rainy day. (@ 7-Eleven) {link}', 'Negative'), ('So, I heard \"I told the storm\" on the way to church and almost cried! It made me think of my mama', 'Tweet not related to weather condition'), ('RT @mention: sooooo annoyed with these weather tweets. we live in ohio what do you expect? #getoverit', 'Negative'), (\"God it's been raining on and off...that's what you get for Michigan weather\", 'Negative'), ('For storm and flood water repair, call NextGen Restoration experts. {link}', 'Neutral / author is just sharing information'), (\".@mention & I just finished an hour jog on the Bosque. A little windy, but otherwise a beautiful day. It's about time! C'mon SUMMER!\", 'Positive'), ('We recommend checking out Snow Plow Younginz {link}', 'Tweet not related to weather condition'), ('\"MARY WHITE\" always be fogged out even wen its a bright sunny day', 'Tweet not related to weather condition'), ('@mention lol at Gary saying it to Storm. Hope the subtitles work for Celebrity Juice at 11pm....', 'Tweet not related to weather condition'), (\"Been lazying ALL DAY. Exams in 2 days. BUT I CAN'T STUDY IN THIS WEATHER.\", 'Negative'), ('Just played: 3-04 Pocketful Of Sunshine - unknown - unknown(unknown)', 'Tweet not related to weather condition'), ('FYI: Otis Redding makes for some excellent sunny Sunday music...', 'Tweet not related to weather condition'), ('RT @mention: Popcap is the Blizzard of casual games.  I could purchase *any* Popcap game sight unseen and know I was getting somethin ...', 'Tweet not related to weather condition'), ('I believe in various degrees of hatred, paranoia, and abandonment', 'Tweet not related to weather condition'), (\"Freezing cold Like always whoo buddy excited for tonight let's go #11in11\", 'Negative'), ('So its freezing as shit this morning and my brothers mew roommate left open the windows. smooth.', 'Negative'), ('#WEATHER: 2:55 pm E: 75.0F. Feels F. 29.96% Humidity. 3.5MPH Northwest Wind.', 'Neutral / author is just sharing information'), ('Mmm...  A Lemon-Berry real fruit slush from sonic.', 'Tweet not related to weather condition'), ('RT @mention: Community Blood Center Media Blood drive Tues Noon-6 at Westridge Mall by Penneys lower level - Blood to help Joplin st ...', 'Tweet not related to weather condition'), ('SPC Severe Thunderstorm Watch 298 Status Reports {link}', 'Neutral / author is just sharing information'), ('hello everyone; tut. tut, it looks like rain. Wish I could get two solid weeks of warm, sunny, breezy weather *sigh* #GroundhogDay', 'Negative')]\n"
     ]
    }
   ],
   "source": [
    "x_train = train_data['tweet_body'].values\n",
    "y_train = train_data['emotion'].values\n",
    "x_test = test_data['tweet_body'].values\n",
    "y_test = test_data['emotion'].values\n",
    "\n",
    "print(list(zip(x_train, y_train)))"
   ]
  },
  {
   "cell_type": "markdown",
   "metadata": {},
   "source": [
    "Now let's see how we can transform our tweets into vectors"
   ]
  },
  {
   "cell_type": "code",
   "execution_count": 64,
   "metadata": {},
   "outputs": [
    {
     "name": "stdout",
     "output_type": "stream",
     "text": [
      "   0f  11  29  56  5mph  77  96  feels  for  humidity  mad  no  pm  reason  south  weather  wind  windy\n",
      "0   0   0   0   0     0   0   0      0    1         0    1   1   0       1      0        0     0      1\n",
      "1   1   1   1   1     1   1   1      1    0         1    0   0   1       0      1        1     1      0\n"
     ]
    }
   ],
   "source": [
    "from sklearn.feature_extraction.text import CountVectorizer\n",
    "\n",
    "count_vect = CountVectorizer()\n",
    "# we take two samples\n",
    "samples = x_train[:2]\n",
    "\n",
    "# TODO: fit and transform these samples to get the count vectors\n",
    "x_train_counts = count_vect.fit_transform(samples) # output is (document_id, word_id), count\n",
    "#tfidf = TfidfTransformer() # output is the tfidf score\n",
    "\n",
    "# .A change data type to array\n",
    "\n",
    "# You can see how these vectors look with the following commands\n",
    "print(pd.DataFrame(x_train_counts.A, columns=count_vect.get_feature_names()).to_string())"
   ]
  },
  {
   "cell_type": "markdown",
   "metadata": {},
   "source": [
    "### Task 4: Creating the Classifiers\n",
    "\n",
    "In practice, it's cleaner to integrate all of our preprocessing and classifier into a single [pipeline](http://scikit-learn.org/stable/modules/generated/sklearn.pipeline.Pipeline.html). So let's do that now. Add the missing code to build a simple pipeline with CountVectorizer and a Multinomial Naive Bayes classifier."
   ]
  },
  {
   "cell_type": "code",
   "execution_count": 50,
   "metadata": {},
   "outputs": [],
   "source": [
    "from sklearn.pipeline import Pipeline\n",
    "from sklearn.naive_bayes import MultinomialNB\n",
    "\n",
    "#def build_pipeline(classifier_fn,x_train,y_train):\n",
    "#    pipeline = Pipeline([\n",
    "#        # TODO: add the missing code here\n",
    "#        ('count_vectorizer',   CountVectorizer(ngram_range=(1, 2),max_df=0.5)),\n",
    "#        ('classifier',          classifier_fn)\n",
    "#        ])\n",
    "#    pipeline.fit(x_train,y_train)\n",
    "#    return pipeline\n",
    "\n",
    "def build_pipeline(classifier_fn,x_train,y_train):\n",
    "    pipeline = Pipeline([\n",
    "        # TODO: add the missing code here\n",
    "        ('count_vectorizer',   CountVectorizer(ngram_range=(1, 1),max_df=0.5)),\n",
    "        ('classifier',          classifier_fn)\n",
    "        ])\n",
    "    pipeline.fit(x_train,y_train)\n",
    "    return pipeline\n",
    "\n",
    "pipeline = build_pipeline(MultinomialNB(),x_train,y_train)"
   ]
  },
  {
   "cell_type": "markdown",
   "metadata": {},
   "source": [
    "To evaluate the classifiers, we will be using the precision, recall, and F1 scores. "
   ]
  },
  {
   "cell_type": "code",
   "execution_count": 103,
   "metadata": {},
   "outputs": [
    {
     "name": "stdout",
     "output_type": "stream",
     "text": [
      "                                              precision    recall  f1-score   support\n",
      "\n",
      "                                    Negative       0.47      0.85      0.61        47\n",
      "Neutral / author is just sharing information       0.91      0.69      0.78        58\n",
      "                                    Positive       0.74      0.57      0.64        51\n",
      "      Tweet not related to weather condition       0.69      0.50      0.58        44\n",
      "\n",
      "                                 avg / total       0.72      0.66      0.66       200\n",
      "\n"
     ]
    },
    {
     "data": {
      "image/png": "[encoded data removed]",
      "text/plain": [
       "<matplotlib.figure.Figure at 0x21de196cc50>"
      ]
     },
     "metadata": {},
     "output_type": "display_data"
    }
   ],
   "source": [
    "from sklearn.metrics import precision_recall_fscore_support,classification_report, confusion_matrix\n",
    "\n",
    "# TODO: get the class names from the data\n",
    "class_names = train_data.emotion.unique()\n",
    "\n",
    "def plot_confusion_matrix(y_test,y_predicted,labels):\n",
    "    cm = confusion_matrix(y_test, y_predicted,labels =labels)\n",
    "\n",
    "    figsize = (10,7)\n",
    "    df_cm = pd.DataFrame(\n",
    "        cm, index=class_names, columns=class_names, \n",
    "    )\n",
    "    fig = plt.figure(figsize=figsize)\n",
    "    try:\n",
    "        heatmap = sns.heatmap(df_cm, annot=True, fmt=\"d\")\n",
    "    except ValueError:\n",
    "        raise ValueError(\"Confusion matrix values must be integers.\")\n",
    "    heatmap.yaxis.set_ticklabels(heatmap.yaxis.get_ticklabels(), rotation=0)\n",
    "    heatmap.xaxis.set_ticklabels(heatmap.xaxis.get_ticklabels(), rotation=45)\n",
    "    plt.ylabel('True label')\n",
    "    plt.xlabel('Predicted label')\n",
    "    plt.show()\n",
    "    \n",
    "def evaluate_classifier(pipeline, x_test, y_test):\n",
    "    # TODO: get the predictions\n",
    "    y_predicted = pipeline.predict(x_test)\n",
    "    # TODO: generate the report\n",
    "    report  = classification_report(y_test, y_predicted)\n",
    "    print(report)\n",
    "    # TODO: plot the confusion matrix\n",
    "    plot_confusion_matrix(y_test, y_predicted, class_names)\n",
    "\n",
    "evaluate_classifier(pipeline, x_test,y_test)"
   ]
  },
  {
   "cell_type": "markdown",
   "metadata": {},
   "source": [
    "We can experiment with other classifiers as we please at this point. Try using an SVM classifier and a RandomForestClassifier classifier instead. You might notice that the Multinomial Naive Bayes is already a good baseline for short text classification.\n"
   ]
  },
  {
   "cell_type": "code",
   "execution_count": 53,
   "metadata": {},
   "outputs": [
    {
     "name": "stdout",
     "output_type": "stream",
     "text": [
      "                                              precision    recall  f1-score   support\n",
      "\n",
      "                                    Negative       0.52      0.79      0.63        47\n",
      "Neutral / author is just sharing information       0.89      0.57      0.69        58\n",
      "                                    Positive       0.70      0.59      0.64        51\n",
      "      Tweet not related to weather condition       0.61      0.68      0.65        44\n",
      "\n",
      "                                 avg / total       0.69      0.65      0.65       200\n",
      "\n"
     ]
    },
    {
     "data": {
      "image/png": "[encoded data removed]",
      "text/plain": [
       "<matplotlib.figure.Figure at 0x21dd9d79f60>"
      ]
     },
     "metadata": {},
     "output_type": "display_data"
    },
    {
     "name": "stdout",
     "output_type": "stream",
     "text": [
      "                                              precision    recall  f1-score   support\n",
      "\n",
      "                                    Negative       0.51      0.91      0.66        47\n",
      "Neutral / author is just sharing information       0.88      0.62      0.73        58\n",
      "                                    Positive       0.73      0.47      0.57        51\n",
      "      Tweet not related to weather condition       0.60      0.57      0.58        44\n",
      "\n",
      "                                 avg / total       0.69      0.64      0.64       200\n",
      "\n"
     ]
    },
    {
     "data": {
      "image/png": "[encoded data removed]",
      "text/plain": [
       "<matplotlib.figure.Figure at 0x21ddd439400>"
      ]
     },
     "metadata": {},
     "output_type": "display_data"
    }
   ],
   "source": [
    "from sklearn.ensemble import RandomForestClassifier\n",
    "from sklearn.linear_model import SGDClassifier\n",
    "\n",
    "# TODO: build the pipeline with an SGDClassifier (SVM) and evaluate it\n",
    "pipeline = build_pipeline(SGDClassifier(loss='hinge', penalty='l2',alpha=1e-3, random_state=42, max_iter=5, tol=None),x_train,y_train)\n",
    "evaluate_classifier(pipeline, x_test,y_test)\n",
    "\n",
    "# TODO: build the pipeline with a Random Forest Classifier and evaluate it\n",
    "pipeline = build_pipeline(RandomForestClassifier(n_estimators=500),x_train,y_train)\n",
    "evaluate_classifier(pipeline, x_test,y_test)"
   ]
  },
  {
   "cell_type": "markdown",
   "metadata": {},
   "source": [
    "### Task 5: Predicting Emotions for New Tweets"
   ]
  },
  {
   "cell_type": "markdown",
   "metadata": {},
   "source": [
    "It's worth noting that as have the classifiers, we can try them a couple of new tweets."
   ]
  },
  {
   "cell_type": "code",
   "execution_count": 54,
   "metadata": {
    "scrolled": true
   },
   "outputs": [
    {
     "data": {
      "text/plain": [
       "array(['Positive', 'Neutral / author is just sharing information'],\n",
       "      dtype=object)"
      ]
     },
     "execution_count": 54,
     "metadata": {},
     "output_type": "execute_result"
    }
   ],
   "source": [
    "tweets = [\"love the weather\",\"#WEATHER: 7:51 am E: 55.0F. Feels F. 30.01% Humidity. 3.5MPH Variable Wind.\"]\n",
    "# TODO: get the predictions\n",
    "predictions = pipeline.predict(tweets)\n",
    "predictions"
   ]
  },
  {
   "cell_type": "markdown",
   "metadata": {},
   "source": [
    "### Task 6: Visualizing a Decision Tree Classifier\n",
    "\n",
    "side note: this requires the installation of **graphviz**"
   ]
  },
  {
   "cell_type": "markdown",
   "metadata": {},
   "source": [
    "One way to see how our features are affecting the classification is to use interpretable classifiers like Decision Trees. To begin with, let's add another step to our pipeline, where we use TF-IDF measure for each word as a vector element instead of taking the term frequency only. We'll use the [TfidfTransformer](http://scikit-learn.org/stable/modules/generated/sklearn.feature_extraction.text.TfidfTransformer.html)."
   ]
  },
  {
   "cell_type": "code",
   "execution_count": 69,
   "metadata": {},
   "outputs": [],
   "source": [
    "from sklearn.feature_extraction.text import TfidfTransformer\n",
    "\n",
    "# TODO: build a new pipeline with the TfidfTransformer\n",
    "def build_pipeline(classifier_fn,x_train,y_train):\n",
    "    pipeline = Pipeline([\n",
    "        ('count_vectorizer',   CountVectorizer(ngram_range=(1, 2),max_df=0.5)),\n",
    "        ('tfidf_transformer',  TfidfTransformer()),\n",
    "        ('classifier',          classifier_fn)\n",
    "        ])\n",
    "    pipeline.fit(x_train,y_train)\n",
    "    return pipeline"
   ]
  },
  {
   "cell_type": "markdown",
   "metadata": {},
   "source": [
    "Now we're ready to build and visualize the decision tree."
   ]
  },
  {
   "cell_type": "code",
   "execution_count": 70,
   "metadata": {},
   "outputs": [
    {
     "data": {
      "image/svg+xml": [
       "<?xml version=\"1.0\" encoding=\"UTF-8\" standalone=\"no\"?>\r\n",
       "<!DOCTYPE svg PUBLIC \"-//W3C//DTD SVG 1.1//EN\"\r\n",
       " \"http://www.w3.org/Graphics/SVG/1.1/DTD/svg11.dtd\">\r\n",
       "<!-- Generated by graphviz version 2.38.0 (20140413.2041)\r\n",
       " -->\r\n",
       "<!-- Title: Tree Pages: 1 -->\r\n",
       "<svg width=\"1274pt\" height=\"520pt\"\r\n",
       " viewBox=\"0.00 0.00 1274.00 520.00\" xmlns=\"http://www.w3.org/2000/svg\" xmlns:xlink=\"http://www.w3.org/1999/xlink\">\r\n",
       "<g id=\"graph0\" class=\"graph\" transform=\"scale(1 1) rotate(0) translate(4 516)\">\r\n",
       "<title>Tree</title>\r\n",
       "<polygon fill=\"white\" stroke=\"none\" points=\"-4,4 -4,-516 1270,-516 1270,4 -4,4\"/>\r\n",
       "<!-- 0 -->\r\n",
       "<g id=\"node1\" class=\"node\"><title>0</title>\r\n",
       "<polygon fill=\"none\" stroke=\"black\" points=\"954,-512 661,-512 661,-429 954,-429 954,-512\"/>\r\n",
       "<text text-anchor=\"middle\" x=\"807.5\" y=\"-496.8\" font-family=\"Times New Roman,serif\" font-size=\"14.00\">weather &lt;= 0.05</text>\r\n",
       "<text text-anchor=\"middle\" x=\"807.5\" y=\"-481.8\" font-family=\"Times New Roman,serif\" font-size=\"14.00\">entropy = 2.012</text>\r\n",
       "<text text-anchor=\"middle\" x=\"807.5\" y=\"-466.8\" font-family=\"Times New Roman,serif\" font-size=\"14.00\">samples = 800</text>\r\n",
       "<text text-anchor=\"middle\" x=\"807.5\" y=\"-451.8\" font-family=\"Times New Roman,serif\" font-size=\"14.00\">value = [2, 232, 205, 180, 181]</text>\r\n",
       "<text text-anchor=\"middle\" x=\"807.5\" y=\"-436.8\" font-family=\"Times New Roman,serif\" font-size=\"14.00\">class = Neutral / author is just sharing information</text>\r\n",
       "</g>\r\n",
       "<!-- 1 -->\r\n",
       "<g id=\"node2\" class=\"node\"><title>1</title>\r\n",
       "<polygon fill=\"none\" stroke=\"black\" points=\"755.5,-393 567.5,-393 567.5,-310 755.5,-310 755.5,-393\"/>\r\n",
       "<text text-anchor=\"middle\" x=\"661.5\" y=\"-377.8\" font-family=\"Times New Roman,serif\" font-size=\"14.00\">link &lt;= 0.055</text>\r\n",
       "<text text-anchor=\"middle\" x=\"661.5\" y=\"-362.8\" font-family=\"Times New Roman,serif\" font-size=\"14.00\">entropy = 1.987</text>\r\n",
       "<text text-anchor=\"middle\" x=\"661.5\" y=\"-347.8\" font-family=\"Times New Roman,serif\" font-size=\"14.00\">samples = 536</text>\r\n",
       "<text text-anchor=\"middle\" x=\"661.5\" y=\"-332.8\" font-family=\"Times New Roman,serif\" font-size=\"14.00\">value = [1, 143, 116, 103, 173]</text>\r\n",
       "<text text-anchor=\"middle\" x=\"661.5\" y=\"-317.8\" font-family=\"Times New Roman,serif\" font-size=\"14.00\">class = I can&#39;t tell</text>\r\n",
       "</g>\r\n",
       "<!-- 0&#45;&gt;1 -->\r\n",
       "<g id=\"edge1\" class=\"edge\"><title>0&#45;&gt;1</title>\r\n",
       "<path fill=\"none\" stroke=\"black\" d=\"M756.846,-428.907C744.955,-419.379 732.189,-409.148 719.987,-399.37\"/>\r\n",
       "<polygon fill=\"black\" stroke=\"black\" points=\"722.057,-396.543 712.064,-393.021 717.679,-402.006 722.057,-396.543\"/>\r\n",
       "<text text-anchor=\"middle\" x=\"714.804\" y=\"-414.17\" font-family=\"Times New Roman,serif\" font-size=\"14.00\">True</text>\r\n",
       "</g>\r\n",
       "<!-- 330 -->\r\n",
       "<g id=\"node15\" class=\"node\"><title>330</title>\r\n",
       "<polygon fill=\"none\" stroke=\"black\" points=\"1101,-393 808,-393 808,-310 1101,-310 1101,-393\"/>\r\n",
       "<text text-anchor=\"middle\" x=\"954.5\" y=\"-377.8\" font-family=\"Times New Roman,serif\" font-size=\"14.00\">wind &lt;= 0.048</text>\r\n",
       "<text text-anchor=\"middle\" x=\"954.5\" y=\"-362.8\" font-family=\"Times New Roman,serif\" font-size=\"14.00\">entropy = 1.759</text>\r\n",
       "<text text-anchor=\"middle\" x=\"954.5\" y=\"-347.8\" font-family=\"Times New Roman,serif\" font-size=\"14.00\">samples = 264</text>\r\n",
       "<text text-anchor=\"middle\" x=\"954.5\" y=\"-332.8\" font-family=\"Times New Roman,serif\" font-size=\"14.00\">value = [1, 89, 89, 77, 8]</text>\r\n",
       "<text text-anchor=\"middle\" x=\"954.5\" y=\"-317.8\" font-family=\"Times New Roman,serif\" font-size=\"14.00\">class = Neutral / author is just sharing information</text>\r\n",
       "</g>\r\n",
       "<!-- 0&#45;&gt;330 -->\r\n",
       "<g id=\"edge14\" class=\"edge\"><title>0&#45;&gt;330</title>\r\n",
       "<path fill=\"none\" stroke=\"black\" d=\"M858.501,-428.907C870.473,-419.379 883.327,-409.148 895.613,-399.37\"/>\r\n",
       "<polygon fill=\"black\" stroke=\"black\" points=\"897.945,-401.987 903.589,-393.021 893.585,-396.51 897.945,-401.987\"/>\r\n",
       "<text text-anchor=\"middle\" x=\"900.766\" y=\"-414.161\" font-family=\"Times New Roman,serif\" font-size=\"14.00\">False</text>\r\n",
       "</g>\r\n",
       "<!-- 2 -->\r\n",
       "<g id=\"node3\" class=\"node\"><title>2</title>\r\n",
       "<polygon fill=\"none\" stroke=\"black\" points=\"528,-274 235,-274 235,-191 528,-191 528,-274\"/>\r\n",
       "<text text-anchor=\"middle\" x=\"381.5\" y=\"-258.8\" font-family=\"Times New Roman,serif\" font-size=\"14.00\">until &lt;= 0.055</text>\r\n",
       "<text text-anchor=\"middle\" x=\"381.5\" y=\"-243.8\" font-family=\"Times New Roman,serif\" font-size=\"14.00\">entropy = 1.969</text>\r\n",
       "<text text-anchor=\"middle\" x=\"381.5\" y=\"-228.8\" font-family=\"Times New Roman,serif\" font-size=\"14.00\">samples = 395</text>\r\n",
       "<text text-anchor=\"middle\" x=\"381.5\" y=\"-213.8\" font-family=\"Times New Roman,serif\" font-size=\"14.00\">value = [1, 132, 61, 93, 108]</text>\r\n",
       "<text text-anchor=\"middle\" x=\"381.5\" y=\"-198.8\" font-family=\"Times New Roman,serif\" font-size=\"14.00\">class = Neutral / author is just sharing information</text>\r\n",
       "</g>\r\n",
       "<!-- 1&#45;&gt;2 -->\r\n",
       "<g id=\"edge2\" class=\"edge\"><title>1&#45;&gt;2</title>\r\n",
       "<path fill=\"none\" stroke=\"black\" d=\"M567.485,-311.215C542.016,-300.573 514.262,-288.976 488.152,-278.065\"/>\r\n",
       "<polygon fill=\"black\" stroke=\"black\" points=\"489.19,-274.706 478.614,-274.08 486.491,-281.165 489.19,-274.706\"/>\r\n",
       "</g>\r\n",
       "<!-- 253 -->\r\n",
       "<g id=\"node10\" class=\"node\"><title>253</title>\r\n",
       "<polygon fill=\"none\" stroke=\"black\" points=\"742,-274 581,-274 581,-191 742,-191 742,-274\"/>\r\n",
       "<text text-anchor=\"middle\" x=\"661.5\" y=\"-258.8\" font-family=\"Times New Roman,serif\" font-size=\"14.00\">severe &lt;= 0.052</text>\r\n",
       "<text text-anchor=\"middle\" x=\"661.5\" y=\"-243.8\" font-family=\"Times New Roman,serif\" font-size=\"14.00\">entropy = 1.603</text>\r\n",
       "<text text-anchor=\"middle\" x=\"661.5\" y=\"-228.8\" font-family=\"Times New Roman,serif\" font-size=\"14.00\">samples = 141</text>\r\n",
       "<text text-anchor=\"middle\" x=\"661.5\" y=\"-213.8\" font-family=\"Times New Roman,serif\" font-size=\"14.00\">value = [0, 11, 55, 10, 65]</text>\r\n",
       "<text text-anchor=\"middle\" x=\"661.5\" y=\"-198.8\" font-family=\"Times New Roman,serif\" font-size=\"14.00\">class = I can&#39;t tell</text>\r\n",
       "</g>\r\n",
       "<!-- 1&#45;&gt;253 -->\r\n",
       "<g id=\"edge9\" class=\"edge\"><title>1&#45;&gt;253</title>\r\n",
       "<path fill=\"none\" stroke=\"black\" d=\"M661.5,-309.907C661.5,-301.649 661.5,-292.864 661.5,-284.302\"/>\r\n",
       "<polygon fill=\"black\" stroke=\"black\" points=\"665,-284.021 661.5,-274.021 658,-284.021 665,-284.021\"/>\r\n",
       "</g>\r\n",
       "<!-- 3 -->\r\n",
       "<g id=\"node4\" class=\"node\"><title>3</title>\r\n",
       "<polygon fill=\"none\" stroke=\"black\" points=\"293,-155 0,-155 0,-72 293,-72 293,-155\"/>\r\n",
       "<text text-anchor=\"middle\" x=\"146.5\" y=\"-139.8\" font-family=\"Times New Roman,serif\" font-size=\"14.00\">freezing &lt;= 0.127</text>\r\n",
       "<text text-anchor=\"middle\" x=\"146.5\" y=\"-124.8\" font-family=\"Times New Roman,serif\" font-size=\"14.00\">entropy = 1.943</text>\r\n",
       "<text text-anchor=\"middle\" x=\"146.5\" y=\"-109.8\" font-family=\"Times New Roman,serif\" font-size=\"14.00\">samples = 381</text>\r\n",
       "<text text-anchor=\"middle\" x=\"146.5\" y=\"-94.8\" font-family=\"Times New Roman,serif\" font-size=\"14.00\">value = [1, 132, 49, 93, 106]</text>\r\n",
       "<text text-anchor=\"middle\" x=\"146.5\" y=\"-79.8\" font-family=\"Times New Roman,serif\" font-size=\"14.00\">class = Neutral / author is just sharing information</text>\r\n",
       "</g>\r\n",
       "<!-- 2&#45;&gt;3 -->\r\n",
       "<g id=\"edge3\" class=\"edge\"><title>2&#45;&gt;3</title>\r\n",
       "<path fill=\"none\" stroke=\"black\" d=\"M299.968,-190.907C279.644,-180.789 257.731,-169.879 237.003,-159.559\"/>\r\n",
       "<polygon fill=\"black\" stroke=\"black\" points=\"238.4,-156.345 227.888,-155.021 235.28,-162.611 238.4,-156.345\"/>\r\n",
       "</g>\r\n",
       "<!-- 250 -->\r\n",
       "<g id=\"node7\" class=\"node\"><title>250</title>\r\n",
       "<polygon fill=\"none\" stroke=\"black\" points=\"451.5,-155 311.5,-155 311.5,-72 451.5,-72 451.5,-155\"/>\r\n",
       "<text text-anchor=\"middle\" x=\"381.5\" y=\"-139.8\" font-family=\"Times New Roman,serif\" font-size=\"14.00\">can &lt;= 0.057</text>\r\n",
       "<text text-anchor=\"middle\" x=\"381.5\" y=\"-124.8\" font-family=\"Times New Roman,serif\" font-size=\"14.00\">entropy = 0.592</text>\r\n",
       "<text text-anchor=\"middle\" x=\"381.5\" y=\"-109.8\" font-family=\"Times New Roman,serif\" font-size=\"14.00\">samples = 14</text>\r\n",
       "<text text-anchor=\"middle\" x=\"381.5\" y=\"-94.8\" font-family=\"Times New Roman,serif\" font-size=\"14.00\">value = [0, 0, 12, 0, 2]</text>\r\n",
       "<text text-anchor=\"middle\" x=\"381.5\" y=\"-79.8\" font-family=\"Times New Roman,serif\" font-size=\"14.00\">class = Positive</text>\r\n",
       "</g>\r\n",
       "<!-- 2&#45;&gt;250 -->\r\n",
       "<g id=\"edge6\" class=\"edge\"><title>2&#45;&gt;250</title>\r\n",
       "<path fill=\"none\" stroke=\"black\" d=\"M381.5,-190.907C381.5,-182.649 381.5,-173.864 381.5,-165.302\"/>\r\n",
       "<polygon fill=\"black\" stroke=\"black\" points=\"385,-165.021 381.5,-155.021 378,-165.021 385,-165.021\"/>\r\n",
       "</g>\r\n",
       "<!-- 4 -->\r\n",
       "<g id=\"node5\" class=\"node\"><title>4</title>\r\n",
       "<polygon fill=\"none\" stroke=\"black\" points=\"137.5,-36 83.5,-36 83.5,-0 137.5,-0 137.5,-36\"/>\r\n",
       "<text text-anchor=\"middle\" x=\"110.5\" y=\"-14.3\" font-family=\"Times New Roman,serif\" font-size=\"14.00\">(...)</text>\r\n",
       "</g>\r\n",
       "<!-- 3&#45;&gt;4 -->\r\n",
       "<g id=\"edge4\" class=\"edge\"><title>3&#45;&gt;4</title>\r\n",
       "<path fill=\"none\" stroke=\"black\" d=\"M130.815,-71.7615C127.457,-63.0419 123.991,-54.0385 120.893,-45.9921\"/>\r\n",
       "<polygon fill=\"black\" stroke=\"black\" points=\"124.061,-44.4797 117.201,-36.4051 117.528,-46.9949 124.061,-44.4797\"/>\r\n",
       "</g>\r\n",
       "<!-- 247 -->\r\n",
       "<g id=\"node6\" class=\"node\"><title>247</title>\r\n",
       "<polygon fill=\"none\" stroke=\"black\" points=\"209.5,-36 155.5,-36 155.5,-0 209.5,-0 209.5,-36\"/>\r\n",
       "<text text-anchor=\"middle\" x=\"182.5\" y=\"-14.3\" font-family=\"Times New Roman,serif\" font-size=\"14.00\">(...)</text>\r\n",
       "</g>\r\n",
       "<!-- 3&#45;&gt;247 -->\r\n",
       "<g id=\"edge5\" class=\"edge\"><title>3&#45;&gt;247</title>\r\n",
       "<path fill=\"none\" stroke=\"black\" d=\"M162.185,-71.7615C165.543,-63.0419 169.009,-54.0385 172.107,-45.9921\"/>\r\n",
       "<polygon fill=\"black\" stroke=\"black\" points=\"175.472,-46.9949 175.799,-36.4051 168.939,-44.4797 175.472,-46.9949\"/>\r\n",
       "</g>\r\n",
       "<!-- 251 -->\r\n",
       "<g id=\"node8\" class=\"node\"><title>251</title>\r\n",
       "<polygon fill=\"none\" stroke=\"black\" points=\"348.5,-36 294.5,-36 294.5,-0 348.5,-0 348.5,-36\"/>\r\n",
       "<text text-anchor=\"middle\" x=\"321.5\" y=\"-14.3\" font-family=\"Times New Roman,serif\" font-size=\"14.00\">(...)</text>\r\n",
       "</g>\r\n",
       "<!-- 250&#45;&gt;251 -->\r\n",
       "<g id=\"edge7\" class=\"edge\"><title>250&#45;&gt;251</title>\r\n",
       "<path fill=\"none\" stroke=\"black\" d=\"M355.358,-71.7615C349.513,-62.6543 343.471,-53.2376 338.136,-44.925\"/>\r\n",
       "<polygon fill=\"black\" stroke=\"black\" points=\"341.016,-42.931 332.669,-36.4051 335.124,-46.7116 341.016,-42.931\"/>\r\n",
       "</g>\r\n",
       "<!-- 252 -->\r\n",
       "<g id=\"node9\" class=\"node\"><title>252</title>\r\n",
       "<polygon fill=\"none\" stroke=\"black\" points=\"420.5,-36 366.5,-36 366.5,-0 420.5,-0 420.5,-36\"/>\r\n",
       "<text text-anchor=\"middle\" x=\"393.5\" y=\"-14.3\" font-family=\"Times New Roman,serif\" font-size=\"14.00\">(...)</text>\r\n",
       "</g>\r\n",
       "<!-- 250&#45;&gt;252 -->\r\n",
       "<g id=\"edge8\" class=\"edge\"><title>250&#45;&gt;252</title>\r\n",
       "<path fill=\"none\" stroke=\"black\" d=\"M386.728,-71.7615C387.823,-63.2356 388.952,-54.4385 389.967,-46.5299\"/>\r\n",
       "<polygon fill=\"black\" stroke=\"black\" points=\"393.465,-46.7693 391.266,-36.4051 386.522,-45.8782 393.465,-46.7693\"/>\r\n",
       "</g>\r\n",
       "<!-- 254 -->\r\n",
       "<g id=\"node11\" class=\"node\"><title>254</title>\r\n",
       "<polygon fill=\"none\" stroke=\"black\" points=\"631,-155 470,-155 470,-72 631,-72 631,-155\"/>\r\n",
       "<text text-anchor=\"middle\" x=\"550.5\" y=\"-139.8\" font-family=\"Times New Roman,serif\" font-size=\"14.00\">sunny &lt;= 0.084</text>\r\n",
       "<text text-anchor=\"middle\" x=\"550.5\" y=\"-124.8\" font-family=\"Times New Roman,serif\" font-size=\"14.00\">entropy = 1.615</text>\r\n",
       "<text text-anchor=\"middle\" x=\"550.5\" y=\"-109.8\" font-family=\"Times New Roman,serif\" font-size=\"14.00\">samples = 130</text>\r\n",
       "<text text-anchor=\"middle\" x=\"550.5\" y=\"-94.8\" font-family=\"Times New Roman,serif\" font-size=\"14.00\">value = [0, 11, 44, 10, 65]</text>\r\n",
       "<text text-anchor=\"middle\" x=\"550.5\" y=\"-79.8\" font-family=\"Times New Roman,serif\" font-size=\"14.00\">class = I can&#39;t tell</text>\r\n",
       "</g>\r\n",
       "<!-- 253&#45;&gt;254 -->\r\n",
       "<g id=\"edge10\" class=\"edge\"><title>253&#45;&gt;254</title>\r\n",
       "<path fill=\"none\" stroke=\"black\" d=\"M622.989,-190.907C614.293,-181.742 604.982,-171.927 596.028,-162.489\"/>\r\n",
       "<polygon fill=\"black\" stroke=\"black\" points=\"598.365,-159.867 588.943,-155.021 593.286,-164.684 598.365,-159.867\"/>\r\n",
       "</g>\r\n",
       "<!-- 329 -->\r\n",
       "<g id=\"node14\" class=\"node\"><title>329</title>\r\n",
       "<polygon fill=\"none\" stroke=\"black\" points=\"789.5,-147.5 649.5,-147.5 649.5,-79.5 789.5,-79.5 789.5,-147.5\"/>\r\n",
       "<text text-anchor=\"middle\" x=\"719.5\" y=\"-132.3\" font-family=\"Times New Roman,serif\" font-size=\"14.00\">entropy = 0.0</text>\r\n",
       "<text text-anchor=\"middle\" x=\"719.5\" y=\"-117.3\" font-family=\"Times New Roman,serif\" font-size=\"14.00\">samples = 11</text>\r\n",
       "<text text-anchor=\"middle\" x=\"719.5\" y=\"-102.3\" font-family=\"Times New Roman,serif\" font-size=\"14.00\">value = [0, 0, 11, 0, 0]</text>\r\n",
       "<text text-anchor=\"middle\" x=\"719.5\" y=\"-87.3\" font-family=\"Times New Roman,serif\" font-size=\"14.00\">class = Positive</text>\r\n",
       "</g>\r\n",
       "<!-- 253&#45;&gt;329 -->\r\n",
       "<g id=\"edge13\" class=\"edge\"><title>253&#45;&gt;329</title>\r\n",
       "<path fill=\"none\" stroke=\"black\" d=\"M681.623,-190.907C687.093,-179.873 693.029,-167.898 698.544,-156.773\"/>\r\n",
       "<polygon fill=\"black\" stroke=\"black\" points=\"701.753,-158.181 703.058,-147.667 695.481,-155.072 701.753,-158.181\"/>\r\n",
       "</g>\r\n",
       "<!-- 255 -->\r\n",
       "<g id=\"node12\" class=\"node\"><title>255</title>\r\n",
       "<polygon fill=\"none\" stroke=\"black\" points=\"541.5,-36 487.5,-36 487.5,-0 541.5,-0 541.5,-36\"/>\r\n",
       "<text text-anchor=\"middle\" x=\"514.5\" y=\"-14.3\" font-family=\"Times New Roman,serif\" font-size=\"14.00\">(...)</text>\r\n",
       "</g>\r\n",
       "<!-- 254&#45;&gt;255 -->\r\n",
       "<g id=\"edge11\" class=\"edge\"><title>254&#45;&gt;255</title>\r\n",
       "<path fill=\"none\" stroke=\"black\" d=\"M534.815,-71.7615C531.457,-63.0419 527.991,-54.0385 524.893,-45.9921\"/>\r\n",
       "<polygon fill=\"black\" stroke=\"black\" points=\"528.061,-44.4797 521.201,-36.4051 521.528,-46.9949 528.061,-44.4797\"/>\r\n",
       "</g>\r\n",
       "<!-- 318 -->\r\n",
       "<g id=\"node13\" class=\"node\"><title>318</title>\r\n",
       "<polygon fill=\"none\" stroke=\"black\" points=\"613.5,-36 559.5,-36 559.5,-0 613.5,-0 613.5,-36\"/>\r\n",
       "<text text-anchor=\"middle\" x=\"586.5\" y=\"-14.3\" font-family=\"Times New Roman,serif\" font-size=\"14.00\">(...)</text>\r\n",
       "</g>\r\n",
       "<!-- 254&#45;&gt;318 -->\r\n",
       "<g id=\"edge12\" class=\"edge\"><title>254&#45;&gt;318</title>\r\n",
       "<path fill=\"none\" stroke=\"black\" d=\"M566.185,-71.7615C569.543,-63.0419 573.009,-54.0385 576.107,-45.9921\"/>\r\n",
       "<polygon fill=\"black\" stroke=\"black\" points=\"579.472,-46.9949 579.799,-36.4051 572.939,-44.4797 579.472,-46.9949\"/>\r\n",
       "</g>\r\n",
       "<!-- 331 -->\r\n",
       "<g id=\"node16\" class=\"node\"><title>331</title>\r\n",
       "<polygon fill=\"none\" stroke=\"black\" points=\"1101,-274 808,-274 808,-191 1101,-191 1101,-274\"/>\r\n",
       "<text text-anchor=\"middle\" x=\"954.5\" y=\"-258.8\" font-family=\"Times New Roman,serif\" font-size=\"14.00\">link &lt;= 0.024</text>\r\n",
       "<text text-anchor=\"middle\" x=\"954.5\" y=\"-243.8\" font-family=\"Times New Roman,serif\" font-size=\"14.00\">entropy = 1.755</text>\r\n",
       "<text text-anchor=\"middle\" x=\"954.5\" y=\"-228.8\" font-family=\"Times New Roman,serif\" font-size=\"14.00\">samples = 230</text>\r\n",
       "<text text-anchor=\"middle\" x=\"954.5\" y=\"-213.8\" font-family=\"Times New Roman,serif\" font-size=\"14.00\">value = [1, 89, 55, 77, 8]</text>\r\n",
       "<text text-anchor=\"middle\" x=\"954.5\" y=\"-198.8\" font-family=\"Times New Roman,serif\" font-size=\"14.00\">class = Neutral / author is just sharing information</text>\r\n",
       "</g>\r\n",
       "<!-- 330&#45;&gt;331 -->\r\n",
       "<g id=\"edge15\" class=\"edge\"><title>330&#45;&gt;331</title>\r\n",
       "<path fill=\"none\" stroke=\"black\" d=\"M954.5,-309.907C954.5,-301.649 954.5,-292.864 954.5,-284.302\"/>\r\n",
       "<polygon fill=\"black\" stroke=\"black\" points=\"958,-284.021 954.5,-274.021 951,-284.021 958,-284.021\"/>\r\n",
       "</g>\r\n",
       "<!-- 476 -->\r\n",
       "<g id=\"node23\" class=\"node\"><title>476</title>\r\n",
       "<polygon fill=\"none\" stroke=\"black\" points=\"1259.5,-266.5 1119.5,-266.5 1119.5,-198.5 1259.5,-198.5 1259.5,-266.5\"/>\r\n",
       "<text text-anchor=\"middle\" x=\"1189.5\" y=\"-251.3\" font-family=\"Times New Roman,serif\" font-size=\"14.00\">entropy = 0.0</text>\r\n",
       "<text text-anchor=\"middle\" x=\"1189.5\" y=\"-236.3\" font-family=\"Times New Roman,serif\" font-size=\"14.00\">samples = 34</text>\r\n",
       "<text text-anchor=\"middle\" x=\"1189.5\" y=\"-221.3\" font-family=\"Times New Roman,serif\" font-size=\"14.00\">value = [0, 0, 34, 0, 0]</text>\r\n",
       "<text text-anchor=\"middle\" x=\"1189.5\" y=\"-206.3\" font-family=\"Times New Roman,serif\" font-size=\"14.00\">class = Positive</text>\r\n",
       "</g>\r\n",
       "<!-- 330&#45;&gt;476 -->\r\n",
       "<g id=\"edge22\" class=\"edge\"><title>330&#45;&gt;476</title>\r\n",
       "<path fill=\"none\" stroke=\"black\" d=\"M1037.03,-309.961C1060.47,-298.392 1086.01,-285.741 1109.5,-274 1111.28,-273.113 1113.07,-272.213 1114.88,-271.305\"/>\r\n",
       "<polygon fill=\"black\" stroke=\"black\" points=\"1116.67,-274.323 1124.04,-266.707 1113.53,-268.067 1116.67,-274.323\"/>\r\n",
       "</g>\r\n",
       "<!-- 332 -->\r\n",
       "<g id=\"node17\" class=\"node\"><title>332</title>\r\n",
       "<polygon fill=\"none\" stroke=\"black\" points=\"1101,-155 808,-155 808,-72 1101,-72 1101,-155\"/>\r\n",
       "<text text-anchor=\"middle\" x=\"954.5\" y=\"-139.8\" font-family=\"Times New Roman,serif\" font-size=\"14.00\">beautiful &lt;= 0.058</text>\r\n",
       "<text text-anchor=\"middle\" x=\"954.5\" y=\"-124.8\" font-family=\"Times New Roman,serif\" font-size=\"14.00\">entropy = 1.603</text>\r\n",
       "<text text-anchor=\"middle\" x=\"954.5\" y=\"-109.8\" font-family=\"Times New Roman,serif\" font-size=\"14.00\">samples = 176</text>\r\n",
       "<text text-anchor=\"middle\" x=\"954.5\" y=\"-94.8\" font-family=\"Times New Roman,serif\" font-size=\"14.00\">value = [1, 82, 24, 65, 4]</text>\r\n",
       "<text text-anchor=\"middle\" x=\"954.5\" y=\"-79.8\" font-family=\"Times New Roman,serif\" font-size=\"14.00\">class = Neutral / author is just sharing information</text>\r\n",
       "</g>\r\n",
       "<!-- 331&#45;&gt;332 -->\r\n",
       "<g id=\"edge16\" class=\"edge\"><title>331&#45;&gt;332</title>\r\n",
       "<path fill=\"none\" stroke=\"black\" d=\"M954.5,-190.907C954.5,-182.649 954.5,-173.864 954.5,-165.302\"/>\r\n",
       "<polygon fill=\"black\" stroke=\"black\" points=\"958,-165.021 954.5,-155.021 951,-165.021 958,-165.021\"/>\r\n",
       "</g>\r\n",
       "<!-- 443 -->\r\n",
       "<g id=\"node20\" class=\"node\"><title>443</title>\r\n",
       "<polygon fill=\"none\" stroke=\"black\" points=\"1266,-155 1119,-155 1119,-72 1266,-72 1266,-155\"/>\r\n",
       "<text text-anchor=\"middle\" x=\"1192.5\" y=\"-139.8\" font-family=\"Times New Roman,serif\" font-size=\"14.00\">the &lt;= 0.054</text>\r\n",
       "<text text-anchor=\"middle\" x=\"1192.5\" y=\"-124.8\" font-family=\"Times New Roman,serif\" font-size=\"14.00\">entropy = 1.602</text>\r\n",
       "<text text-anchor=\"middle\" x=\"1192.5\" y=\"-109.8\" font-family=\"Times New Roman,serif\" font-size=\"14.00\">samples = 54</text>\r\n",
       "<text text-anchor=\"middle\" x=\"1192.5\" y=\"-94.8\" font-family=\"Times New Roman,serif\" font-size=\"14.00\">value = [0, 7, 31, 12, 4]</text>\r\n",
       "<text text-anchor=\"middle\" x=\"1192.5\" y=\"-79.8\" font-family=\"Times New Roman,serif\" font-size=\"14.00\">class = Positive</text>\r\n",
       "</g>\r\n",
       "<!-- 331&#45;&gt;443 -->\r\n",
       "<g id=\"edge19\" class=\"edge\"><title>331&#45;&gt;443</title>\r\n",
       "<path fill=\"none\" stroke=\"black\" d=\"M1037.07,-190.907C1060.54,-179.371 1086.1,-166.806 1109.59,-155.259\"/>\r\n",
       "<polygon fill=\"black\" stroke=\"black\" points=\"1111.39,-158.272 1118.82,-150.72 1108.3,-151.99 1111.39,-158.272\"/>\r\n",
       "</g>\r\n",
       "<!-- 333 -->\r\n",
       "<g id=\"node18\" class=\"node\"><title>333</title>\r\n",
       "<polygon fill=\"none\" stroke=\"black\" points=\"945.5,-36 891.5,-36 891.5,-0 945.5,-0 945.5,-36\"/>\r\n",
       "<text text-anchor=\"middle\" x=\"918.5\" y=\"-14.3\" font-family=\"Times New Roman,serif\" font-size=\"14.00\">(...)</text>\r\n",
       "</g>\r\n",
       "<!-- 332&#45;&gt;333 -->\r\n",
       "<g id=\"edge17\" class=\"edge\"><title>332&#45;&gt;333</title>\r\n",
       "<path fill=\"none\" stroke=\"black\" d=\"M938.815,-71.7615C935.457,-63.0419 931.991,-54.0385 928.893,-45.9921\"/>\r\n",
       "<polygon fill=\"black\" stroke=\"black\" points=\"932.061,-44.4797 925.201,-36.4051 925.528,-46.9949 932.061,-44.4797\"/>\r\n",
       "</g>\r\n",
       "<!-- 442 -->\r\n",
       "<g id=\"node19\" class=\"node\"><title>442</title>\r\n",
       "<polygon fill=\"none\" stroke=\"black\" points=\"1017.5,-36 963.5,-36 963.5,-0 1017.5,-0 1017.5,-36\"/>\r\n",
       "<text text-anchor=\"middle\" x=\"990.5\" y=\"-14.3\" font-family=\"Times New Roman,serif\" font-size=\"14.00\">(...)</text>\r\n",
       "</g>\r\n",
       "<!-- 332&#45;&gt;442 -->\r\n",
       "<g id=\"edge18\" class=\"edge\"><title>332&#45;&gt;442</title>\r\n",
       "<path fill=\"none\" stroke=\"black\" d=\"M970.185,-71.7615C973.543,-63.0419 977.009,-54.0385 980.107,-45.9921\"/>\r\n",
       "<polygon fill=\"black\" stroke=\"black\" points=\"983.472,-46.9949 983.799,-36.4051 976.939,-44.4797 983.472,-46.9949\"/>\r\n",
       "</g>\r\n",
       "<!-- 444 -->\r\n",
       "<g id=\"node21\" class=\"node\"><title>444</title>\r\n",
       "<polygon fill=\"none\" stroke=\"black\" points=\"1183.5,-36 1129.5,-36 1129.5,-0 1183.5,-0 1183.5,-36\"/>\r\n",
       "<text text-anchor=\"middle\" x=\"1156.5\" y=\"-14.3\" font-family=\"Times New Roman,serif\" font-size=\"14.00\">(...)</text>\r\n",
       "</g>\r\n",
       "<!-- 443&#45;&gt;444 -->\r\n",
       "<g id=\"edge20\" class=\"edge\"><title>443&#45;&gt;444</title>\r\n",
       "<path fill=\"none\" stroke=\"black\" d=\"M1176.81,-71.7615C1173.46,-63.0419 1169.99,-54.0385 1166.89,-45.9921\"/>\r\n",
       "<polygon fill=\"black\" stroke=\"black\" points=\"1170.06,-44.4797 1163.2,-36.4051 1163.53,-46.9949 1170.06,-44.4797\"/>\r\n",
       "</g>\r\n",
       "<!-- 469 -->\r\n",
       "<g id=\"node22\" class=\"node\"><title>469</title>\r\n",
       "<polygon fill=\"none\" stroke=\"black\" points=\"1255.5,-36 1201.5,-36 1201.5,-0 1255.5,-0 1255.5,-36\"/>\r\n",
       "<text text-anchor=\"middle\" x=\"1228.5\" y=\"-14.3\" font-family=\"Times New Roman,serif\" font-size=\"14.00\">(...)</text>\r\n",
       "</g>\r\n",
       "<!-- 443&#45;&gt;469 -->\r\n",
       "<g id=\"edge21\" class=\"edge\"><title>443&#45;&gt;469</title>\r\n",
       "<path fill=\"none\" stroke=\"black\" d=\"M1208.19,-71.7615C1211.54,-63.0419 1215.01,-54.0385 1218.11,-45.9921\"/>\r\n",
       "<polygon fill=\"black\" stroke=\"black\" points=\"1221.47,-46.9949 1221.8,-36.4051 1214.94,-44.4797 1221.47,-46.9949\"/>\r\n",
       "</g>\r\n",
       "</g>\r\n",
       "</svg>\r\n"
      ],
      "text/plain": [
       "<graphviz.files.Source at 0x21dd9e8bf28>"
      ]
     },
     "execution_count": 70,
     "metadata": {},
     "output_type": "execute_result"
    }
   ],
   "source": [
    "from sklearn.tree import DecisionTreeClassifier, export_graphviz\n",
    "import graphviz\n",
    "\n",
    "# TODO: build the pipeline with the Decision Tree Classifier\n",
    "pipeline = build_pipeline(DecisionTreeClassifier(criterion=\"entropy\"), x_train, y_train)\n",
    "# extract the classifier and the count_vectorizer from the pipeline\n",
    "classifier= pipeline.get_params()['classifier']\n",
    "count_vectorizer = pipeline.get_params()['count_vectorizer']\n",
    "# TODO: Use export_graphviz to visualize the classifiers. You already have all the needed parameters.\n",
    "dot_data = export_graphviz(classifier, out_file=None,max_depth=3,\n",
    "                           feature_names=count_vectorizer.get_feature_names(),class_names=class_names) \n",
    "\n",
    "graph = graphviz.Source(dot_data) \n",
    "graph"
   ]
  },
  {
   "cell_type": "markdown",
   "metadata": {},
   "source": [
    "### Task 7 Get Feature Importance"
   ]
  },
  {
   "cell_type": "markdown",
   "metadata": {},
   "source": [
    "One way to debug our classifiers and see how they are working is to investigate the features and print the most important ones. We'll do that next. But to start, let's do one more preprocessing step that further removes some of the noise: removing stop words."
   ]
  },
  {
   "cell_type": "code",
   "execution_count": 87,
   "metadata": {},
   "outputs": [],
   "source": [
    "from nltk.corpus import stopwords\n",
    "\n",
    "# remove stopwords in order to improve interpretability\n",
    "stop = stopwords.words('english')\n",
    "stop += ['rt','@mention:','@mention','link']\n",
    "\n",
    "# TODO: write a function that removes the stop words from each string in a numpy array of strings \n",
    "def remove_stopwords(x_train):\n",
    "    return np.array( [' '.join([word for word in sample.split() if word.lower() not in stop]) for sample in x_train])\n",
    "\n",
    "def remove_stopwords2(x_train):    \n",
    "    no_stopwords = []\n",
    "    for sample in x_train:\n",
    "        words = sample.split()\n",
    "        no_stopwords.append(' '.join([word for word in words if word.lower() not in stop]))        \n",
    "        \n",
    "    return no_stopwords\n",
    "        \n",
    "x_train_nostop = remove_stopwords2(x_train)\n",
    "x_test_no_stop = remove_stopwords2(x_test)\n",
    "\n",
    "# cannot use shape for list so gotta convert\n",
    "#print(x_test_no_stop, x_train_nostop)"
   ]
  },
  {
   "cell_type": "markdown",
   "metadata": {},
   "source": [
    "Now we're ready to get the most important features for each class. Complete the function below with the missing lines. An easy sanity check is to see if the words that are important for the \"Positive\" class are actually positive and vice-versa!"
   ]
  },
  {
   "cell_type": "code",
   "execution_count": 88,
   "metadata": {},
   "outputs": [
    {
     "name": "stdout",
     "output_type": "stream",
     "text": [
      "Positive happy -8.163601302391118\n",
      "Positive finally -8.159550374748074\n",
      "Positive makes -8.152284050523633\n",
      "Positive today -8.125858823042785\n",
      "Positive enjoying -8.125576700231523\n",
      "Positive nice weather -8.10547064791869\n",
      "Positive link -8.097106083050884\n",
      "Positive morning -8.09448158933246\n",
      "Positive outside -8.091663660331598\n",
      "Positive good -8.088806114634265\n",
      "Positive great -8.070930841607627\n",
      "Positive degrees -8.049640998830213\n",
      "Positive perfect -8.014499083633432\n",
      "Positive love -7.9112063752900035\n",
      "Positive day -7.706535291978532\n",
      "Positive nice -7.6400017923051475\n",
      "Positive beautiful -7.625771448097126\n",
      "Positive sunny -7.2473280228060535\n",
      "Positive weather -7.080171658562108\n",
      "Positive sunshine -7.018656429045416\n"
     ]
    }
   ],
   "source": [
    "def most_informative_feature_for_class(vectorizer, classifier, classlabel, n=20):\n",
    "    labelid = list(classifier.classes_).index(classlabel)\n",
    "    # TODO: get the feature names from the vectorizer\n",
    "    feature_names = vectorizer.get_feature_names()\n",
    "    topn = sorted(zip(classifier.coef_[labelid], feature_names))[-n:]\n",
    "\n",
    "    for coef, feat in topn:\n",
    "        print(classlabel, feat, coef)\n",
    "\n",
    "        \n",
    "pipeline = build_pipeline(MultinomialNB(),x_train_nostop,y_train)\n",
    "# TODO: get the most informative features for a Multinomial NB classifier \n",
    "# by using the function above for the classes \"Positive\" and \"Negative\"\n",
    "classifier= pipeline.get_params()['classifier']\n",
    "count_vectorizer = pipeline.get_params()['count_vectorizer']\n",
    "most_informative_feature_for_class(count_vectorizer,classifier,\"Positive\")"
   ]
  },
  {
   "cell_type": "code",
   "execution_count": 89,
   "metadata": {},
   "outputs": [
    {
     "name": "stdout",
     "output_type": "stream",
     "text": [
      "Negative hell -8.184503723315022\n",
      "Negative rain -8.151658960650298\n",
      "Negative today -8.147139336389547\n",
      "Negative still -8.132978195718179\n",
      "Negative link -8.091783849733085\n",
      "Negative bad -8.069736056603208\n",
      "Negative hot outside -8.05661872697531\n",
      "Negative day -8.025060969613758\n",
      "Negative back -7.943785524389041\n",
      "Negative like -7.936695453436311\n",
      "Negative degrees -7.92032987891538\n",
      "Negative windy -7.9163696859053845\n",
      "Negative storm -7.91048488420533\n",
      "Negative rainy -7.903034255007368\n",
      "Negative damn -7.8585062764255165\n",
      "Negative cold -7.59313659791499\n",
      "Negative outside -7.32968343050078\n",
      "Negative hot -7.266815631057397\n",
      "Negative freezing -7.17867326300183\n",
      "Negative weather -6.966379664167334\n"
     ]
    }
   ],
   "source": [
    "most_informative_feature_for_class(count_vectorizer, classifier, \"Negative\")"
   ]
  },
  {
   "cell_type": "code",
   "execution_count": 90,
   "metadata": {},
   "outputs": [
    {
     "name": "stdout",
     "output_type": "stream",
     "text": [
      "Neutral / author is just sharing information 53 -8.099983849477056\n",
      "Neutral / author is just sharing information county -8.098278213448436\n",
      "Neutral / author is just sharing information thunderstorm warning -8.023901464841614\n",
      "Neutral / author is just sharing information may -8.005305328388932\n",
      "Neutral / author is just sharing information warning -7.9421307797731355\n",
      "Neutral / author is just sharing information severe thunderstorm -7.912376144436435\n",
      "Neutral / author is just sharing information 00 -7.8811980545148606\n",
      "Neutral / author is just sharing information feels 29 -7.859060747660535\n",
      "Neutral / author is just sharing information thunderstorm -7.85000187580823\n",
      "Neutral / author is just sharing information storm -7.750467442995474\n",
      "Neutral / author is just sharing information severe -7.695270367599485\n",
      "Neutral / author is just sharing information 29 -7.616574627740441\n",
      "Neutral / author is just sharing information 0f -7.534601093015213\n",
      "Neutral / author is just sharing information 0f feels -7.534601093015213\n",
      "Neutral / author is just sharing information feels -7.485956111930308\n",
      "Neutral / author is just sharing information pm -7.464478569526836\n",
      "Neutral / author is just sharing information wind -7.414560935282549\n",
      "Neutral / author is just sharing information humidity -7.410837546429698\n",
      "Neutral / author is just sharing information weather -7.101258945495497\n",
      "Neutral / author is just sharing information link -7.037601034214971\n"
     ]
    }
   ],
   "source": [
    "most_informative_feature_for_class(count_vectorizer, classifier, \"Neutral / author is just sharing information\")"
   ]
  },
  {
   "cell_type": "markdown",
   "metadata": {},
   "source": [
    "### Task 8: Cross validation"
   ]
  },
  {
   "cell_type": "markdown",
   "metadata": {},
   "source": [
    "Above, we were using a training set and a testing set for evaluating our models. A more robust way to evaluate a model is to use cross validation. In the code below, we will do such evaluation. At the same time, we will use the cross-validation results to select better parameters for our model. More specifically, we will find a good `alpha` parameter for the `MultinomialNB` model. Hence, we will plot the variation of the F1 score for the \"Positive\" and the \"Negative\" labels."
   ]
  },
  {
   "cell_type": "code",
   "execution_count": 97,
   "metadata": {},
   "outputs": [],
   "source": [
    "from sklearn.model_selection import ShuffleSplit\n",
    "from sklearn.pipeline import make_pipeline\n",
    "from sklearn.model_selection import cross_val_score\n",
    "from sklearn.metrics import precision_recall_fscore_support\n",
    "from sklearn.model_selection import StratifiedKFold\n",
    "\n",
    "# construct a new X and y \n",
    "X = np.concatenate((x_train_nostop, x_test_no_stop),axis=0)\n",
    "y = np.concatenate((y_train, y_test),axis=0)  \n",
    "\n",
    "# prepare for the cross validation \n",
    "kf = StratifiedKFold(n_splits=5,random_state=4)\n",
    "\n",
    "alphas = [(i*0.1) for i in range(0,10)]\n",
    "\n",
    "total_f1_pos = []\n",
    "total_f1_neg = []\n",
    "\n",
    "for a in alphas:\n",
    "    f_score_pos = []\n",
    "    f_score_neg = []\n",
    "    for train_index, test_index in kf.split(X,y):\n",
    "        \n",
    "        # TODO: build the pipeline for the current alpha and the current training and testing set \n",
    "        pipeline = build_pipeline(MultinomialNB(alpha=a),X[train_index],y[train_index])\n",
    "       \n",
    "        y_predicted = pipeline.predict(X[test_index])\n",
    "        report  = precision_recall_fscore_support(y[test_index], y_predicted)\n",
    "        print(report)\n",
    "        \n",
    "        # let's get the f1_score value for the \"Positive\" and the \"Negative\" labels to plot them\n",
    "        \n",
    "        ind_pos = list(pipeline.classes_).index('Positive')\n",
    "        ind_neg = list(pipeline.classes_).index('Negative')\n",
    "\n",
    "        # report 0 is precision\n",
    "        # report 2 is f-score\n",
    "        fscore_positive = report[0][ind_pos]\n",
    "        fscore_negative = report[0][ind_neg]\n",
    "        \n",
    "        # f_score_pos is a list for each k\n",
    "        f_score_pos += [fscore_positive]\n",
    "        f_score_neg += [fscore_negative]\n",
    "        \n",
    "    # TODO: extend the arrays with the average  fscore_positive and fscore_negative repsectively.\n",
    "    # total_f1_pos is a list for the average of the k for each alphas\n",
    "    total_f1_pos += [np.mean(fscore_positive)]\n",
    "    total_f1_neg += [np.mean(fscore_negative)]\n",
    "        "
   ]
  },
  {
   "cell_type": "markdown",
   "metadata": {},
   "source": [
    "We now plot the variation of the F1 score with different `alpha` values."
   ]
  },
  {
   "cell_type": "code",
   "execution_count": 23,
   "metadata": {},
   "outputs": [
    {
     "data": {
      "image/png": "[encoded data removed]",
      "text/plain": [
       "<matplotlib.figure.Figure at 0x25da69ca240>"
      ]
     },
     "metadata": {},
     "output_type": "display_data"
    }
   ],
   "source": [
    "plt.plot(alphas,total_f1_pos,label='Positive')\n",
    "plt.plot(alphas,total_f1_neg,label='Negative')\n",
    "\n",
    "plt.xlabel('alpha')\n",
    "plt.ylabel('Precision')\n",
    "plt.legend()\n",
    "plt.show()"
   ]
  },
  {
   "cell_type": "markdown",
   "metadata": {},
   "source": [
    "### Bonus Task 9: Food for thought\n",
    "\n",
    "There is a lot of room for improvement in the above problem. Here are some issues to think about:\n",
    "- You can see a lot of numbers and measures of wind speed or humidity in the dataset. Can we do some custom tokenization to group these similar features into a single one?\n",
    "- Can we alternatively discretize these measures and turn them into discrete features like low/high wind speed? If people are expressing sentiment based on temperature, humdity, etc., this could be a good potential classifier which can work well in practice.\n",
    "- You have seen that some of the labels have no predictions in the testing set. This is due to the imbalanced dataset. What can we do to improve this?"
   ]
  }
 ],
 "metadata": {
  "anaconda-cloud": {},
  "kernelspec": {
   "display_name": "Python (DIS2018)",
   "language": "python",
   "name": "dis2018"
  },
  "language_info": {
   "codemirror_mode": {
    "name": "ipython",
    "version": 3
   },
   "file_extension": ".py",
   "mimetype": "text/x-python",
   "name": "python",
   "nbconvert_exporter": "python",
   "pygments_lexer": "ipython3",
   "version": "3.5.4"
  }
 },
 "nbformat": 4,
 "nbformat_minor": 1
}
