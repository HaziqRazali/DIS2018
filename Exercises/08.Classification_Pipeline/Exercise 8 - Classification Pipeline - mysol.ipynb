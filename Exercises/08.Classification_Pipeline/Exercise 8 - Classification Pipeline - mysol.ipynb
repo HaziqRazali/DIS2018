{
 "cells": [
  {
   "cell_type": "markdown",
   "metadata": {
    "collapsed": true
   },
   "source": [
    "# Exercise 8: Classification Pipeline"
   ]
  },
  {
   "cell_type": "markdown",
   "metadata": {},
   "source": [
    "**Libaries needed: pandas, sklearn>=0.19, numpy, nltk, graphviz (python-graphviz), e.g.**\n",
    "```\n",
    "conda install graphviz\n",
    "conda install python-graphviz\n",
    "```"
   ]
  },
  {
   "cell_type": "markdown",
   "metadata": {},
   "source": [
    "First, make sure your environment is setup with the right libraries. In this exercise, you should be filling the empty code sections, marked as `TODO:`"
   ]
  },
  {
   "cell_type": "code",
   "execution_count": 1,
   "metadata": {
    "collapsed": true
   },
   "outputs": [],
   "source": [
    "import pandas as pd\n",
    "import matplotlib\n",
    "import matplotlib.pyplot as plt\n",
    "import seaborn as sns\n",
    "import numpy as np\n",
    "import warnings\n",
    "warnings.filterwarnings('ignore')"
   ]
  },
  {
   "cell_type": "markdown",
   "metadata": {
    "collapsed": true
   },
   "source": [
    "## Analyzing Weather Sentiments in Tweets\n",
    "\n",
    "In this exercise, we consider the [Weather sentiment](https://data.world/crowdflower/weather-sentiment) dataset from [Crowdflower](https://www.crowdflower.com/).\n",
    "\n",
    "To create this dataset, contributors were asked to grade the sentiment of a particular tweet relating to the weather. Contributors could choose among the following categories:\n",
    "1. Positive\n",
    "2. Negative\n",
    "3. I can't tell\n",
    "4. Neutral / author is just sharing information\n",
    "5. Tweet not related to weather condition\n",
    "\n",
    "The catch is that 20 contributors graded each tweet. Thus, in many cases contributors assigned conflicting sentiment labels to the same tweet. \n",
    "\n",
    "In the `data` directory, you will find the file [weather-non-agg-DFE.csv](data/weather-non-agg-DFE.csv) containing the raw contributor answers for each of the 1,000 tweets.\n",
    "\n",
    "\n",
    "The fields of the csv file are as follows:\n",
    "1. **_unit\\_id_**: CrowdFlower’s numeric ID for the unit,\n",
    "2. **channel**: channel via which the contributor entered the job,\n",
    "3. **trust**: the contributor's accuracy level in the current job, determined by their accuracy on the Test Questions they’ve seen in the job,\n",
    "4. **worker_id**: CrowdFlower Contributor ID,\n",
    "5. **country**: worker's country code\n",
    "6. **region**: worker's region\n",
    "7. **city**: worker's city\n",
    "8. **emotion**: worker's assigned emotion to the tweet\n",
    "9. **tweet_id**: id of the tweet\n",
    "10. **tweet_body**: body text of the tweet\n",
    "\n",
    "\n",
    "Our goal in this exercise is to build a classifier that predicts the tweet's emotion according to the aforementioned categories. Towards that, we will be first aggregating the results of the crowdflower task in order to get a clean dataset. Then we will be preparing the data features by tokenizing the text. Finally, we will be inputting these features into a text classifier. \n"
   ]
  },
  {
   "cell_type": "markdown",
   "metadata": {
    "collapsed": true
   },
   "source": [
    "### Task 1: Data Formatting\n",
    "\n",
    "To begin with let's load the data into a format we can work with.\n",
    "\n"
   ]
  },
  {
   "cell_type": "code",
   "execution_count": 2,
   "metadata": {},
   "outputs": [
    {
     "name": "stdout",
     "output_type": "stream",
     "text": [
      "(20000, 10)\n"
     ]
    },
    {
     "data": {
      "text/html": [
       "<div>\n",
       "<style scoped>\n",
       "    .dataframe tbody tr th:only-of-type {\n",
       "        vertical-align: middle;\n",
       "    }\n",
       "\n",
       "    .dataframe tbody tr th {\n",
       "        vertical-align: top;\n",
       "    }\n",
       "\n",
       "    .dataframe thead th {\n",
       "        text-align: right;\n",
       "    }\n",
       "</style>\n",
       "<table border=\"1\" class=\"dataframe\">\n",
       "  <thead>\n",
       "    <tr style=\"text-align: right;\">\n",
       "      <th></th>\n",
       "      <th>_unit_id_</th>\n",
       "      <th>channel</th>\n",
       "      <th>trust</th>\n",
       "      <th>worker_id</th>\n",
       "      <th>country</th>\n",
       "      <th>region</th>\n",
       "      <th>city</th>\n",
       "      <th>emotion</th>\n",
       "      <th>tweet_id</th>\n",
       "      <th>tweet_body</th>\n",
       "    </tr>\n",
       "  </thead>\n",
       "  <tbody>\n",
       "    <tr>\n",
       "      <th>0</th>\n",
       "      <td>314960382</td>\n",
       "      <td>clixsense</td>\n",
       "      <td>0.4541</td>\n",
       "      <td>18034918</td>\n",
       "      <td>IND</td>\n",
       "      <td>7</td>\n",
       "      <td>Delhi</td>\n",
       "      <td>Neutral / author is just sharing information</td>\n",
       "      <td>82846118</td>\n",
       "      <td>Fire Weather Watch issued May 17 at 4:21PM CDT...</td>\n",
       "    </tr>\n",
       "    <tr>\n",
       "      <th>1</th>\n",
       "      <td>314960385</td>\n",
       "      <td>clixsense</td>\n",
       "      <td>0.4541</td>\n",
       "      <td>18034918</td>\n",
       "      <td>IND</td>\n",
       "      <td>7</td>\n",
       "      <td>Delhi</td>\n",
       "      <td>Positive</td>\n",
       "      <td>82510997</td>\n",
       "      <td>Passing out now.  working tonight. Storms toda...</td>\n",
       "    </tr>\n",
       "    <tr>\n",
       "      <th>2</th>\n",
       "      <td>314960391</td>\n",
       "      <td>clixsense</td>\n",
       "      <td>0.4541</td>\n",
       "      <td>18034918</td>\n",
       "      <td>IND</td>\n",
       "      <td>7</td>\n",
       "      <td>Delhi</td>\n",
       "      <td>Negative</td>\n",
       "      <td>83271279</td>\n",
       "      <td>RT @mention: \"The storm is only that which aut...</td>\n",
       "    </tr>\n",
       "    <tr>\n",
       "      <th>3</th>\n",
       "      <td>314960396</td>\n",
       "      <td>clixsense</td>\n",
       "      <td>0.4541</td>\n",
       "      <td>18034918</td>\n",
       "      <td>IND</td>\n",
       "      <td>7</td>\n",
       "      <td>Delhi</td>\n",
       "      <td>Positive</td>\n",
       "      <td>80058872</td>\n",
       "      <td>It is hot out here but it feels great</td>\n",
       "    </tr>\n",
       "    <tr>\n",
       "      <th>4</th>\n",
       "      <td>314960400</td>\n",
       "      <td>clixsense</td>\n",
       "      <td>0.4541</td>\n",
       "      <td>18034918</td>\n",
       "      <td>IND</td>\n",
       "      <td>7</td>\n",
       "      <td>Delhi</td>\n",
       "      <td>Neutral / author is just sharing information</td>\n",
       "      <td>80058809</td>\n",
       "      <td>I can't find a way to delete my iWitness Weath...</td>\n",
       "    </tr>\n",
       "  </tbody>\n",
       "</table>\n",
       "</div>"
      ],
      "text/plain": [
       "   _unit_id_    channel   trust  worker_id country region   city  \\\n",
       "0  314960382  clixsense  0.4541   18034918     IND      7  Delhi   \n",
       "1  314960385  clixsense  0.4541   18034918     IND      7  Delhi   \n",
       "2  314960391  clixsense  0.4541   18034918     IND      7  Delhi   \n",
       "3  314960396  clixsense  0.4541   18034918     IND      7  Delhi   \n",
       "4  314960400  clixsense  0.4541   18034918     IND      7  Delhi   \n",
       "\n",
       "                                        emotion  tweet_id  \\\n",
       "0  Neutral / author is just sharing information  82846118   \n",
       "1                                      Positive  82510997   \n",
       "2                                      Negative  83271279   \n",
       "3                                      Positive  80058872   \n",
       "4  Neutral / author is just sharing information  80058809   \n",
       "\n",
       "                                          tweet_body  \n",
       "0  Fire Weather Watch issued May 17 at 4:21PM CDT...  \n",
       "1  Passing out now.  working tonight. Storms toda...  \n",
       "2  RT @mention: \"The storm is only that which aut...  \n",
       "3              It is hot out here but it feels great  \n",
       "4  I can't find a way to delete my iWitness Weath...  "
      ]
     },
     "execution_count": 2,
     "metadata": {},
     "output_type": "execute_result"
    }
   ],
   "source": [
    "data = pd.read_csv('data/weather-non-agg-DFE.csv')\n",
    "# print the shape of our data frame\n",
    "print(data.shape)\n",
    "data.head()"
   ]
  },
  {
   "cell_type": "markdown",
   "metadata": {},
   "source": [
    "Let's see how our labels are distributed:"
   ]
  },
  {
   "cell_type": "code",
   "execution_count": 3,
   "metadata": {},
   "outputs": [
    {
     "name": "stdout",
     "output_type": "stream",
     "text": [
      "For all tweets:\n",
      "Neutral / author is just sharing information    5371\n",
      "Negative                                        4986\n",
      "Positive                                        4953\n",
      "Tweet not related to weather condition          3553\n",
      "I can't tell                                    1137\n",
      "Name: emotion, dtype: int64\n",
      "For tweet_id=82846118:\n",
      "Neutral / author is just sharing information    16\n",
      "Positive                                         1\n",
      "Negative                                         1\n",
      "I can't tell                                     1\n",
      "Tweet not related to weather condition           1\n",
      "Name: emotion, dtype: int64\n"
     ]
    }
   ],
   "source": [
    "print(\"For all tweets:\\n\" + str(data.emotion.value_counts()))\n",
    "print(\"For tweet_id=82846118:\\n\" + str(data[data.tweet_id==82846118].emotion.value_counts()))"
   ]
  },
  {
   "cell_type": "markdown",
   "metadata": {
    "collapsed": true
   },
   "source": [
    "### Task 2: Aggregating the Annotations\n",
    "\n",
    "Now we will be aggregating the data of the workers to obtain one label per tweet. Your input is the pandas data frame `data`. Your output should be a data frame of 1000 rows, with one `emotion` field for each `tweet_id`. You should use the Majority Decision algorithm, where the value of `emotion` field is simply the one occurring most frequently per `tweet_id`.\n",
    "\n",
    "\n"
   ]
  },
  {
   "cell_type": "code",
   "execution_count": 4,
   "metadata": {
    "scrolled": true
   },
   "outputs": [],
   "source": [
    "# We're only interested in these columns for now ['tweet_id','emotion', 'tweet_body'].\n",
    "# We convert the data to an object with just these columns \n",
    "data= data[['tweet_id','emotion', 'tweet_body']]\n",
    "\n",
    "d = {}\n",
    "for i, tweet_id in enumerate(data.tweet_id.unique()):\n",
    "    # get all tweets with tweet_id\n",
    "    data_temp = data.loc[data['tweet_id'] == tweet_id]\n",
    "    \n",
    "    # fill the current index with the tweet_id, emotion, and tweet_body\n",
    "    d[i] = [tweet_id, data_temp['emotion'].value_counts().idxmax(), data.loc[data['tweet_id'] == tweet_id].iloc[0]['tweet_body']]\n",
    "\n",
    "# TODO: Next we group the data with here\n",
    "agg_data = pd.DataFrame.from_dict(d, orient='index')\n",
    "agg_data.columns = ['tweet_id','emotion', 'tweet_body']"
   ]
  },
  {
   "cell_type": "markdown",
   "metadata": {},
   "source": [
    "By now, your data should have been aggregated. You should get 1000 rows in total as we had 20 labels. The index column for your data frame would be the `tweet_id`. Let's get a preview of how the data frame looks like now."
   ]
  },
  {
   "cell_type": "code",
   "execution_count": 5,
   "metadata": {},
   "outputs": [
    {
     "name": "stdout",
     "output_type": "stream",
     "text": [
      "data shape: (1000, 3)\n",
      "data columns: Index(['tweet_id', 'emotion', 'tweet_body'], dtype='object')\n",
      "data columns: None\n"
     ]
    },
    {
     "data": {
      "text/html": [
       "<div>\n",
       "<style scoped>\n",
       "    .dataframe tbody tr th:only-of-type {\n",
       "        vertical-align: middle;\n",
       "    }\n",
       "\n",
       "    .dataframe tbody tr th {\n",
       "        vertical-align: top;\n",
       "    }\n",
       "\n",
       "    .dataframe thead th {\n",
       "        text-align: right;\n",
       "    }\n",
       "</style>\n",
       "<table border=\"1\" class=\"dataframe\">\n",
       "  <thead>\n",
       "    <tr style=\"text-align: right;\">\n",
       "      <th></th>\n",
       "      <th>tweet_id</th>\n",
       "      <th>emotion</th>\n",
       "      <th>tweet_body</th>\n",
       "    </tr>\n",
       "  </thead>\n",
       "  <tbody>\n",
       "    <tr>\n",
       "      <th>0</th>\n",
       "      <td>82846118</td>\n",
       "      <td>Neutral / author is just sharing information</td>\n",
       "      <td>Fire Weather Watch issued May 17 at 4:21PM CDT...</td>\n",
       "    </tr>\n",
       "    <tr>\n",
       "      <th>1</th>\n",
       "      <td>82510997</td>\n",
       "      <td>Positive</td>\n",
       "      <td>Passing out now.  working tonight. Storms toda...</td>\n",
       "    </tr>\n",
       "    <tr>\n",
       "      <th>2</th>\n",
       "      <td>83271279</td>\n",
       "      <td>Tweet not related to weather condition</td>\n",
       "      <td>RT @mention: \"The storm is only that which aut...</td>\n",
       "    </tr>\n",
       "    <tr>\n",
       "      <th>3</th>\n",
       "      <td>80058872</td>\n",
       "      <td>Positive</td>\n",
       "      <td>It is hot out here but it feels great</td>\n",
       "    </tr>\n",
       "    <tr>\n",
       "      <th>4</th>\n",
       "      <td>80058809</td>\n",
       "      <td>Tweet not related to weather condition</td>\n",
       "      <td>I can't find a way to delete my iWitness Weath...</td>\n",
       "    </tr>\n",
       "  </tbody>\n",
       "</table>\n",
       "</div>"
      ],
      "text/plain": [
       "   tweet_id                                       emotion  \\\n",
       "0  82846118  Neutral / author is just sharing information   \n",
       "1  82510997                                      Positive   \n",
       "2  83271279        Tweet not related to weather condition   \n",
       "3  80058872                                      Positive   \n",
       "4  80058809        Tweet not related to weather condition   \n",
       "\n",
       "                                          tweet_body  \n",
       "0  Fire Weather Watch issued May 17 at 4:21PM CDT...  \n",
       "1  Passing out now.  working tonight. Storms toda...  \n",
       "2  RT @mention: \"The storm is only that which aut...  \n",
       "3              It is hot out here but it feels great  \n",
       "4  I can't find a way to delete my iWitness Weath...  "
      ]
     },
     "execution_count": 5,
     "metadata": {},
     "output_type": "execute_result"
    }
   ],
   "source": [
    "# We can verify the shape of the resulting data (should be (1000,2))\n",
    "print('data shape:',agg_data.shape)\n",
    "# We can also check the columns and the index\n",
    "print('data columns:',agg_data.columns)\n",
    "print('data columns:',agg_data.index.name)\n",
    "agg_data.head()"
   ]
  },
  {
   "cell_type": "markdown",
   "metadata": {},
   "source": [
    "We will split now the dataset into two parts, the training data and the testing data. The test data should be 0.2 of the original data size. "
   ]
  },
  {
   "cell_type": "code",
   "execution_count": 6,
   "metadata": {
    "collapsed": true
   },
   "outputs": [],
   "source": [
    "from sklearn.model_selection import train_test_split\n",
    "\n",
    "# TODO: fill here\n",
    "train_data, test_data = train_test_split(agg_data, test_size=0.2)"
   ]
  },
  {
   "cell_type": "code",
   "execution_count": 7,
   "metadata": {},
   "outputs": [
    {
     "data": {
      "text/html": [
       "<div>\n",
       "<style scoped>\n",
       "    .dataframe tbody tr th:only-of-type {\n",
       "        vertical-align: middle;\n",
       "    }\n",
       "\n",
       "    .dataframe tbody tr th {\n",
       "        vertical-align: top;\n",
       "    }\n",
       "\n",
       "    .dataframe thead th {\n",
       "        text-align: right;\n",
       "    }\n",
       "</style>\n",
       "<table border=\"1\" class=\"dataframe\">\n",
       "  <thead>\n",
       "    <tr style=\"text-align: right;\">\n",
       "      <th></th>\n",
       "      <th>tweet_id</th>\n",
       "      <th>emotion</th>\n",
       "      <th>tweet_body</th>\n",
       "    </tr>\n",
       "  </thead>\n",
       "  <tbody>\n",
       "    <tr>\n",
       "      <th>840</th>\n",
       "      <td>82673954</td>\n",
       "      <td>Negative</td>\n",
       "      <td>Burr it's so cold out today! I definitely am n...</td>\n",
       "    </tr>\n",
       "    <tr>\n",
       "      <th>410</th>\n",
       "      <td>82848803</td>\n",
       "      <td>Negative</td>\n",
       "      <td>Where's the sunshine? I think Texas is calling...</td>\n",
       "    </tr>\n",
       "    <tr>\n",
       "      <th>839</th>\n",
       "      <td>83269981</td>\n",
       "      <td>Positive</td>\n",
       "      <td>@mention sunny I love u</td>\n",
       "    </tr>\n",
       "    <tr>\n",
       "      <th>346</th>\n",
       "      <td>80059799</td>\n",
       "      <td>Neutral / author is just sharing information</td>\n",
       "      <td>I'm gonna take a bath and read. I planned to m...</td>\n",
       "    </tr>\n",
       "    <tr>\n",
       "      <th>505</th>\n",
       "      <td>80050754</td>\n",
       "      <td>Positive</td>\n",
       "      <td>#bestdogever Crummy weather in WI. Perfect day...</td>\n",
       "    </tr>\n",
       "  </tbody>\n",
       "</table>\n",
       "</div>"
      ],
      "text/plain": [
       "     tweet_id                                       emotion  \\\n",
       "840  82673954                                      Negative   \n",
       "410  82848803                                      Negative   \n",
       "839  83269981                                      Positive   \n",
       "346  80059799  Neutral / author is just sharing information   \n",
       "505  80050754                                      Positive   \n",
       "\n",
       "                                            tweet_body  \n",
       "840  Burr it's so cold out today! I definitely am n...  \n",
       "410  Where's the sunshine? I think Texas is calling...  \n",
       "839                            @mention sunny I love u  \n",
       "346  I'm gonna take a bath and read. I planned to m...  \n",
       "505  #bestdogever Crummy weather in WI. Perfect day...  "
      ]
     },
     "execution_count": 7,
     "metadata": {},
     "output_type": "execute_result"
    }
   ],
   "source": [
    "# check a sample of the training data\n",
    "train_data.head()"
   ]
  },
  {
   "cell_type": "code",
   "execution_count": 8,
   "metadata": {},
   "outputs": [
    {
     "data": {
      "text/html": [
       "<div>\n",
       "<style scoped>\n",
       "    .dataframe tbody tr th:only-of-type {\n",
       "        vertical-align: middle;\n",
       "    }\n",
       "\n",
       "    .dataframe tbody tr th {\n",
       "        vertical-align: top;\n",
       "    }\n",
       "\n",
       "    .dataframe thead th {\n",
       "        text-align: right;\n",
       "    }\n",
       "</style>\n",
       "<table border=\"1\" class=\"dataframe\">\n",
       "  <thead>\n",
       "    <tr style=\"text-align: right;\">\n",
       "      <th></th>\n",
       "      <th>tweet_id</th>\n",
       "      <th>emotion</th>\n",
       "      <th>tweet_body</th>\n",
       "    </tr>\n",
       "  </thead>\n",
       "  <tbody>\n",
       "    <tr>\n",
       "      <th>701</th>\n",
       "      <td>84051181</td>\n",
       "      <td>Tweet not related to weather condition</td>\n",
       "      <td>Visit {link} &amp; #NowPlaying on {link} Long Way ...</td>\n",
       "    </tr>\n",
       "    <tr>\n",
       "      <th>988</th>\n",
       "      <td>84031114</td>\n",
       "      <td>Neutral / author is just sharing information</td>\n",
       "      <td>#C4IforHumanity: Extreme Weather - North-Ameri...</td>\n",
       "    </tr>\n",
       "    <tr>\n",
       "      <th>129</th>\n",
       "      <td>83255916</td>\n",
       "      <td>Neutral / author is just sharing information</td>\n",
       "      <td>It's windy here too. RT @mention: Rustling nig...</td>\n",
       "    </tr>\n",
       "    <tr>\n",
       "      <th>282</th>\n",
       "      <td>82840011</td>\n",
       "      <td>Neutral / author is just sharing information</td>\n",
       "      <td>@mention @mention Tech Ops stated that the tic...</td>\n",
       "    </tr>\n",
       "    <tr>\n",
       "      <th>9</th>\n",
       "      <td>82680080</td>\n",
       "      <td>Tweet not related to weather condition</td>\n",
       "      <td>@mention cherry slush</td>\n",
       "    </tr>\n",
       "  </tbody>\n",
       "</table>\n",
       "</div>"
      ],
      "text/plain": [
       "     tweet_id                                       emotion  \\\n",
       "701  84051181        Tweet not related to weather condition   \n",
       "988  84031114  Neutral / author is just sharing information   \n",
       "129  83255916  Neutral / author is just sharing information   \n",
       "282  82840011  Neutral / author is just sharing information   \n",
       "9    82680080        Tweet not related to weather condition   \n",
       "\n",
       "                                            tweet_body  \n",
       "701  Visit {link} & #NowPlaying on {link} Long Way ...  \n",
       "988  #C4IforHumanity: Extreme Weather - North-Ameri...  \n",
       "129  It's windy here too. RT @mention: Rustling nig...  \n",
       "282  @mention @mention Tech Ops stated that the tic...  \n",
       "9                                @mention cherry slush  "
      ]
     },
     "execution_count": 8,
     "metadata": {},
     "output_type": "execute_result"
    }
   ],
   "source": [
    "# check a sample of the test data\n",
    "test_data.head()"
   ]
  },
  {
   "cell_type": "markdown",
   "metadata": {},
   "source": [
    "You can see the number of samples from each class."
   ]
  },
  {
   "cell_type": "code",
   "execution_count": 9,
   "metadata": {},
   "outputs": [
    {
     "name": "stdout",
     "output_type": "stream",
     "text": [
      "training\n",
      "Negative                                        216\n",
      "Positive                                        207\n",
      "Neutral / author is just sharing information    200\n",
      "Tweet not related to weather condition          176\n",
      "I can't tell                                      1\n",
      "Name: emotion, dtype: int64\n",
      "testing\n",
      "Negative                                        63\n",
      "Neutral / author is just sharing information    54\n",
      "Tweet not related to weather condition          43\n",
      "Positive                                        38\n",
      "I can't tell                                     2\n",
      "Name: emotion, dtype: int64\n"
     ]
    }
   ],
   "source": [
    "print('training') \n",
    "print(train_data.emotion.value_counts())\n",
    "print('testing')\n",
    "print(test_data.emotion.value_counts())"
   ]
  },
  {
   "cell_type": "markdown",
   "metadata": {},
   "source": [
    "### Task 3: Feature Creation\n",
    "\n",
    "Now that we have aggregated the data, we will work on creating the features to use in our classifier. The input to the classifier is a tweet. However, for this task, we will be using the tokens (e.g., words) in the tweet as the feautres.\n",
    "In specific, each tweet will be represented with a vector that indicates what words are in the tweet and how frequently each word occurs. This way, we do not account for the order of occurrence of these words. This kind of features is also called the **bag of words** technique."
   ]
  },
  {
   "cell_type": "markdown",
   "metadata": {},
   "source": [
    "Let's further process and take a look first on our data:"
   ]
  },
  {
   "cell_type": "code",
   "execution_count": 10,
   "metadata": {
    "scrolled": true
   },
   "outputs": [
    {
     "name": "stdout",
     "output_type": "stream",
     "text": [
      "[(\"Burr it's so cold out today! I definitely am not looking forward to sitting outside at a track meet! #cold #Ithoughtitwassummer\", 'Negative'), (\"Where's the sunshine? I think Texas is calling my name! Time to move back home!\", 'Negative'), ('@mention sunny I love u', 'Positive'), (\"I'm gonna take a bath and read. I planned to make pasta puttanesca for dinner, but the weather is making me want Chipotle Chicken Chowder.\", 'Neutral / author is just sharing information'), ('#bestdogever Crummy weather in WI. Perfect day for chilling with girl and K9. {link}', 'Positive'), ('RT @mention: TORNADO WARNING N central TX TORNADO NEAR SAGINAW...MOVING EAST SOUTHEAST AT 40 MPH.  SOFTBALL SIZED HAIL {link} ...', 'Neutral / author is just sharing information'), ('This weather forecast is depressing', 'Negative'), ('RT @mention: Man having argument with girlfriend jumps off Sunshine Skyway Bridge and lives {link}', 'Tweet not related to weather condition'), (\"What Produces Pippa's Perfect Posterior? Find out the Secret! Plus: New Pics Of Pippa Looking Hot In Tight Jeans: {link}\", 'Tweet not related to weather condition'), (\"#WeRockEachOthersWorlds @mention I am proud to be one of your Twitter BFF's, Frank! Hope you are having a #sunny day! *bright smile*\", 'Positive'), (\"Dateline: Elkhart Lake, WI - It's cloudy, chilly, rain in the forecast - perfect for manic depression. For testing a race car, not so much.\", 'Negative'), ('For storm and flood water repair, call NextGen Restoration experts. {link}', 'Neutral / author is just sharing information'), ('@mention what!!? Camping is so much fun!! water & sunshine during the day...clear skies & stars @ night!', 'Positive'), ('So, I heard \"I told the storm\" on the way to church and almost cried! It made me think of my mama', 'Tweet not related to weather condition'), ('#NowPlaying Black and Blue by Miike Snow ;) ;)', 'Tweet not related to weather condition'), (\"@mention unfortunately this wife doesn't come with a log of firewood for those chilly nights.\", 'Negative'), ('Discovery Kids Climate Cubes Weather Information Station - $12.99 + S&H {link}', 'Neutral / author is just sharing information'), ('Ooooh I know its gone be 1671 degrees at that track meet friday and full of niggas', 'Negative'), ('Help #Joplin-The Salvation Army providing emergency relief services.   Text the word \"Joplin\" to 80888 to make a $10 donation. #CNN weather', 'Tweet not related to weather condition'), (\"Just in! Joe's Provacateur petite bootcut in the Hannah wash. Perfect for warmer weather! {link}\", 'Positive'), ('Live web coverage from Springfield, MO of the #Joplin #tornado: {link}/  Thanks @mention', 'Neutral / author is just sharing information'), ('78.1F (Feels: 78.1F) - Humidity: 87% - Wind: 9.2mph NE - Gust: 13.0mph - Pressure: 1008.7mb (+0.5)  #weather {link}', 'Neutral / author is just sharing information'), ('GD: Light Rain and Windy and 54 F at Grand Island, Central Nebraska Regional Airport, NE Winds are from the North at 26 {link}', 'Neutral / author is just sharing information'), ('Just played: 3-04 Pocketful Of Sunshine - unknown - unknown(unknown)', 'Tweet not related to weather condition'), ('#NP Superstar 9000 feat. Stuey Rock - Thunderstorm by Superstar 9000.. - {link}', 'Tweet not related to weather condition'), ('RT @mention: My room is freezing', 'Negative'), ('@mention s friday at 6 at tha stadium ...if tha weather bad its gone be in tha gym at 3', 'Negative'), ('RT @mention: The Graduate School to award more than 635 degrees:  {link}', 'Tweet not related to weather condition'), (\"50 degrees and rainy. Guess there's no cookout.\", 'Negative'), ('YUMMAY RT @mention: Weather Up with @mention for some yummy oysters :)', 'Tweet not related to weather condition'), (\"Headed to Maker Faire this weekend.  Weather's supposed to be nice: partly cloudy with a small chance of DOOOOOM.\", 'Positive'), ('houston weather, may 21, diverticulitis, may 21st, ...: houston weather may 21 diverticulitis may 21st mary tyle...  {link}', 'Neutral / author is just sharing information'), ('Sunshine linked to fatherhood | Parent Pages for parents, families ... {link}', 'Tweet not related to weather condition'), ('If a storm picks up, lean into the wind instead of turning away from it if you want to keep balance', 'Neutral / author is just sharing information'), ('The weather better be right tonight!', 'Positive'), ('#np snow money- bun b', 'Tweet not related to weather condition'), ('73 and 87% humidity and it isn\\'t even 6 a.m. This is Oklahoma\\'s way of saying \"welcome home!\"', 'Neutral / author is just sharing information'), (\"it's a nice day in LA. sunny :)\", 'Positive'), ('Cool and rainy.  Solution: rum and cider at 8am! lol', 'Neutral / author is just sharing information'), (\"RT @mention: Congrats OKC is trending. What should be trending is #WatchoutMavs there's about to be a Thunderstorm in Dallas!\", 'Neutral / author is just sharing information'), ('#WEATHER:  7:52 am : 65.0F. Feels F. 29.53% Humidity. 16.1MPH Southwest Wind.', 'Neutral / author is just sharing information'), ('First and last time walking to a class on Friday in Cornell. Thanks to the snow. #ItsMay', 'Negative'), ('Putting all utensil away, covering all mirrors/monitor/television, staying away from windows and hiding in the closet! A storm is coming BRB', 'Negative'), ('159 degrees + large bacon cheeseburger + work = #poorlifechoices.', 'Negative'), ('Sitting in deepsea world with a mixed slush puppy and a scone. :)', 'Tweet not related to weather condition'), (\"New #iPhone / #iPad #app 'HurricaneSoftware.com's iHurricane With Push' (#Weather: 3 Stars) $2.99. {link}\", 'Neutral / author is just sharing information'), ('@mention listening to jdb before I go to bed.. It makes mr miss sophomore year and the exchange that summer we were storm chasers :)', 'Tweet not related to weather condition'), ('@mention Happy Birthday....weather is so shitty yeeeesh! Well atleast smile bright :D', 'Negative'), ('Severe Thunderstorm Warning for Atchison and Leavenworth County in KS until 9:45pm. Updates as needed from Bryan Busby', 'Neutral / author is just sharing information'), ('RT @mention: Help #Joplin-The Salvation Army providing emergency relief services.   Text the word \"Joplin\" to 80888 to make a $10  ...', 'Tweet not related to weather condition'), ('Nice day enjoy the sun and good weather cause I really not in the mood to work...', 'Positive'), (\"How are you liking my outfit, my wife picked it out. It's a little chilly, I'll never let her do that again #Reds\", 'Negative'), ('Is anyone else just sick and tired of this weather?', 'Negative'), ('Rainy Summer featured my #vintage shoes {link} via @mention', 'Tweet not related to weather condition'), ('Get the goodies! *SOLD OUT Mojo Moxy Poppys* {link} Follow & RT: Mojo Moxy shoes are HOT! #winhotshoes #contest', 'Tweet not related to weather condition'), ('Umm jealous!! RT @mention: Just checked the weather for Mexico..85 and sunny EVERYday :)', 'Positive'), (\"RT @mention: Tim Minchin Storm' rant animated using Adobe After Effects, Flash, Photoshop & a Wacom Cintiq - {link}\", 'Tweet not related to weather condition'), ('RT @mention: Tatum, NM @ 8:00 PM: Temp:75F(H 84/L 45), Hum:30&#x25;, DewPt:42F, Wind: SE at 17 G 27.0 mph, Rain:0.00 In. #weather', 'Neutral / author is just sharing information'), ('New: SatWeather  (Weather): SatWeather 1.0Device: iOS UniversalCategory: WeatherPrice: $.99, Version: 1.0 (iTunes) Description: \\t\\t\\tSa...', 'Neutral / author is just sharing information'), (\"Looks like sunshine all day. Although, I can't think of 1 outdoor concert in FL when it didn't rain. Bringing ponchos anyway #rockvillefest\", 'Positive'), ('@mention hangin out on corners hangin wit da fellers lookim out 4 hot chicks lol', 'Tweet not related to weather condition'), ('Severe weather delays Players Championship - {link}', 'Neutral / author is just sharing information'), (\"fuckin hell. its gonna rain and be chilly in st louis. of course. why can't it be like 90 and sunny.....ill never go there again LOL\", 'Negative'), ('Rainy weekend ahead...what will you be doing?~ Connie', 'Neutral / author is just sharing information'), ('#Childhoodmemories racing for a snow Coe after bball games at Germantown.', 'Tweet not related to weather condition'), ('RT @mention: @mention yeah me too,i`m freezing man...don`t let that sunshine fool you FOOOOOOOOOOOOOOOOOOOOOOL!!!!!!!!!!!', 'Negative'), ('#arenafootball @mention @mention {link} TD Storm off net!', 'Tweet not related to weather condition'), ('\"Oh rainy day, come \\'round. Sometimes I just want it to slow down.\" #coldplay', 'Tweet not related to weather condition'), ('Monday mornings, sunshine and planning ahead: Do you plan for the week ahead on Monday morning o... {link} (Via @mention)', 'Positive'), ('Sunshine parks and new hair scarves make life not so bad when @mention stays up all night.', 'Tweet not related to weather condition'), ('Updated flood information with rain continuing....{link}/', 'Neutral / author is just sharing information'), (\"@mention I'm off on Thursday but I'm keeping local at the moment for the lack of spondos! If it's sunny I'll be out photographing...\", 'Neutral / author is just sharing information'), ('Looking up in columbus circle #nyc #rain {link}', 'Neutral / author is just sharing information'), ('Partly Cloudy and 84 F at Stuart Powell Field Airport, KY The humidity is 40%. The heat index is 83.  Last Updated on M {link}', 'Neutral / author is just sharing information'), (\"RT @mention: Oh goodie...finally warm enough for the neighborhood banshees to be out in the streets cryin about who's turn it is to  ...\", 'Positive'), (\"72 degrees and sunny. Yeah it's  going to hell in a hat box\", 'Negative'), (\"Omg it's so freaking freezing in this biiiiiiiiiitch!\", 'Negative'), ('A church in Tuscaloosa is adopting 25 storm victim families from the Rosedale Community: {link}', 'Neutral / author is just sharing information'), ('No b-roll video will be shot until the weather warms up! Watching fans, drivers and crews in winter coats is not enjoyable TV.', 'Negative'), ('Weather keeping you indoors today? Join us for worship this weekend! Saturday at 5:30 pm, Sunday at 8:00 or 10:45 am.', 'Neutral / author is just sharing information'), ('@mention take chi- town by storm! I expect nothing less! and @mention you better be ready for me to visit!', 'Tweet not related to weather condition'), ('@mention same here in the bluegrass! I could do w/o the humidity though! :-)', 'Positive'), ('omg it so windy !!!!!', 'Negative'), ('@mention Because the temperature is 61 Degrees :)', 'Positive'), (\"It's not storm damage or budget negotiations, but many Minnesota military families are facing hardships now too. {link}\", 'Tweet not related to weather condition'), ('@mention &lt;folks are out enjoying the nice weather. Rain back Friday for the next six days.lol:-(', 'Positive'), ('This mornin my kids were makin me crazy! Just now we found a dvd of them singin U R My Sunshine at ages 20 mos, 4 & 6 &lt;3 #myraptureplaylist', 'Tweet not related to weather condition'), ('Damn its hot out. Even when not working on a 240 degree engine...', 'Negative'), ('@mention that was the effect I was hoping for haha, I hated that snow, I looked gorgeous that day bed head with old clothes on haha', 'Negative'), ('#WEATHER: 11:54 am : 67.0F. Feels F. 29.95% Humidity. 11.5MPH South Wind.', 'Neutral / author is just sharing information'), ('@mention nope. Never got a chance to head out. Next time. Thanks for the recommendation. Wish weather was better down there', 'Negative'), ('Really hot outside', 'Negative'), (\"@mention no, normal pajamas. it's not that cold out!\", 'Neutral / author is just sharing information'), ('If tommorow is nice weather, that would be the first week all year with good weather every single day! &lt;3 it really is #spring', 'Positive'), ('Enjoying the Midwest weather!', 'Positive'), ('FINALLY! The temp outside is over 70.', 'Positive'), (\"RT @mention Why does Lindsay Lohan hate Christmas? She's been in & out of rehab for dashing through the snow...LMMFAO\", 'Tweet not related to weather condition'), ('Weather Halts And Ends Tied Game In Seattle - GoDucks.com - The ... {link}', 'Neutral / author is just sharing information'), ('Stay safe all! RT @mention: New event. Severe Thunderstorm Watch from to 11:00 PM EDT for @mention {link}', 'Neutral / author is just sharing information'), ('Thanks for all the awesome birthday wishes! I think I might fine a sunny spot and curl up like a cat!', 'Positive'), ('New event. Severe Thunderstorm Warning from 5/25/2011 1:15 PM to 2:15 PM CDT for Christian Coun... Read more at {link}', 'Neutral / author is just sharing information'), ('@mention we have it here in Blue Ash. We waited out the storm eating fabulous burgers at the Oakley Pub. :)', 'Positive'), ('Im going to lunch early today.   The weather is nice outside so Im going to enjoy #metime somewhere pleasant :)', 'Positive'), (\"RT @mention: Learn more about CMC's new bachelor's degrees tonight in Edwards: 5:30-7pm! Sign up, learn more at {link} ...\", 'Tweet not related to weather condition'), ('@mention Greeting! I love Snow Patrol, so this is right up my street. Hear them here:{link}', 'Tweet not related to weather condition'), ('Spending the afternoon downtown with the family walking around the Canal and enjoying the beautiful weather #nomorerain', 'Positive'), ('Mostly sunny and 80 degrees saturday. Perfect weather for #preakness', 'Positive'), (\"@mention congratulations sir! I will fight until I have more degrees than you. I shall not be defeated! One more week; can't wait. #Indy\", 'Tweet not related to weather condition'), ('Hot off the presses! Check out the new issue of the Amadeus \"Prospectus\" newsletter. {link} #travelagent #traveltech', 'Tweet not related to weather condition'), (\"Partly Sunny Skies Show Up For Mother's Day - {link}\", 'Positive'), ('Today, give a stranger one of your smiles. It might be the only sunshine he sees all day.', 'Tweet not related to weather condition'), ('#WEATHER:  1:53 am : 61.0F. Feels 58F. 29.75% Humidity. 18.4MPH West Wind.', 'Neutral / author is just sharing information'), ('Weather chills hot air balloon stampede {link}', 'Neutral / author is just sharing information'), (\"Five months after the ice storm killed my sago palms I just realized that they're in pots and I could have moved them inside. Yup. #dumbass\", 'Negative'), ('RT @mention: My kids keep using words like \"fresh air\" & \"sunshine.\" Must go investigate. While I\\'m gone, would you read? {new post}  ...', 'Neutral / author is just sharing information'), ('RT @mention: #Salute to @mention for going to show the kids love out in Tuscaloosa who were affected by the storm. {link}. ...', 'Neutral / author is just sharing information'), (\"Wonderfully sunny day at Edmond's Art festival  #thelandofperfect\", 'Positive'), ('Sundress weather is the best weather.', 'Positive'), ('I favorited a @mention video {link} Keep On The Sunny Side - June Carter Cash', 'Tweet not related to weather condition'), (\"I also need to know why it's 65 degrees out right now. Stooooopppp.\", 'Negative'), (\"@mention It's supposed to go up to 70 today. Sunshine early. A slight chance for a shower or t-storm later. Going to my Aunt's house later.\", 'Positive'), ('@mention good morning Viv how are you this beautiful sunny morning', 'Positive'), ('I wish i was wearing pants right now. Its chilly outside.', 'Negative'), ('Mmmmmm warm sunny afternoon on a patio! (@ The Tavern Tech Center) {link}', 'Positive'), ('Nothing says \"Happy Cinco de Mayo!\" like an AP test and a rainy day. #fail', 'Positive'), ('Slush explosion date with steph #bonding', 'Tweet not related to weather condition'), ('So its freezing as shit this morning and my brothers mew roommate left open the windows. smooth.', 'Negative'), ('@mention You free tonight? Looks like the weather might be on our side.', 'Positive'), (\"7:30 final and its like 95 degrees. I can't take the biggest exam of the year under these conditions. #stupidhot\", 'Negative'), ('@mention I know what you mean! :) the day is going well,  we are finally having nice weather', 'Positive'), (\"Eat yourheart out too!i'm @ the vacation house.Nice weather&beautiful sight.Nothing like this in SG. ;p @mention  {link}\", 'Positive'), ('@mention correct! Weather is awful.. Headed out now to try and practice!', 'Negative'), ('Eewwww @mention member when I threw up pink in the snow o_O', 'Tweet not related to weather condition'), ('Damn weather, just turn and stay sunny.', 'Negative'), ('A storm with quarter-sized hail is making the situation in Joplin even tougher {link}', 'Negative'), ('Perfect weather for a natural disaster. I thnk 2012 came early...', 'Positive'), ('@mention We live out in the country (or the Boonies as we like to call it) so we see these things quite often as it starts to warm up.', 'Neutral / author is just sharing information'), (\"@mention Hint: It's windy. Nowhere super fun just yet...\", 'Negative'), ('This weather on some bullshit .', 'Negative'), (\"BTW, SkyWarn training last night rocked!  I'm certified!  :0)  Let the storm spotting begin!\", 'Positive'), ('#sunshine', 'Positive'), ('Reed Timmer is following Fairview storm right now, while launching 6 probes into large tornado.', 'Neutral / author is just sharing information'), ('Just saw Snow White working at Lady Foot Locker, she was looking hot, seriously, she was the fairest of the mall', 'Tweet not related to weather condition'), ('Tatum, NM @ 12:00 PM: Temp:90F(H 91/L 55), Hum: 3&#x25;, DewPt:-1F, Wind: WSW at 18 G 28.0 mph, Rain:0.00 In. #weather', 'Neutral / author is just sharing information'), ('Special Weather Statement issued May 13 at 1:46PM CDT expiring May 13 at 2:45PM CDT by NWS Mobile {link}/', 'Neutral / author is just sharing information'), ('@mention ditto I should have worn shorts today! Hello humidity!', 'Negative'), ('hello everyone; tut. tut, it looks like rain. Wish I could get two solid weeks of warm, sunny, breezy weather *sigh* #GroundhogDay', 'Negative'), ('I dunno which asshole in the sky flunked out of weather school or whatever but I should not need a jacket in May', 'Negative'), (\"I wanna do something fun but I don't want to be caught out in the storm tonight so I think I'll just stay home lol\", 'Negative'), ('If you are in Winston... I say we plan a pool party since it is hot as hell outside', 'Negative'), ('staying up late to craft up a STORM!', 'Tweet not related to weather condition'), ('Have to say though I think I have wind burn!  Wow it was windy! However tent,  windbreak, ME AND ER and guests survived!', 'Negative'), ('@mention I share you optimism about warmer weather but the storms look quite impressive on radar.', 'Positive'), ('misty, cloudy, rainy evening spoiled viewing of beautiful Niagara Falls...', 'Negative'), (\"I been freezing but didn't wana get up to fool with the air #lazytweet\", 'Negative'), ('Miss the parents pool! RT @mention: Hanging at Inlaws pool and pool house for Mothers Day!! Sunny and 80 degrees! {link}', 'Positive'), (\"Im not complaining but it's FREEZING in my room!\", 'Negative'), (\"#Today's #Cubs-#Giants game has been postponed due to the forecast for inclement weather & poor conditions throughout the day.\", 'Negative'), ('#WEATHER:  1:54 pm : 53.0F. Feels 49F. 29.82% Humidity. 12.7MPH Northwest Wind.', 'Neutral / author is just sharing information'), ('its gonna be 90 degrees Tuesday and Wednesday', 'Neutral / author is just sharing information'), ('@mention hahaha...tell Slush we are gonna win it next year!', 'Tweet not related to weather condition'), ('If you got on walmart snow boots in yo twitcon #sityoassdown. You are not badd.', 'Tweet not related to weather condition'), ('I hate this bi-polar weather in san Antonio', 'Negative'), ('Rhode Island: sunshine all beautiful _ MA : Dark n grey skies! Shits ugly!', 'Negative'), ('Lmao! Yesssss, I miss him. =( RT @mention @mention member @mention slipped in the snow wen he was tryna dig my car out my lmao', 'Neutral / author is just sharing information'), ('WTH....VA with this damn bipolar ass weather....', 'Negative'), ('Honeys, tonight is First Friday in the Crossroads Art District. And the weather is going to be GORGEOUS! Some come... {link}', 'Positive'), ('#WEATHER:  6:51 pm : 74.0F. Feels F. 29.88% Humidity. 0.0MPH North Wind.', 'Neutral / author is just sharing information'), ('#WEATHER:  12:56 am: 56.0F. Feels 52F. 29.81% Humidity. 18.4MPH Southwest Wind.', 'Neutral / author is just sharing information'), ('@mention  Sunshine! You lucky dog!', 'Positive'), (\"You're the best! Warm weather is calling now--let's make plans :) RT @mention: We all love having @mention & everyday #FF\", 'Positive'), (\"Jyeah RT @mention @mention Yea Brah Brah...We ain't gon say names cuz Niggas already Snow\", 'Tweet not related to weather condition'), (\"Ashley and Storm were watching Old Boy. It's dubbed, unfortunately, but whatevs.\", 'Tweet not related to weather condition'), ('Passing out now.  working tonight. Storms today would be nice. Would be great sleeping weather. Mmmm', 'Positive'), (\"Outside @mention waiting to see @mention & @mention. It's freezing but worth it :-)!!!!\", 'Positive'), ('Dirt 3 arrives with more rally, new modes and snowy skies. {link}', 'Tweet not related to weather condition'), ('Nothing beats a cozy, rainy evening in with homemade chili, cornbread, and too much bourbon for a Thursday night.', 'Positive'), (\"@mention yeah at times it's so hard to tell who's in the lifestyle, but then when you find out it's like duh should have known. she hot?\", 'Tweet not related to weather condition'), (\"Grilling kabobs on the grill last night was amazing! I'm so glad this weather is finally  here.\", 'Positive'), ('RT @mention: Weather Geek alert... #NOAA shows La Nina weakening (Seattle peeps, looking good for summer!) {link}', 'Neutral / author is just sharing information'), ('JC Blaze Storm: 4 - JC Blaze Cyclones: 0 |  Halftime | #StormSoccer', 'Tweet not related to weather condition'), (\"Severe Storm Damage In Southeast Wisconsin: At the height of Sunday's severe storms, thousands lost power in... {link}\", 'Neutral / author is just sharing information'), ('#WEATHER: 12:53 am : 49.0F. Feels 47F. 29.95% Humidity. 5.8MPH Northeast Wind.', 'Neutral / author is just sharing information'), (\"@mention I am too haha it's kinda hot out though\", 'Positive'), (\"40 & rainy is such a letdown after last week's weather :( Good day to move into a bigger bedroom though!\", 'Negative'), ('Severe weather delays White Sox-Rangers {link} via @mention', 'Negative'), ('Severe Thunderstorm Warning for Allen and Van Wert County in OH until 7:45pm EDT. #ohwx', 'Neutral / author is just sharing information'), ('B MY Sunshine - Nonprofit; To improve the environment of Special Needs Individuals, through there senses: touch, hear, smell and sight!!!', 'Tweet not related to weather condition'), ('#WEATHER:  4:53 pm : 67.0F. Feels F. 29.93% Humidity. 8.1MPH Southeast Wind.', 'Neutral / author is just sharing information'), ('Check it out!! RT @mention: I posted 46 photos on Facebook in the album \"Storm Damage\" {link}', 'Neutral / author is just sharing information'), (\"@mention I've heard the weather is lovely up there!\", 'Positive'), ('I actually like the #rain... Only because my umbrella is too cool... #zebraprint!', 'Positive'), (\"I'm at Turnpike S (Florida's Turnpike, Sunshine Parkway) {link}\", 'Tweet not related to weather condition'), ('Heading outside for a run. Enjoying this weather as much as I can before the rain inevitably returns.', 'Positive'), ('So the storm is no joke back in greensboro', 'Negative'), (\"@mention paid work is all good :0) Hopefully we'll have lots of sunshine for you to enjoy too xx\", 'Positive'), ('This weather is crazy, especially while driving. Maybe ballet will be canceled!', 'Negative'), ('84.2F (Feels: 89.9F) - Humidity: 67% - Wind: 15.2mph SSE - Gust: 20.6mph - Pressure: 1011.8mb (-0.2)  #weather {link}', 'Neutral / author is just sharing information'), ('Audible! Skipping KY weather; are now Nashville bound.', 'Neutral / author is just sharing information'), (\"This cold weather got me ready to lay up wit someone else's girlfriend.. #DontJudgeMe\", 'Negative'), ('Freezing my butt off. (@ Long Sands Beach) {link}', 'Negative'), ('RT @mention: Why is my house below zero degrees all the time?', 'Negative'), ('In Florida, the hotter it is outside, the colder it is inside. Freezing at my desk today.', 'Negative'), ('False friends are like our shadow, keeping close to us while we walk in the sunshine, but leaving us the instant... {link}', 'Tweet not related to weather condition'), ('Insaneeee weather over here!!!!', 'Negative'), ('RT @mention @mention Vote vote vote vote vote!!!!! 99jamz.com!!! Sunny Zoe!! RT!! Pls', 'Tweet not related to weather condition'), ('@mention been chatting up a storm on #BlackberryMessenger with a bunch of cool MMA people', 'Tweet not related to weather condition'), ('Severe Thunderstorm Warning for Choctaw, Montgomery, and Webster County in MS until 7:45pm. {link} #mswx', 'Neutral / author is just sharing information'), ('New event. Severe Thunderstorm Warning from 5/19/2011 3:57 PM to 5:00 PM CDT for Woodward Count... Read more at {link}', 'Neutral / author is just sharing information'), (\"Now's the time to sign up for ABC 17 severe weather texts: {link} Follow @mention & Facebook: {link}\", 'Neutral / author is just sharing information'), ('Severe Thunderstorm Warning for Lancaster County in PA until 7:30pm EDT. #pawx', 'Neutral / author is just sharing information'), ('@mention REALLY HOT. turns out, he ALWAYS grunts during that dance move. it\\'s louder in a diff. perf. really loud. like, \"ughhAHH~\"', 'Tweet not related to weather condition'), ('Its amazingly hot outside.. That means its time for the pool. Thank Goodness I look good in a 2 piece. :)', 'Positive'), ('#NMFire #NMwx Fire Weather Watch issued May 21 at 1:28PM MDT expiring May 23 at 9:00PM MDT by NWS Albuquerque... {link}', 'Neutral / author is just sharing information'), (\"BLOG UPDATE: {link} What's the difference between a dust devil & dust storm? #azwx\", 'Neutral / author is just sharing information'), ('@mention Exactly, hot weather got these rats on the prowl.', 'Negative'), (\"@mention I'm not related to him, but I know him from storm spotting for my county.\", 'Tweet not related to weather condition'), (\"@mention it won't last too long...the storm that is.. :) nice & sunny in my neck of the woods..\", 'Positive'), (\"@mention it's ok ;o) hot out tho. but cloudy.\", 'Neutral / author is just sharing information'), (\"Me and katilyn chatting up the movie, walk outside.. OMG. Sprint to car. We don't like thunder storms. #mature\", 'Negative'), ('Very cool. RT @mention: 6 photos of the storm rolling progressively in. {link}', 'Positive'), ('Storm-Downed Tree Kills Twin Sisters: Twin sisters were were killed when severe storms blew through parts of the... {link}', 'Negative'), ('I love the window seats at #lakelyn @mention when a storm is rolling in.', 'Positive'), (\"@mention love ya profile pic gorgeous. How's the weather in Atl\", 'Positive'), ('I hate this weather. Good day for a movie marathon though... Xmen! :D', 'Negative'), ('@mention I went to hobo joes today and go my 1st snow cone', 'Tweet not related to weather condition'), ('On our way ;-) RT @mention: Its 83 Degrees & only Noon @mention just landed We Bout to be Outchea (cont) {link}', 'Neutral / author is just sharing information'), ('@mention @mention Something else to bear in mind for #muchado - pray for good weather!', 'Positive'), ('@mention rrrrriiight who yu tellin idk weather to be mad or cry -__-', 'Negative'), (\"What's going on with everyone on this rainy gloomy day? Me just getting ready to go to the grocery store.\", 'Negative'), ('Does it snow a lot in Idaho,Utah,Colorado and New Mexico in December? {link}', 'Neutral / author is just sharing information'), ('This weather is depressing.', 'Negative'), ('guess ill go move my car...the weather jus fucked up my plans...once again', 'Negative'), ('I can\\'t wait until tomorrow night so that when I\\'m still alive, I\\'ll tweet up a storm, \"world ends on Saturday\" my ass', 'Tweet not related to weather condition'), ('i want to go out..but its cold and yucky out so idk', 'Negative'), (\"Just got to my apt... It's 2 damn hot outside for me!\", 'Negative'), (\"I can clearly see the sunshine, but I'm steady walking thru the rain** Boosie\", 'Negative'), ('#WEATHER:  1:53 pm : 59.0F. Feels 58F. 30.06% Humidity. 6.9MPH West Wind.', 'Neutral / author is just sharing information'), ('Friday evening. Weather? Beautiful. Last man standing at the office. Bitter? Nah. It only makes payday that much sweeter. Stay hungry.', 'Positive'), ('New book. Lemonade. 90 degree weather. #perfection', 'Positive'), (\"@mention It's sunny here too. And it's closer! :D\", 'Positive'), ('@mention TC: loved the new Fresh Air (#16). Currently flying to warmer weather and the chilled out beats were perfect. Keep it up!', 'Positive'), ('Guess another severe #Thunderstorm is heading toward #WV. :-/  #NoMoreRain', 'Negative'), ('#WEATHER:  9:56 pm : 67.0F. Feels F. 29.83% Humidity. 11.5MPH Northeast Wind.', 'Neutral / author is just sharing information'), ('The sunshine inspired our sun salutations this AM! Thank you Meg Faber & Flourish Yoga + wellbeing ~ Back Om Again... {link}', 'Positive'), ('Headed out to the province of Siem Reap to check out the work a local church is doing in the community there.  #motoride #hourandahalf #hot', 'Tweet not related to weather condition'), ('@mention Done with the rain and headed to the beach tomorrow.  Finally sunshine and sand!', 'Positive'), ('It is a soup day. . . And a selling golf carts by text message rainy day. . . Outside of the box? Or genius?', 'Neutral / author is just sharing information'), ('Today is astonishingly beautiful. The sun is warm. The breeze is cool. There is just enough humidity to make your {link}/', 'Positive'), (\"my children are not dressed for today's weather.  mommyskills -5\", 'Negative'), ('Severe Thunderstorm Warning for Kay and Noble County until 6:45pm. {link}', 'Neutral / author is just sharing information'), ('#WEATHER:  11:56 pm: 69.0F. Feels F. 29.69% Humidity. 5.8MPH South Wind.', 'Neutral / author is just sharing information'), ('This weather rocks. I like it 4 a little switch up!', 'Positive'), ('I believe in various degrees of hatred, paranoia, and abandonment', 'Tweet not related to weather condition'), ('Pic: Check out the little T-storm that just popped up on radar south of the track. {link}', 'Neutral / author is just sharing information'), ('Special Weather Statement issued May 13 at 6:42PM EDT expiring May 13 at 9:45PM EDT by NWS Buffalo {link}... {link}', 'Neutral / author is just sharing information'), (\"it's all gone very quiet here at Wine HQ. Maybe everyone has gone home early to enjoy the sunshine? Whats everyones plan this weekend then?\", 'Positive'), ('RT @mention: Our blog this week includes fun outdoor recreation recos. Good timing with this gorgeous weather: {link}', 'Positive'), (\"RT @mention: Uqhhh it's sooooo hot outside ! #Texasweather\", 'Negative'), ('U sir, are smokin that good shit. RT @mention: @mention  98 Degrees &gt;&gt;&gt; BSB  Yeah, I said it. *Puts up dukes*', 'Tweet not related to weather condition'), ('so my moms going out tonight ^_^ ...with her \"hot date\" lmao', 'Tweet not related to weather condition'), ('Severe Weather In Dallas Causes Flight Delays, Diversions In SA from KSAT - Local News {link}', 'Neutral / author is just sharing information'), ('Needless to say, it is scorching out. I am still hot and I have been back inside for quite some time now.', 'Negative'), ('Friday, sunny and awesome out in Chicago. Happy weekend, Superfans!', 'Positive'), ('The weather forecast for this evening looks fabulous! Stop by tonight\\'s LPYP \"Rock the Boat\" Party at Columbia Yac {link}', 'Positive'), ('This hot, dry, & windy weather is going to turn the #canola fast. Keep a close eye on it if you plan on swathing or pushing. #okanola', 'Negative'), (\"Every day that I think about washing my car, I turn on the weather and it's supposed to rain. Like legit, EVERY single time.\", 'Negative'), (\"Today's weather is simply *perfect*. Rowan's so happy to be outside. But oy, $18 on sunblock for him? My mother just used olive oil on us :/\", 'Positive'), ('The vent next to the toliet in the guest bathroom provides for a perfect doo doo temp. #shittertwits', 'Tweet not related to weather condition'), ('#tropicalstorm, #philippines: 1200Z 9 May 11 #JTWC ATCF Track, Tropical Storm 03W (Aere). {link} #aere #bebeng #03w', 'Neutral / author is just sharing information'), ('Anyone streaming video from the parks or resorts today? Looks like nice weather in WDW!', 'Positive'), (\"Nature's Sunshine Products Reports First Quarter Financial Results {link}\", 'Tweet not related to weather condition'), ('The weather is getting hot again. *sigh*', 'Negative'), ('RT @mention: sooooo annoyed with these weather tweets. we live in ohio what do you expect? #getoverit', 'Negative'), ('Feather in the Storm: A Childhood Lost in Chaos:  {link}', 'Tweet not related to weather condition'), ('Death by the Glass: A Sunny McCoskey Napa Valley Mystery (Sunny Mccloskey Napa Valley Mystery):  {link}', 'Tweet not related to weather condition'), ('Oh yeah forgot to say Today is my kinda weather #AllSmiles #Grateful', 'Positive'), ('RT @mention: YO BRO #haveyouseenacouple -- Snow bunnies- iNTRuSHUNN FT East Coast E {link} via @mention', 'Tweet not related to weather condition'), ('#storm yeah? {link}/', 'Negative'), ('@mention sunny again.. something is clearly afoot! you? #coffeeup', 'Positive'), (\"I'm outside at 9 o'clock at night at its 75 degrees out. #fuckyeahsummer!!\", 'Positive'), ('Arsenal blows. Weather is amazing. Neighbor bumpin music into the courtyard. Some baby screaming. #sunday', 'Positive'), ('@mention There might be some snow up in the mountains, buh I live in the city so no snow here :)', 'Positive'), (\"@mention If this is what Seattle is like, I'm not surprised somebody killed Rosie Larsen. Everybody must be surly. #TheKilling #Rain\", 'Negative'), ('@mention Powerbomb the humidity as well please!', 'Negative'), ('RT @mention: Looks like t-storm with 60+ mph winds within 30 minutes of downtown #joplin', 'Neutral / author is just sharing information'), ('#WEATHER:  7:53 pm : 79.0F. Feels F. 29.63% Humidity. 24.2MPH Southeast Wind.', 'Neutral / author is just sharing information'), ('Watch KNWA now. Dan Skoff & Clint Boone are tracking severe weather in Benton County. Possible tornadoes may be brewing', 'Neutral / author is just sharing information'), ('The seattle sunshine is making me want to book a cruise.  Love sailing away from seattle when its sunny!!', 'Positive'), ('Fire Weather Watch issued May 17 at 4:21PM CDT expiring May 19 at 9:00PM CDT by NWS Lubbock... {link}', 'Neutral / author is just sharing information'), ('@mention Insomnia and thunderstorms kept me up all night...So much fun...', 'Negative'), ('It is literally pissing it down in sideways rain. I have nothing to protect me from this monstrous weather.', 'Negative'), (\"Good morning and HOLY HUMIDITY! This is the one thing about moving back east from Colorado that I didn't miss..my face hates it!\", 'Negative'), (\"@mention 's tomato plant is growing so nicely in the weather garden! #weathermanhasagreenthumb !  {link}\", 'Positive'), ('Not outside but looking out the window at them. Its to hot to be bothered by the animals.', 'Negative'), ('Turtles. Pizza. Wildflowers. Sunshine. Grenades. Your mom. Me. Jell-O and of course...a 1971 Pontiac Trans-Am. Oh and a bed. Full of puppies', 'Tweet not related to weather condition'), (\"@mention oh nice! We're all the way here in sunny Burbank California!\", 'Positive'), ('Humidity, why must you do such unorthodox things to my hair?', 'Negative'), ('#WEATHER:  12:52 am: 74.0F. Feels F. 30.03% Humidity. 5.8MPH Southeast Wind.', 'Neutral / author is just sharing information'), (\"It's fuckin hot out\", 'Negative'), ('Weather Alert: Flood Warning issued May 22 at 6:32PM MDT expiring May 23 at 9:32AM MDT by NWS Glasgow {link}... {link}', 'Neutral / author is just sharing information'), ('Weather data at 06:30 AM. 42.5&#xB0;F, 92&#x25; humidity. Wind: 0.0 mph from the N. Rain: 0.00 in. NO CURRENT ADVISORIES', 'Neutral / author is just sharing information'), ('Ok so its like 78 degrees, he has on some timbos, shorts with an full length leather coat.. Wow, #damshame.', 'Negative'), ('Northern IN likely to go under a weather watch per SPC soon...details to come.', 'Neutral / author is just sharing information'), ('@mention you around Detroit at all?  Got a weather page set up for it.', 'Neutral / author is just sharing information'), ('@mention its not. 70 and sunny tomorrow.', 'Neutral / author is just sharing information'), ('81 degrees & cloudy! I love the 81 but not the cloudy! !', 'Positive'), ('Sunshine to continue throughout Western New York {link}', 'Positive'), (\"You made a fool out of you, and boy, she's bringing you down. She made your heart melt, but you're cold to the core.\", 'Tweet not related to weather condition'), ('RT @mention: Thunder storms &gt; Oklahoma City Thunder', 'Neutral / author is just sharing information'), ('#WEATHER:  3:56 pm : 64.0F. Feels F. 30.05% Humidity. 8.1MPH Northeast Wind.', 'Neutral / author is just sharing information'), ('RT @mention: Significant damage from a tornado in Joplin, MO.  Appears windows blown out at hospital.  Live coverage on The Weather Ch ...', 'Negative'), ('Friday Fest es lil chilly!', 'Neutral / author is just sharing information'), (\"@mention Yello!  Looking for the next Snow Patrol? I recommend this. I can't stop playing it! {link}\", 'Tweet not related to weather condition'), ('Check out the line-up of the Main Stage ... hot off the presses! {link}', 'Tweet not related to weather condition'), (\"I'll take the lightening over the snow any day! Yay for thunderstorms!\", 'Positive'), ('#WEATHER:  2:55 pm : 86.0F. Feels F. 30.06% Humidity. 4.6MPH Southeast Wind.', 'Neutral / author is just sharing information'), (\"Oh, and I've been informed that I am Belle. Well, I am also, at times, Snow White.\", 'Tweet not related to weather condition'), ('Could really go for some chocolate, a blanket, some music, and a big bay window right now. #rain', 'Positive'), ('Trace Adkins singing Rainy Night in Georgia...damn...I mean DAYUM!!!!', 'Tweet not related to weather condition'), ('Good dreary, rainy, foggy, drizzly, misty, stormy morning everyone.', 'Positive'), ('Militants storm Pakistani naval base in Karachi \\\\n    (AP)\\\\n: AP - Islamist militants stormed a naval base in t... {link}', 'Tweet not related to weather condition'), (\"I don't remember the weather sucking this bad last May... Regardless, it feels good to just stay in and relax all day. #chillin\", 'Negative'), ('Hope everyone is having better weather than we are here in New England.  Ugh, hope it stops raining sometime soon.', 'Negative'), ('Keep your face to the {link}  sunshine and you cannot see the shadow.', 'Tweet not related to weather condition'), ('Health Department Implements Mosquito Control: After all the wet weather areas around your home could be ideal... {link}', 'Neutral / author is just sharing information'), ('Mango snow ice  @ Twist (Snow Ice) {link}/', 'Tweet not related to weather condition'), (\"@mention Hey what's up stranger? not a whole lot over this way I'm back in MI and hating the weather lol What about u\", 'Negative'), ('playin 2k and j.crawford jus did his move #cold', 'Tweet not related to weather condition'), ('Graduate Degrees in Education {link}', 'Tweet not related to weather condition'), (\"I'm Eric Wright, I'm ruthless I terrorize, you either parish or be paralyzed cause I'm 1000 degrees fahrenheit\", 'Tweet not related to weather condition'), ('@mention today has just been a weird day all round. I would blame the weather, but, it just seems to easy.', 'Negative'), ('Wednesday - Snow showers. Snow accumulation 3 to 5 inches. Highs in the 30s.  {link}', 'Neutral / author is just sharing information'), (\"sounds like the weather won't be so great this weekend surprise that is never a sure thing at any point #justsayin :D #Chicago\", 'Negative'), ('{link} Montreal Weather Webcams st. Hubert street Plaza, Qc. Canada', 'Neutral / author is just sharing information'), ('Thunderstorm Light Drizzle in Vicinity and 68 F at Jacksonville Municipal Airport, IL Winds are from the South at 13.8  {link}', 'Neutral / author is just sharing information'), ('Thunderstorms today, high 69 (21 C).', 'Neutral / author is just sharing information'), ('RT @mention: Just turned 26 today, no kids, 2 degrees, grad school, good health, GOD IS REAL', 'Tweet not related to weather condition'), ('RT @mention: s/o the those who keep faith within the storm. The storm never lasts forever. The sun will always shine again.', 'Positive'), ('News - Current Conditions : 64.4F, Heavy Thunderstorms and Rain - 7:07 PM EDT May. 16: Temperat... {link} #News #Greensboro', 'Neutral / author is just sharing information'), ('RT @mention: You know the old saying: April showers bring May severe thunderstorms.', 'Negative'), ('Here and Now: Snow on treetops: What could be better?', 'Positive'), ('RT @mention: Morning! Dry start to day, with some patchy fog. An isolated shower/storm possible later, but not as many as yesterday. ...', 'Neutral / author is just sharing information'), (\"enjoyed last night's lovely weather at Salento Wine Cafe in the Rice Village area. South American inspired & great wine selection. Approve.\", 'Positive'), ('Video: Fox CT: Midday Weather | 5/11 {link}', 'Neutral / author is just sharing information'), ('{link} check this joint out by @mention Hot shit u can DL it too 4 free so dnt pass it up help a sista out lol', 'Tweet not related to weather condition'), ('RT @mention: Ready for this @mention weekend!! Hope the weather is nice!!', 'Positive'), ('Tags: Applicat, Blackberry Device, Book Flights, Clever Tools, Currency Converter, Day Weather Forecast, Device ... {link}', 'Tweet not related to weather condition'), ('Happy Mothers Day, enjoy the sunshine, now... looking forward to Fathers Day.', 'Positive'), ('RT @mention: RT @mention: BREAKING: Large, wedge tornado on the ground coming into Okla City LIVE on our weather blog {link} ...', 'Neutral / author is just sharing information'), ('#cltnews WBTV 3 News, Weather, Sports, and Traffic for Charlotte, NC-AptarGroup to ... - WBTV {link}', 'Neutral / author is just sharing information'), ('@mention Jeri, here\\'s your cute story for the day! \"Anchor saves ducklings from storm drain\" {link}', 'Tweet not related to weather condition'), (\"Dem wolf grey 5's aint as clean as I thought they were gone be *shrugs* I know shaq got sum hot shit coming out..\", 'Tweet not related to weather condition'), (\"It's gonna rain in #SanFrancisco tmr. I need to get my #run in today so tmr will b my run rest day. #weather\", 'Negative'), ('On my way to the Train... Storm comes at 5 my train leaves at 5:15 =O', 'Negative'), (\"@mention  Thx - sounds like you've gone through some crazy weather...\", 'Negative'), (\"hereeee we go with blowing sunshine up scotty's ass. #americanidol we don't need another country star. NO THANK YOU\", 'Tweet not related to weather condition'), (\"Got chilly feet :( (I'm slyly tryna seem cute)\", 'Negative'), (\"10:00 and its 75 degrees...i'll take it\", 'Positive'), (\"Ain't shit going down n it's fucking hot outside\", 'Negative'), ('Shoutout to the sunshine this morning #EastSide #Tacoma', 'Positive'), ('#WEATHER:  8:52 pm : 63.0F. Feels 62F. 29.78% Humidity. 11.5MPH Southeast Wind.', 'Neutral / author is just sharing information'), ('RT @mention: SEVERE STORM WARNING SE MN  13 MILES NORTH OF WINDOM...AND MOVING NORTH AT 40 MPH {link} for HD weather ...', 'Neutral / author is just sharing information'), ('San Antonio, Texas Weather :: 77F OVERCAST from San Antonio, Texas Weather {link}', 'Neutral / author is just sharing information'), ('Had a great weekend thanks to the sunny weather. Now I have to sit inside for 8 hours at work. Boo!', 'Positive'), ('@mention Bonjour Snow Patrol are great but getting samey. Try this! What do u think?  {link}', 'Tweet not related to weather condition'), ('@mention \"Take care to bypass University so you don\\'t collide w/ the sunshine & rainbows being unearthed by construction.\"', 'Tweet not related to weather condition'), (\"@mention Fun Vata article! It's so windy here, everyonne's Vata is through the roof!\", 'Negative'), (\"Vietnamese's ice coffee for this sunny noon. {link}\", 'Neutral / author is just sharing information'), (\"Damn well i'm glad the storm went right pass here\", 'Positive'), ('...SHOWERS AND THUNDERSTORMS MOVING SLOWLY OVER THE AREA... AN AREA OF RAIN WITH EMBEDDED THUNDERSTORMS WILL DRIFT SLOW {link}', 'Neutral / author is just sharing information'), (\"@mention BTW, the guy who says the world is ending today has $7M in the bank. Because, you know, he's saving for a rainy day.\", 'Tweet not related to weather condition'), ('@mention Hannah Storm... that sounds like  a comic book character name...', 'Tweet not related to weather condition'), (\"Chef Gelman of The Driskill joins us for a beer pairing duel against Chef Rob Snow of Judges' Hill Restaurant!!... {link}\", 'Tweet not related to weather condition'), (\"good morning, it's sunny, pick up new car and then off to Wilton house near Salisbury i think\", 'Positive'), ('@mention no no! Haha. There are several days, but for some reason today seems extra nice. The weather is beautiful. :)', 'Positive'), ('These #ExtremeCouponing folk are a BLIZZARD person wanting DREAM! Just have the goodies!', 'Tweet not related to weather condition'), ('Valley Center area is under a several thunderstorm watch until 10 p.m.', 'Neutral / author is just sharing information'), (\"@mention fine bout to go this interview. How's the weather there???\", 'Neutral / author is just sharing information'), ('Hanging around nothing else to do but frown rainy days and #mondays always get me down -The Carpenters', 'Negative'), ('I left my a/c on last nite woke up freezzzinnggg! I dnt remember putn it on no dam 60 degrees... Smh', 'Negative'), ('Check out my hot new hip hop {link} via @mention', 'Tweet not related to weather condition'), ('Memphis weather is so bipolar!!!', 'Negative'), ('These kids have wore me out 4 the day.. #whew time to get naked its *HOT* LOL', 'Tweet not related to weather condition'), ('Last night was AWESOME. - And the weather is beautiful. Good mood high for the rest of the weekend, which is... {link}', 'Positive'), ('This weather keeps me under the covers.', 'Negative'), ('Why the fuck all my teachers tryna go outside today?! Its too hot for dat shit', 'Negative'), (\"@mention when I say uneducated I'm not referring to diplomas or degrees no worries\", 'Tweet not related to weather condition'), ('Palm Beach County Commission cites Sunshine Law concerns for dumping committee of local leaders.{link}', 'Tweet not related to weather condition'), ('Its #Cold N Herr ..', 'Negative'), (\"I'm at Snowy White Laundromat (1291-1299 N Broadhead Rd, Monaca) {link}\", 'Neutral / author is just sharing information'), ('Could go for a good #storm today.', 'Positive'), ('@mention A cheers to #ACBW with @mention Blue Dot Double IPA. Bottled sunshine.', 'Positive'), ('happy monday! striving to overcome the grey doldrums here... how do you rise over icky weather? (supposed to rain the whole week here!)', 'Negative'), ('Looks like rain. For ever. #weather {link}', 'Negative'), ('Video: Blawan - Getting Me Down More summer vibes for rainy days {link}', 'Tweet not related to weather condition'), ('MU softball opener delayed: Bad weather pushes DePaul-Indiana to 8:30 p.m. {link}', 'Negative'), ('RT @mention: WINTER STORM WARNINGS for CO and MT for SNOW 6 - 12 inches {link} #weather #news #snomg #blizzard #wx', 'Neutral / author is just sharing information'), ('Loving thia storm!', 'Positive'), (\"Activision Blizzard's quarterly profit, sales rise \\\\n    (Reuters)\\\\n: Reuters - NEW YORK (Reuters)- Activision ... {link}\", 'Tweet not related to weather condition'), (\"I'm just a hippie...in the woods...playing her djembe on a rainy sunday afternoon {link}\", 'Neutral / author is just sharing information'), ('In the Heart of the Summer we Need a Snow Plow !', 'Positive'), ('RT @mention: This kind of weather makes me want to go swimming.', 'Positive'), (\"RT @mention: Check out the ENTIRE album here!!! {link} then buy it, cuz it's HOT!!!!!\", 'Tweet not related to weather condition'), ('Love this Iowa weather that goes from warm and sunny to rainy and lightening in less than 2 seconds:):):)', 'Positive'), ('87.4F (Feels: 95.3F) - Humidity: 63% - Wind: 9.8mph S - Gust: 15.9mph - Pressure: 1010.9mb (-0.1)  #weather {link}', 'Neutral / author is just sharing information'), ('Shawdee keeps cummin in my office talkin bout hey sunshine. Um like wtf u want my cookies bitch?', 'Positive'), ('@mention haha, sunny down here!', 'Positive'), (\"@mention Lol, that's called spring weather.\", 'Positive'), ('Partly sunny this afternoon with isolated t-showers.  ~80. Becoming more humid tonight as warm front approaches, then passes. Warm. 60.', 'Neutral / author is just sharing information'), (\"yay it's gonna storm! c:\", 'Positive'), ('Really hoping the weather forecast for this weekend is a lie. Come on Blue Skies!!!', 'Negative'), ('LIVE COVERAGE: Weather delays Amgen start until 1:15 pm {link}', 'Neutral / author is just sharing information'), ('Mmm...  A Lemon-Berry real fruit slush from sonic.', 'Tweet not related to weather condition'), ('I wish I had a girlfriend, this is perfect weather to get naked in.', 'Positive'), ('@mention Alright! Snow Patrol are great but getting samey. Try this! Listen: {link}', 'Tweet not related to weather condition'), ('Saw the storm damage in La Crosse, as did the gov. A WWII vet shares his storm story @mention on NBC15. {link}', 'Neutral / author is just sharing information'), ('@mention you are welcome! doing great-except sooo tired of this weather! how about you!?', 'Negative'), (\"It's Jus to hot outside to be sleepin n clothes\", 'Negative'), ('Sports day was alright, weather was shit', 'Negative'), ('Isolated thunderstorms this afternoon, high 87 (31 C).  Low  66 (19 C) tonight.', 'Neutral / author is just sharing information'), ('@mention Oh wow, you had hail? We just got dark clouds passing overhead in southern NH. Now it is sunny and windy.', 'Neutral / author is just sharing information'), ('@mention not in sunny dover! haha', 'Positive'), (\"@mention how's the weather there?\", 'Neutral / author is just sharing information'), (\"God it's been raining on and off...that's what you get for Michigan weather\", 'Negative'), ('Remember to always play after the storm. \"Mattie J. T. Stepanek\"', 'Tweet not related to weather condition'), ('On my way baby keep my spot warm lmao RT @mention This thunderstorm makes me wish I had someone to cuddle with', 'Negative'), ('I hate auto lock doors. Locked myself out of my apartment and am freezing to death outside in a tee shirt. #fb', 'Negative'), ('Grateful for the sunny, warm weather. Perfect stroll on the beach with @mention. Photo: {link} #cannonbeach #getaway', 'Positive'), (\"Why has the weather sucked so bad lately? A hurricane isn't gonna stop me from getting my swag on.\", 'Negative'), ('#WEATHER:  3:53 am : 38.0F. Feels 28F. 29.98% Humidity. 18.4MPH North Wind.', 'Neutral / author is just sharing information'), (\"@mention Seriously, that's February weather!\", 'Neutral / author is just sharing information'), ('#WEATHER:  8:53 pm : 67.0F. Feels F. 29.82% Humidity. 6.9MPH Southeast Wind.', 'Neutral / author is just sharing information'), (\"In Rhode Island and it's a beautiful sunny day!\", 'Positive'), ('@mention smoke rollin out the window an ice cold beer sittin in the console :)', 'Tweet not related to weather condition'), ('Another rainy day! Blah.', 'Negative'), ('YW! RT @mention: Improving my tweet-ability - study time before hitting the sunshine.  Thank you @mention and  @mention for...', 'Positive'), ('@mention delicious! Lol I have been waiting for this 70 degrees for oh...8 months! No joke. I\\'ve been out being a real \"dirty girl\" lol', 'Positive'), ('@mention A warm sunny day deserves a delicious, gourmet and slightly pornographic hotdog from Wild Dawgs.....', 'Positive'), ('Last full week of school. Summertime sunshine #seeyousoon', 'Positive'), ('The lightning from the storm last night was spectacular. They were predicting the storms all day, but you really... {link}', 'Positive'), ('@mention ur twitt sad some ppl r so temp soooooooooo fake', 'Tweet not related to weather condition'), ('Y looky here...da window is open 6 inches! It finally getting warmer outside..maybe 60 degrees now..IT\"S ABOUT TIME! #whereisspring?', 'Positive'), ('#WEATHER: 12:56 pm : 77.0F. Feels F. 29.88% Humidity. 3.5MPH Variable Wind.', 'Neutral / author is just sharing information'), ('Horrible wet morning.....bring back the sunshine!', 'Negative'), (\"G'morning, Sunshine: 60s and partly sunny? OK!\", 'Positive'), (\"I don't mind stormy weather, but IT BETTER NOT make @#$* neighbor's car alarm go off all night like last night, or I'll...well, something.\", 'Negative'), ('Sen. Whisnant just said our state economist has gotten our budget income forecast wrong 14 out 16 times wrong. Makes me feel warm & fuzzy', 'Tweet not related to weather condition'), (\"What a tease yesterday's nice weather was. .\", 'Positive'), ('Humidity could make temps feel like 101 today {link}', 'Neutral / author is just sharing information'), (\"it's 80 degrees for what?\", 'Negative'), ('Clothes fail. Packing for London weather was a mistake #Manchester', 'Negative'), ('@mention I was laughing, @mention is running in fresh snow in Boulder and its gotta be in 90s here. Trail was awesome!', 'Positive'), ('Gardner WX 05/17/11 07:00 AM | 44F, 65&#x25; Humidity, Feels Like 44F | Alerts: NO CURRENT ADVISORIES | {link}', 'Neutral / author is just sharing information'), (\"@mention HAPPY BIRTHDAY!!! You're planning on taking care of this whole rainy cloudy thing right? if not, i'll party in the rain with ya ;)\", 'Positive'), ('Phones been ringing since 7, must be sunny again! #boutime', 'Positive'), ('The weather is beautiful. Even the birds are bumping. #mnisdope', 'Positive'), ('Jeff Will Miss Oprah & Gives Her A Shout Out The Only Way A Weatherman  Could!!! 7day Forecast. #Oprah | {link} via @mention', 'Tweet not related to weather condition'), ('#WEATHER:  4:56 pm : 70.0F. Feels F. 29.96% Humidity. 6.9MPH East Wind.', 'Neutral / author is just sharing information'), ('NYC weather is so disrespectful this week', 'Negative'), ('Severe Thunderstorm Warning for Fulton, Knox, and Peoria County in IL until 7:45pm CDT. #ilwx', 'Neutral / author is just sharing information'), ('Tatum, NM @ 7:00 PM: Temp:86F(H 90/L 52), Hum: 8&#x25;, DewPt:17F, Wind: S at 18 G 40.0 mph, Rain:0.00 In. #weather', 'Neutral / author is just sharing information'), (\"A'right despite feeling flu-ish im gonna go play some sand volleyball and enjoy the weather with my besties :) more voting l8r #teammusso\", 'Positive'), (\"It's too hot out. Fuckin aye\", 'Negative'), (\"damn its goin rain all next week -.- where the 80's weather att ?\", 'Negative'), ('SPC MD 747: MD 0747 CONCERNING SEVERE THUNDERSTORM WATCH 283... FOR PARTS OF CNTRL AND NERN TX / SWRN AND CNT... {link}', 'Neutral / author is just sharing information'), ('Weather for Seattle    {link}', 'Neutral / author is just sharing information'), ('I woke up to a beautiful ball of red coming over the horizon...oh where art thou ball of sunshine so enjoy having your around', 'Positive'), ('RT @mention: Damn this thunder storm kame out of No where', 'Negative'), ('Did some Carmen Electra Aerobic Striptease & Cindy Crawford DVD. Cycled, hula-hooped, snow-ball fought & did some balancing on the Wii Fit.', 'Tweet not related to weather condition'), ('@mention Hot Lyrics, Hot Beatz, No Deal? Get Your Music Out there with @mention', 'Tweet not related to weather condition'), ('Man the weather so shitty in the Chi.....summer needs to come on', 'Negative'), ('*HOT!* Discount 60% Hermes handbag online sale, 2011 newest style included! Go check it out!!! {link} #ad', 'Tweet not related to weather condition'), ('Another amazing Southern Hemisphere weather appropriate garment... {link}', 'Positive'), ('Dear perfect weather, thanks for the vest lunch hour of all time. (@ Lady Bird Lake Trail w/ 2 others) {link}', 'Positive'), ('Snow White, HOLLA! RT @mention: Hi Ho, hi ho... I forgot to check in, yo. (@ Harbor Court) {link}', 'Tweet not related to weather condition'), ('#WEATHER:  4:53 pm : 89.0F. Feels F. 29.72% Humidity. 21.9MPH South Wind.', 'Neutral / author is just sharing information'), ('Bout to enjoy this sunshine a bit', 'Positive'), ('So far today is pretty great weather wise for this 7lb hot dog BBQ.', 'Positive'), (\"@mention just cause there's a #shitstorm at Colby, you make my sunshine! Love you\", 'Positive'), ('Da thangs I wud do to sunny anderson #sheesh', 'Tweet not related to weather condition'), (\"After being told no pink for decades USDA now says cooked pork can be pink, @ 145 degrees not 160. Next will they admit alien UFO's are real\", 'Tweet not related to weather condition'), ('#WEATHER:  7:56 am : 67.0F. Feels F. 29.96% Humidity. 4.6MPH Southeast Wind.', 'Neutral / author is just sharing information'), ('Hail storm-1 andrew-0', 'Neutral / author is just sharing information'), ('RT @mention: Three things about my flight: I can lay down across 3 seats just fine, it was freezing & I got to see this.  {link} ...', 'Tweet not related to weather condition'), ('Severe Thunderstorm Warning for Cooper, Pettis, and Saline County until 7:00pm CDT.', 'Neutral / author is just sharing information'), ('Friday afternoon shopping, sunshine, margaritas, happiness!', 'Positive'), ('Happy Birthday #LeeSoonkyu :] sunny!', 'Tweet not related to weather condition'), ('SPC Severe Thunderstorm Watch 321 Status Reports: WW 0321 Status Reports         STATUS FOR WATCH 0321 HAS NO... {link}', 'Neutral / author is just sharing information'), ('#WEATHER: 7:51 am E: 55.0F. Feels F. 30.01% Humidity. 3.5MPH Variable Wind.', 'Neutral / author is just sharing information'), (\"@mention i'm not laughing at you storm and i don't think it's ignorance, just innocence\", \"I can't tell\"), (\"@mention it's cold outside\", 'Neutral / author is just sharing information'), ('The happy, chirping birds this morning confused me. I thought there might be sunshine. Just gloominess. What are you smiling about, birds?', 'Negative'), ('RT @mention: The color of these #yellow #calcite faceted drops makes me smile!  Sunny!  @mention #artFire #AFPounce {link} ...', 'Positive'), ('Calm After the Storm | RedGage {link}', 'Tweet not related to weather condition'), ('in the house washing clothes on this rainy day #BORED', 'Negative'), (':)) Dress weather again, yay.', 'Positive'), ('RT @mention: \"The storm is only that which authenticates your path\" -- @mention', 'Tweet not related to weather condition'), ('Day 2 DC: On the subway heading to the museums, weather is perfect, body not so much. This weeks walking is starting to kick my ass.', 'Positive'), (\"RT @mention: I ffucked enough hoes now its time 2 count money cuz i'll be damn if dis summer be dark n sunny!!!\", 'Negative'), (\"In the 'BU (Malibu) showing leases. The weather is perfect! Click 4 pic&gt; {link}\", 'Positive'), ('@mention get out of the house and enjoy the nice weather. So I was really upset. But my little cousins are over... so idk', 'Positive'), ('Polo boots in 80 degree weather #fail', 'Negative'), ('@mention moving is already such an unpleasant activity! Sorry about the weather! :(', 'Negative'), (\"@mention I love thunderstorms too but I couldn't stay in bed all day and enjoy it\", 'Positive'), (\"just informed my sister that canucks fans stole 'the green man' from its always sunny in philly...she was surprised. THE MORE YOU KNOW ---*\", 'Tweet not related to weather condition'), ('RT @mention: Weather Chanel cameraman turns away from recovery of body live, after EF4 tornado slams Joplin Missouri. CNN, MSNBC : ...', 'Negative'), ('Well, FB friends, it was nice to see you all come outta the woodwork...see you next Spam storm!', 'Tweet not related to weather condition'), ('It honestly sounds more like Florida weather RT @mention: @mention never been to Texas to compare. P.S. its sunny again lol', 'Positive'), ('watching enter the dragon on this rainy rainy night then off to sleep', 'Neutral / author is just sharing information'), (\"@mention Fair enough. This weekend has million things going on. It's like everyone decided to celebrate the good weather this weekend.\", 'Positive'), ('Sonic lemonberry slush = pure #amazingness', 'Tweet not related to weather condition'), (\"Couldn't ask for a better forecast @mention @mention @mention @mention {link}\", 'Positive'), (\"@mention At least it ain't snow!\", 'Positive'), ('#WEATHER:  2:53 pm : 57.0F. Feels 56F. 30.10% Humidity. 6.9MPH Northwest Wind.', 'Neutral / author is just sharing information'), ('Ha! What did I tell you yesterday?! 60% chance of thunderstorms forecast tomorrow and storms forecast all week until Thursday! &gt;:D', 'Neutral / author is just sharing information'), ('@mention @mention Im so cold and shaking now :( Omg 6 minuites x Im freaking out', 'Negative'), ('WX ALT: ...A SEVERE THUNDERSTORM WARNING REMAINS IN EFFECT UNTIL 145 AM EDT FOR SOUTH CENTRAL GASTON COUNTY IN THE... {link}', 'Neutral / author is just sharing information'), ('Im riding the #HeatWave til the wheels melt off! lol #TeamHeat', 'Positive'), (\"it's too damn hot for the power to be out....\", 'Negative'), ('@mention They\\'re cheeping up a storm, and he has that \"Where is your mother?!\" look.  LOL', 'Tweet not related to weather condition'), (\"@mention It's a weather alert app that is usually $10.\", 'Neutral / author is just sharing information'), ('Wednesday - Partly sunny. Slight chance of rain showers in the morning...then a slight chance of thunderstorms in...  {link}', 'Neutral / author is just sharing information'), ('It is hot ass hell outside', 'Negative'), ('Wishes I was cool enough to wear my uggs in 100 degree weather', 'Positive'), (\"#United States #Wisconsin #Wisconsin Dells #The ButtesThe nation's weather - The Associated Press\", 'Neutral / author is just sharing information'), (\"@mention i hope!! i've been sick as a dog lately. fucking weather has me screwed up. :-(\", 'Negative'), ('In need of a long nap & some sunshine.', 'Positive'), ('Is it hot outside?', 'Neutral / author is just sharing information'), (\"I don't mind the rain... your face is like sunshine &lt;3 &lt;3 &lt;3\", 'Positive'), ('We have been Busy collecting Wal Mart Gift Cards Via Pay Pal to Give to Tornado and Storm Victims to Present to... {link}', 'Neutral / author is just sharing information'), ('Preparing for the worst but still praying for the best with this storm stuff!', 'Negative'), ('RT @mention: Miami weather is just like Charlie Sheen.. Bi-polar!', 'Negative'), (\"Bear River's Quest for a 4-Peat Begins Saturday {link} - #snow #utah\", 'Tweet not related to weather condition'), ('you have been missed semi-perf running weather.', 'Positive'), ('Sunny weather for driving back to San Diego, spending the long Memorial Day weekend w/hubby in 10 days. What makes you smile today? :)', 'Positive'), ('Just arrived at Garrett- 55 degrees- going to be a cool night.', 'Neutral / author is just sharing information'), (\"I don't care how FAIR-WEATHER the Atlanta fanbase is...I'm a LOYAL #FALCONS, #BRAVES, and #HAWKS fan... I don't believe in bandwagon jumping\", 'Tweet not related to weather condition'), (\"Mother's Day Sunshine  {link}\", 'Tweet not related to weather condition'), ('RT @mention: Ready to get on this flight back to slc. Later mammoth. Kinda bummed snow season is over not gonna lie', 'Negative'), ('The bad news about warm weather, there seem to be more assault crimes. {link}', 'Negative'), ('This weather has left me completely incapable of functioning as a normal person.', 'Negative'), (\"@mention cant believe about the weather either! But I'll take it :)\", 'Positive'), ('RT @mention: Its hot af outside.', 'Negative'), ('Ran 5.9 miles in 52 mins and felt good. 46 degrees at the start of the run, with very little wind. My pre-run... {link}', 'Neutral / author is just sharing information'), ('The slowest day ever !! And the weather makes it even worse !', 'Negative'), (\"i Had Great Mother's Day Weekend weather was very nice\", 'Positive'), (\"@mention So this weekend? 3 rainy days in a row and it's May Term you don't have to do anything for class, duh :p\", 'Negative'), (\"Sounds delightful! @mention RT: Can't wait to stroll on the beach and brain storm!\", 'Positive'), ('VIDEO: Hay fever surges in UK heatwave {link}', 'Neutral / author is just sharing information'), (\"What's happening with all the #SouthEastToday weather girls all leaving @mention and now Kaye!  :(\", 'Tweet not related to weather condition'), ('Mostly sunny this afternoon, high 84 (29 C).  Low  66 (19 C) tonight.', 'Neutral / author is just sharing information'), ('RT @mention: Weather spotters report #tornado moving toward Joplin, Missouri, at 45 mph {link}', 'Neutral / author is just sharing information'), ('Scattered showers, thunderstorms possible for Las Vegas {link}', 'Neutral / author is just sharing information'), (\"227's YouTube ESPN Pro-am draws stars to storm-battered Alabama: Alabama football coach Nick... {link} BCS-College Football\", 'Neutral / author is just sharing information'), (\"There ain't no sunshine when she's gone.\", 'Tweet not related to weather condition'), ('@mention check out dis video shit is hot song is crazy trust RT (@mention {link})', 'Tweet not related to weather condition'), ('Imma chef and imma cook up a storm in the morning', 'Tweet not related to weather condition'), (\"It's so hot that I have found out (the hard way) that my seat belt buckle could be used as a branding iron #teamfollowback\", 'Negative'), (\".@mention & I just finished an hour jog on the Bosque. A little windy, but otherwise a beautiful day. It's about time! C'mon SUMMER!\", 'Positive'), (\"@mention manny doesn't want to test the weather\", 'Neutral / author is just sharing information'), ('@mention oh hot dayum. Lmao & locked out my house waiting for a key company to come lmao', 'Negative'), ('RT @mention: Life is so much more manageable when the weather is nice.', 'Positive'), ('Fun time celebrating my bday with my fam and some birthday cake yogurt  @ 32 Degrees!', 'Positive'), ('Retired Cop Who Subdued Man Who Tried To Storm Cockpit Says Attack Seemed Planned: A retired San Mateo police... {link}', 'Tweet not related to weather condition'), ('60 degrees. And its almost the end of may. Wisconsin... I hate you.', 'Negative'), ('@mention hows them weather in. hawaii', 'Neutral / author is just sharing information'), ('Mostly sunny today, high 70 (21 C).', 'Neutral / author is just sharing information'), (\"I'm freezing on this stupid bus\", 'Negative'), (\"Hi from sunny Boston. Weather is fine, wish you were here... (@ Joe's American Bar & Grill w/ 2 others) {link}\", 'Positive'), ('@mention yikes. sounds like you know your seasons. #louisville on that crazy stuff like #detroit weather-wise.', 'Negative'), ('@mention, @mention and @mention team up with @mention and for storm victims {link} via @mention', 'Tweet not related to weather condition'), ('RT @mention: Freezing! O.o WeLoveSwift', 'Negative'), ('I love @mention. We are gonna take Austin by storm. #bestfriend', 'Tweet not related to weather condition'), ('RT @mention: RT @mention: U.S. National Severe Weather Alerts Map - WeatherBug.com {link}', 'Neutral / author is just sharing information'), ('Waiting patiently for the electric car. Glorious day in Caithness, huge skies and plenty of sunshine...', 'Positive'), ('#WEATHER:  3:55 am : 61.0F. Feels F. 29.60% Humidity. 0.0MPH North Wind.', 'Neutral / author is just sharing information'), (\"@mention Yeah I was sick recently too. It's probably the weather or something.\", 'Negative'), (\"It's bone chilling cold outside!!\", 'Negative'), ('#WEATHER: 6:51 pm E: 62.0F. Feels 60F. 29.94% Humidity. 12.7MPH South Wind.', 'Neutral / author is just sharing information'), (\"Greaaaat. So, the room i'm testing in, is freezing! Wtf. :/\", 'Negative'), ('@mention u like to swim when its cold outside....', 'Neutral / author is just sharing information'), ('Photo: weather forecast for the #Rapture {link}', 'Neutral / author is just sharing information'), ('#WEATHER: 8:52 pm C: 76.0F. Feels F. 29.76% Humidity. 17.3MPH Southeast Wind.', 'Neutral / author is just sharing information'), ('#Storm #Clouds at #Twilight  {link}  #Redmond #Oregon #Photography #RedGage', 'Neutral / author is just sharing information'), ('Did it. Some folks saw me from above and were taken aback. Your left boot has a tiny leak, good thing the water was above 65 degrees.', 'Positive'), ('Freezing', 'Negative'), ('RT @mention: The weather is beyond beautiful ! :)', 'Positive'), ('Severe Thunderstorm Warning until 05:45 PM CDT issued for Edwards & Kiowa Counties with 60mph gusts & 1.00\" hail possible', 'Neutral / author is just sharing information'), ('Just a heads up to everyone, weather is crazy everywhere, not just where u live. I thought I needed to clear that up.', 'Negative'), (\"Where'd the sunshine go ):\", 'Negative'), ('My gosh! Its too hot outside...  {link}', 'Negative'), ('Gunmen storm Afghan government building {link}', 'Tweet not related to weather condition'), ('#ncwx Conditions for Durham, NC at 12:49 pm EDT: Current Conditions: Partly Cloudy, 86 FForecast: Mon - Isolated Thunderstorms. High:...', 'Neutral / author is just sharing information'), ('56 Degrees Saturday night?? YES! I love it', 'Positive'), ('Morning sunshine.', 'Positive'), ('Ohio Tornado Database contains reports of over 950 tornadoes that have touched down in Ohio between 1950-2010. {link} @mention', 'Neutral / author is just sharing information'), (\"watching 180 degrees south again. I can't get enough of this movie.\", 'Tweet not related to weather condition'), ('I want the sunshine back, please come back :)', 'Negative'), ('whoevr is patricia/patrice clark or harris=tricia_12@mention.com means \"TRY\"CIA_12@mention.com=(202)583-2330 sound like sunny hostin &sucks!', 'Tweet not related to weather condition'), ('RT @mention: #childhoodmemories Me @mention @mention @ Sunny Ballin on them niggas at Charles A. Green(Sumner Park)', 'Tweet not related to weather condition'), ('Got a quick run in before day 3 of weather starts.', 'Neutral / author is just sharing information'), (\"I have too much to do today -___- And the weather doesn't make it any better.\", 'Negative'), (\"Cause you're hot then you're cold, you're yes then you're no, you're in then you're out\", 'Tweet not related to weather condition'), (\"High-Atis - It's Always Sunny In Florida  {link} via @mention\", 'Positive'), ('RT @mention: Ahh weather.com says that our area is getting a bad storm and to stay away from windows.... Glad my beds right under a h ...', 'Negative'), ('13:42-Sky:  partly cloudy|Vis: 8mi -Temp: 83.1F-Hum: 66.0 %-Pres: 29.82\"-24Hr Rain: 0.00\"-Winds: N 3.1 MPH-Windchill: 87.9F #cltwx', 'Neutral / author is just sharing information'), ('Check this out! Pretty hot!  -- EJ Carter ft. A. Jones - \"Good Weed, White Wine\" {link} via @mention', 'Tweet not related to weather condition'), ('pretty much addicted to Storm Warning right now...amazing song :)', 'Tweet not related to weather condition'), ('Chilly - Chili, Chile, Chilli, Chily, Mirchi, Chilli Pepper, Aji, Paprika {link}', 'Tweet not related to weather condition'), ('Hot and Cold {link} #waters #hot #cold', 'Neutral / author is just sharing information'), ('Nothing like a lazy Sunday afternoon waiting for storm to roll in', 'Positive'), (\"I'm in a full blown Storm costume. Yes, Storm. Its pretty cool. I'm gonna clean my room in it.\", 'Tweet not related to weather condition'), ('Fund raiser at Boyd Ranch a success, although auction cut short due to windy wind.', 'Negative'), (\"On my way to celebrate the homie @mention's graduation. 2 degrees. 1 woman. #motivation\", 'Tweet not related to weather condition'), ('@mention I think there is a hint of sunshine here... but I may have to send out for a latte. So cold my muscles have seized up!', 'Negative'), ('Its hot as a BITCH outside !', 'Negative'), (\"@mention stuck overnight?! That's awful! I've been delayed by blizzard but it was before my flight too off. I feel sorry for connecting.\", 'Negative'), ('@mention ...I am thinking you do not need another coat :p HOWEVER, if the weather there is as bad as my exboyf says, mayhap you do..', 'Negative'), ('Quartet of snowy owls finds new home at Beardsley Zoo: BRIDGEPORT  Associated Press   A quartet of snowy owls, a... {link}', 'Tweet not related to weather condition'), ('Listening to KFOR-TV via Weather Channel -- they are reporting tornado is 1/2 mile wide, debris 1.5 miles around tornado', 'Neutral / author is just sharing information'), ('The weather is so gloomy and cold :(', 'Negative'), ('#LISTEN Sunny Black - Lets Get It In.. - {link}', 'Tweet not related to weather condition'), (\"I uploaded a @mention video {link} God's Snow (Original Song By Mark Gott)\", 'Tweet not related to weather condition'), ('@mention no shelters but keep close watch on weather :(( hugs', 'Negative'), ('Fire Weather Watch issued May 18 at 5:52AM CDT expiring May 19 at 9:00PM CDT by NWS Midland-Odessa {link}... {link}', 'Neutral / author is just sharing information'), ('Sitting on the front porch drinking coffee, watching Sophie sing and dance in this beautiful Texas weather. #perfectmorning', 'Positive'), ('Local6: Mail Fail: When Deliveries Go Wrong: Through rain or shine, snow or sleet, the mail always gets delivere... {link}', 'Neutral / author is just sharing information'), ('@mention DM me yur email so i can sesnd yu this new music from sunny red... 28day later mixtape... #BGN', 'Tweet not related to weather condition'), ('Spending this rainy day at the museum #MOMA #Sundayafternoon @mention', 'Neutral / author is just sharing information'), ('wishing i was in sunny Florida watching @mention && the Orioles get this series win! #LEGGO', 'Tweet not related to weather condition'), ('Blog Post: The Weather Man is Killling Golf! - {link}', 'Negative'), ('So the weather is gettin pretty bad..Idk if im still gonna b able to come home today :-S', 'Negative'), ('MLB Weather Alert &#8211; Wednesday May 11th - {link}/', 'Neutral / author is just sharing information'), (\"It's hot as fuck outside . If y'all going out put on extra deodorant\", 'Negative'), (\"@mention why didn't Brian say anythng on the weather segment?\", 'Neutral / author is just sharing information'), ('Updating a recipe for a summer soup, perfect for the hot weather', 'Positive'), ('US National Weather Service Lower Mississippi River Forecast Center The Vicksburg District of the US Army Corps of... {link}', 'Neutral / author is just sharing information'), ('@mention you will be missed. Hope weather is ok', 'Neutral / author is just sharing information'), (\"Today's weather would be #perfect for the Creek Fest!  Fingers crossed :-)\", 'Positive'), ('@mention Hullo!  Looking for the next Snow Patrol? I recommend this. Listen: {link}', 'Tweet not related to weather condition'), ('YES! I hope this rain turns into a Thunderstorm....wait, are my car windows up!?', 'Positive'), ('@mention nothing better then woman in warm weather #yeahiamthattype', 'Positive'), ('#NEWMUSIC Sunny Black - Lets Get It In - {link} #twitraxtuesday', 'Tweet not related to weather condition'), ('Hmmmm my voice is still crap thanks to this cold but I think I might do an audio tweet just to try it out.Anyone interested in hearing it?', 'Negative'), ('The weather gods have been listening. This is the weather I LOVE in #Portland', 'Positive'), ('You can plan for a change in the weather and time.', 'Neutral / author is just sharing information'), ('#WEATHER:  3:53 am : 57.0F. Feels 55F. 29.98% Humidity. 10.4MPH North Wind.', 'Neutral / author is just sharing information'), ('@mention Heard you\\'re filming in LA. I studied at LSU few years ago. Still remember the weather it\\'s like \"public sauna.\" Stay cool:)', 'Negative'), ('Turned on TV here at the hotel, immediately see meteorologists watching #Wx around Kansas. Glad it was nice weather when I landed here.', 'Positive'), ('\"When will I see you again\" by the 3 degrees on the radio has precious moments in the lyrics, on a rainy afternoon #preciousmoments', 'Neutral / author is just sharing information'), ('Have you taken a look at the hourly graph on the weather channel? We like that option. {link}', 'Neutral / author is just sharing information'), ('Buggin for only having a t shirt on...shaking like a stripper #freezing', 'Negative'), (\"RT @mention: @mention I was hoping the colder weather would hasten their demise...I'm afraid it's only prolonged our inevitable d ...\", 'Negative'), (\"My brother told me it.was hot out , so I came out in a tank , now I'm freezing\", 'Negative'), ('Ughhhhhh its so damn hot outside', 'Negative'), (\"It's 82 degrees\", 'Neutral / author is just sharing information'), ('Record LOW humidity in Phoenix today:  {link}', 'Neutral / author is just sharing information'), ('Sunny day man #12 and #35', 'Positive'), ('RT @mention: Do NOT go out to move your car in a hail storm. Your car can be fixed. You might not be fixable. #preparenow', 'Negative'), ('\"@mention: @mention awwww sounds sad lol its always hot there so yaw need a break anyway\"--that\\'s not fair, I want nice weather lol', 'Negative'), (\"@mention   I think I have some snow too!  (although it's finally Spring this week!)\", 'Positive'), ('Ran 6.69 kilometers in 31 mins and felt great. Amazing weather, good short run, minus the Propel drink I boug... {link}', 'Positive'), ('Poured a cup of hot sepia coffee in a wisteria flowered mug, dandelion sunshine spilling through the periwinkle sky.', 'Positive'), ('@mention i knew it im like the sunshine to your morning the pencil to your paper the eyelid to your eye', 'Tweet not related to weather condition'), ('RT @mention: RT @mention RT @mention: @mention check out this hot shit ---&gt; (cont) {link}', 'Tweet not related to weather condition'), ('The weather has turned gorgeous! {link}', 'Positive'), (\"-_- To them doin these twitter bio's for the people gettin they doctorate degrees. Im tryna leave today sir\", 'Tweet not related to weather condition'), ('soooo its cold outside grrr -_-', 'Negative'), ('I love the weather in PHX right now!!', 'Positive'), ('Absolutely FREEZING after lunch. I need to warm up!', 'Negative'), ('Well, those thunderstorms as I was doing yard work were nice.', 'Negative'), ('So nice to be able to wear a skirt and walk outside in the sunshine without feeling cold! I love the sun. #summer', 'Positive'), ('It is hot out here but it feels great', 'Positive'), ('RT @mention: Listening to Sunshine Anderson typing a paper #CollegeDays // where has she been?', 'Tweet not related to weather condition'), ('Cold and rainy here in Boston, Wish I was in ATL with the #Krewe', 'Negative'), ('Even when the rain falls, even when the flood stops rising, even when the storm comes, I am washed by the water.', 'Negative'), (\"RT @mention: Life isn't about waiting for the storm to pass, it's about learning to dance in the rain.\", 'Tweet not related to weather condition'), ('D~\"Driven\" aka David Zachary Rumley gettin\\' his ULTRA swagg on today. Watch OUT!!! He\\'s puttin\\' out hot fire on... {link}', 'Tweet not related to weather condition'), ('Free Blizzard!! {link}', 'Tweet not related to weather condition'), ('is it to cold outside to be wearing sandals ?', 'Neutral / author is just sharing information'), ('@mention storm? Be safe! The weather has been crazy lately!', 'Negative'), ('@mention Hi Five! I love a bit of Snow Patrol! Have this band on now tho.  They are going to be HUGE.  {link}', 'Tweet not related to weather condition'), ('Omg storm and hail please go away so I can catch my flight home!! #ihatestorms', 'Negative'), ('Rainy Kc... (@ Kansas City International Airport (MCI) w/ 18 others) {link}', 'Neutral / author is just sharing information'), ('Sunny in Marin County right now. (via @mention // thanks!)', 'Positive'), (\"RT @mention: According to the weather on @mention 's phone, every day is going to be a muffin.  {link}\", 'Negative'), (\"It's always nice and sunny on mothers day but stays rainy on fathers day\", 'Neutral / author is just sharing information'), ('This weather makes me very happy!', 'Positive'), ('Is Hot As Hell Outside Today In Da City Of #Decatur', 'Negative'), ('fuck wearing Nikes or Filas or Reeboks...I wanted some Beauty & the Beast or Snow White or Lion King shoes!! Lmao...#childhoodmemories', 'Tweet not related to weather condition'), (\"@mention next time u are in Paris & weather allows let's have a picnic\", 'Positive'), ('#WEATHER: 4:53 pm C: 84.0F. Feels F. 29.87% Humidity. 9.2MPH South Wind.', 'Neutral / author is just sharing information'), ('lets get the candles out massive lightening storm on the isle of wight tell me if it is lighening where u r', 'Negative'), (\"Call me crazy, but I am enjoying the cool weather. Because I know in a month or so it'll be 1065 degrees outside. #memphisheat\", 'Positive'), ('Waking up to beautiful weather- what a great day it will be!', 'Positive'), ('Its #Friday nd da weather is ok....wat trubbl is thur to get into?!!', 'Positive'), (\"RT @mention: The 3rd world war hasn't even happened yet... and the crazy weather is from Earth changing and possibly from H.A.A.R. ...\", 'Negative'), (\"@mention how bout chasing the money till it's sunny w/ no sleep.  money stretch long.. Wall street.\", 'Tweet not related to weather condition'), ('RT @mention: Beautiful weather brings every1 n their mama out SHEESH&lt;&lt; Tell one of dem moms to feed me!!', 'Positive'), ('Weather expectations/reality {link}', 'Neutral / author is just sharing information'), (\"Chamber of Commerce weather. It's a great week for networking!\", 'Positive'), (\"It's a rainy, gloomy day here in Los Angeles but I still have sunscreen on! Why? Because everyday, rain or shine,... {link}\", 'Negative'), ('Severe Thunderstorm Warning for Benton, Carroll, Madison and Washington County until 8:30pm. #arwx', 'Neutral / author is just sharing information'), ('The sunshine makes me happy.', 'Positive'), ('RT @mention: Why is it 80 degrees inside and outside? I need another blizzard.', 'Negative'), (\"It WAS going to be sunny and 80 degrees in #Boston today (that's what they said just a few days ago.) How's  58 and rain? #enoughisenough\", 'Negative'), (\"RT @mention: Syria 'arrests scores' in Damascus suburb: Soldiers reportedly storm Saqba, making several arrests overnight, wh... http: ...\", 'Tweet not related to weather condition'), ('@mention Hi Five! I love Snow Patrol, so this is right up my street. I have it on repeat! {link}', 'Tweet not related to weather condition'), ('@mention I had sonic too! I got orange slush tho! Lol', 'Tweet not related to weather condition'), (\"It's cold as hell outside and they in the pool kickin it o_O\", 'Negative'), ('@mention maybe the spring humidity, bones expanding', 'Neutral / author is just sharing information'), ('national storm reports... here are the raw observations for the tornado reports today. {link}', 'Neutral / author is just sharing information'), ('@mention How about Metal Storm & Wasp Knife for MW3??? {link} {link} #AwesomeWeapons #MW3', 'Tweet not related to weather condition'), (\"@mention after seeing that I'm going to wash my eyes out with some nice boiling hot bleach now, thank you.\", 'Tweet not related to weather condition'), ('@mention Wow! Snow Patrol are great but getting samey. Try this! What do u think?  {link}', 'Tweet not related to weather condition'), (\"@mention shhhh, just cum to the philippines where it's sunny and shitty everyday\", 'Negative'), ('Really, what is going on with this weather....Tent no tent......that is the question for all my brides right now......', 'Negative'), ('Sunny skies over by KC Library, Plaza branch. But ominous skies over Downtown KC. Sirens still ringing. {link}', 'Neutral / author is just sharing information'), ('#WEATHER: 5:54 am C: 69.0F. Feels F. 29.54% Humidity. 13.8MPH South Wind.', 'Neutral / author is just sharing information'), (\"I could seriously listen to @mention all day long. p.s. this storm is bad! i'm scared\", 'Negative'), ('Gardner WX 05/18/11 03:00 AM | 49F, 55&#x25; Humidity, Feels Like 49F | Alerts: NO CURRENT ADVISORIES | {link}', 'Neutral / author is just sharing information'), ('Check this out #LOVE?RS was watchin @mention an came acros it dusnt she luk amazingly cutely hot? just sayin {link}', 'Tweet not related to weather condition'), ('@mention LISTEN TO ON RAINY DAYS', 'Tweet not related to weather condition'), (\"I kno everybody in AZ betta be outside enjoying this Good weather cuz I'm sure its gone be short lived smh\", 'Positive'), ('Anyone who thinks that Sunshine is pure Happiness, has never danced in the Rain...', 'Positive'), ('@mention hey wojo just to let u know while you freezing yours in michigan I am sweating mine off in the hot fl sun! @mention @mention', 'Negative'), ('Vintage Linen Lot  14 items Snowy White  great by ShandrasLinens {link} via @mention', 'Tweet not related to weather condition'), ('The weather channel local on the 8s just said it was \"sunny\". LOL {link}', 'Neutral / author is just sharing information'), ('#WEATHER:  1:56 pm : 77.0F. Feels F. 29.96% Humidity. 11.5MPH South Wind.', 'Neutral / author is just sharing information'), (\"RT @mention: It's getting warm in them thar hills.  Amador County Foothills/Shendoah Valley, Plymouth, CA...nice, sunny, warm,.. ...\", 'Positive'), ('Heavy Dust Storm Blankets Parts Of Chandler: A good sized dust storm blew through the east valley blanketing par... {link}', 'Neutral / author is just sharing information'), ('- this house is beyond cold..feels like imm layin inside a freezer..can we please turn OFF the A.C.. #freezing', 'Negative'), ('Out walking enjoying the sunshine...NOT!', 'Negative'), ('Well, blake survived the weather! RT @mention: Had to go with my gut on this one. This is a tough position to be in.  #TheVoice', 'Neutral / author is just sharing information'), ('Prayers going out to Joplin, Missouri and everyone affected by all this crazy weather!', 'Negative'), ('The weather has been Forks-ish lately! #Twilight RT @mention: Edward Cullen is painting with @mention and I. {link}', 'Negative'), ('Planting strawberries @mention and enjoying the sunshine!', 'Positive'), (\"@mention Thanks, I hope the same for you too. I'd be more inclined to go outside if it wasn't this hot already...\", 'Negative'), ('Loving this warm weather!', 'Positive'), ('Helloooo, Sunshine!', 'Positive'), ('green snow ..... love that grinder', 'Positive'), ('Nothing like sirens going off in the area to add a sense of immediacy to the weather reports.  At least the worst has passed to the north.', 'Negative'), ('RT @mention: Learn about online masters psychology degrees {link}', 'Tweet not related to weather condition'), ('Outside: 51.4 F, Humidity: 92%, Wind: (317) 4 mph, Press: 29.80\", Rain: 0.15', 'Neutral / author is just sharing information'), ('Sunshine!', 'Positive'), ('RT @mention: RT @mention: #TeamYabaLeft where BB storm onli works inside rain', 'Neutral / author is just sharing information'), ('Special Weather Statement issued May 09 at 10:29AM CDT expiring May 09 at 11:30AM CDT by NWS LaCrosse {link}... {link}', 'Neutral / author is just sharing information'), ('Amen RT @mention Bulls defense is too good to get blown out. They just have to weather this storm and take the lead in the 4th', 'Tweet not related to weather condition'), (\"@mention ..watching The D.E.N.N.I.S. system and thinking I need new Sunny in my life. Can't wait!! I'm in love with all of you.&lt;3\", 'Tweet not related to weather condition'), ('#WEATHER: 10:53 pm : 49.0F. Feels 46F. 29.94% Humidity. 6.9MPH South Wind.', 'Neutral / author is just sharing information'), ('Lance Berkman with a snow cone diving catch, yeah it happened', 'Tweet not related to weather condition'), (\"ain't nothin like walkin out of a salon with a fresh cut and a lollipop on a beautiful sunny day. I love it.\", 'Positive'), (\"Hitting the 90s that's naked weather\", 'Negative'), ('Tomorrows 82 degrees ? thats what im fuckin talking abt ^_^ .', 'Positive'), ('Freaking out about this final, and the library is so damn hot!', 'Negative'), (\"This took tumblr by storm two months ago, so naturally, I'm only just now seeing it. {link} Love it!\", 'Tweet not related to weather condition'), ('#WEATHER:  1:56 am : 66.0F. Feels F. 30.09% Humidity. 26.5MPH East Wind.', 'Neutral / author is just sharing information'), (\"@mention they got me goin out in this storm..riskin my life..just cause I can't afford to miss a day of class..smh!\", 'Negative'), ('Such an awesome day out today. Gotta love sunny days.', 'Positive'), (\"RT @mention: Word on the street is, it's going to snow later on today\", 'Neutral / author is just sharing information'), ('Playing euchre in a windy, sunburnt outside tourney drinking yoohoo, wearing zebra print sunglasses break this poker face.', 'Positive'), ('Won a Storm award!! Oh yeah!', 'Tweet not related to weather condition'), (\"GM all looking at another rainy week don't let it make you weak!!\", 'Negative'), ('@mention it was beautiful, thank you.  Great weather & everyone had fun!!  :)', 'Positive'), ('the storm outside = no bueno', 'Negative'), ('Tornado season really is nvr over. If its a severe thunderstorm, a tornado can form RT @mention How long is (cont) {link}', 'Neutral / author is just sharing information'), (\"@mention Most of my followers are usually in and around Tally. That's where the storm is now\", 'Neutral / author is just sharing information'), ('Sigma Gamma Rho Sorority Inc. Beta Omega Sigma-Shreveport,La {From left to right} Quiet Storm - Margarita Hill... {link}', 'Tweet not related to weather condition'), ('New:: Tsunami warning EAS TSW on tv and weather radio {link}/', 'Neutral / author is just sharing information'), (\"Storm chasers - if you are in Lawton, OK, Mon-Wed this next week, we'd love to do coffee.\", 'Tweet not related to weather condition'), ('RT @mention: Cinderella, Snow White, and Sleeping Beauty are all gonna be pretty ticked when they find out they all married Prin ...', 'Tweet not related to weather condition'), ('RT @mention: Just finished copy edit of A History of Ancient Britain. Emerged blinking into sunshine for first time in days. In boo ...', 'Tweet not related to weather condition'), ('hope this night is rainy night ^^', 'Positive'), ('RT @mention: Horses have 16 muscles in each ear, allowing them to rotate their ears 180 degrees.', 'Tweet not related to weather condition'), (\"Today's weather has me dreaming of chocolate. Thankfully we carry some local favorites...  {link}\", 'Positive'), ('May be a long night.  More bad weather to come, so please limit travel and listen to warning sirens or alerts on the radio & t.v.', 'Negative'), (\"@mention Looking forward to your show tonight in Salt Lake City. The weather is supposed to be great. Hopefully you'll toss me a pick\", 'Positive'), ('@mention Is any part of this storm system going to make it across the mountains/in to NC & SC?', 'Neutral / author is just sharing information'), ('We recommend checking out Snow Plow Younginz {link}', 'Tweet not related to weather condition'), (\"What's with all the rainy weber?\", 'Negative'), ('Bring on the sunshine bring on the good times :) #summer2011', 'Positive'), ('RT @mention: droppn The storm video tomorrow crazyy - Black Thoughts 2', 'Tweet not related to weather condition'), (\"@mention We've had a lovely weather all week. It started turning today. Now, it's just weird!\", 'Positive'), (\"I'm glad it's nice weather here for Bike to Work Day. Not that I did. Bike to work. I just like nice weather.\", 'Positive'), ('What up sunshine', 'Positive'), ('@mention good crowd in Wrigley today, terrible weather. tell that redneck that just called in 2 check the Reds crowd on a Wed. day game', 'Negative'), ('RT @mention: Its rockin at this maverick game. Dirk and durant are flat out cold on the basketball court.', 'Tweet not related to weather condition'), ('THE STORM IS UPON US - PTSD AND OUR VETERANS - Veteran Awareness Coalition {link}', 'Tweet not related to weather condition'), (\"What a picture perfect day here in Coeur d'Alene!  Anyone else out enjoying the sunshine?\", 'Positive'), ('I am freezing! I wanna cuddle (:', 'Negative'), ('6 degrees of separation', 'Tweet not related to weather condition'), (\"@mention Andddd it's Wool!! And its 80 degrees outside!\", 'Positive'), ('@mention unfortunately the same here (Sunny skies).  really need some rain.Too much sun can be as depressing as too much rain. #pubwrite', 'Negative'), ('Check this video out -- John Stewart- Chilly Winds-The Turf Inn-2003 {link} via @mention', 'Tweet not related to weather condition'), (\"Going for a walk on the esplanade just because it's sunny out.\", 'Positive'), ('A friend of mine named Judy and family are en route right thru the path of storm to KC. Prayers plz.', 'Negative'), ('Scattered thunderstorms this afternoon, high 62 (17 C).  Low  51 (11 C) tonight.', 'Neutral / author is just sharing information'), ('RT @mention: they just interrupted the emergency weather program with another emergency weather warning. TAKING OUR ASSES TO THE BATH ...', 'Negative'), ('Dear #sanfrancisco, this weather blows. Rain? In may? Um no thank you. Please, get it together. Thanks', 'Negative')]\n"
     ]
    }
   ],
   "source": [
    "x_train = train_data['tweet_body'].values\n",
    "y_train = train_data['emotion'].values\n",
    "x_test = test_data['tweet_body'].values\n",
    "y_test = test_data['emotion'].values\n",
    "\n",
    "print(list(zip(x_train, y_train)))"
   ]
  },
  {
   "cell_type": "markdown",
   "metadata": {},
   "source": [
    "Now let's see how we can transform our tweets into vectors"
   ]
  },
  {
   "cell_type": "code",
   "execution_count": 11,
   "metadata": {},
   "outputs": [
    {
     "name": "stdout",
     "output_type": "stream",
     "text": [
      "   am  at  back  burr  calling  cold  definitely  forward  home  is  it  ithoughtitwassummer  looking  meet  move  my  name  not  out  outside  sitting  so  sunshine  texas  the  think  time  to  today  track  where\n",
      "0   1   1     0     1        0     2           1        1     0   0   1                    1        1     1     0   0     0    1    1        1        1   1         0      0    0      0     0   1      1      1      0\n",
      "1   0   0     1     0        1     0           0        0     1   1   0                    0        0     0     1   1     1    0    0        0        0   0         1      1    1      1     1   1      0      0      1\n"
     ]
    }
   ],
   "source": [
    "from sklearn.feature_extraction.text import CountVectorizer\n",
    "\n",
    "count_vect = CountVectorizer()\n",
    "# we take two samples\n",
    "samples = x_train[:2]\n",
    "# TODO: fit and transform these samples to get the count vectors\n",
    "x_train_counts = count_vect.fit_transform(samples)\n",
    "\n",
    "# You can see how these vectors look with the following commands\n",
    "print(pd.DataFrame(x_train_counts.A, columns=count_vect.get_feature_names()).to_string())"
   ]
  },
  {
   "cell_type": "markdown",
   "metadata": {},
   "source": [
    "### Task 4: Creating the Classifiers\n",
    "\n",
    "In practice, it's cleaner to integrate all of our preprocessing and classifier into a single [pipeline](http://scikit-learn.org/stable/modules/generated/sklearn.pipeline.Pipeline.html). So let's do that now. Add the missing code to build a simple pipeline with CountVectorizer and a Multinomial Naive Bayes classifier."
   ]
  },
  {
   "cell_type": "code",
   "execution_count": 12,
   "metadata": {},
   "outputs": [],
   "source": [
    "from sklearn.pipeline import Pipeline\n",
    "from sklearn.naive_bayes import MultinomialNB\n",
    "\n",
    "def build_pipeline(classifier_fn,x_train,y_train):\n",
    "    pipeline = Pipeline([\n",
    "        # TODO: add the missing code here\n",
    "        ('count_vectorizer',  CountVectorizer()),\n",
    "        ('classifier', classifier_fn)\n",
    "        ])\n",
    "    pipeline.fit(x_train,y_train)\n",
    "    return pipeline\n",
    "\n",
    "pipeline = build_pipeline(MultinomialNB(),x_train,y_train)"
   ]
  },
  {
   "cell_type": "markdown",
   "metadata": {},
   "source": [
    "To evaluate the classifiers, we will be using the precision, recall, and F1 scores. "
   ]
  },
  {
   "cell_type": "code",
   "execution_count": 13,
   "metadata": {},
   "outputs": [
    {
     "name": "stdout",
     "output_type": "stream",
     "text": [
      "                                              precision    recall  f1-score   support\n",
      "\n",
      "                                I can't tell       0.00      0.00      0.00         2\n",
      "                                    Negative       0.53      0.71      0.61        63\n",
      "Neutral / author is just sharing information       0.89      0.63      0.74        54\n",
      "                                    Positive       0.51      0.66      0.57        38\n",
      "      Tweet not related to weather condition       0.54      0.35      0.42        43\n",
      "\n",
      "                                 avg / total       0.62      0.59      0.59       200\n",
      "\n"
     ]
    }
   ],
   "source": [
    "from sklearn.metrics import precision_recall_fscore_support,classification_report, confusion_matrix\n",
    "\n",
    "# TODO: get the class names from the data\n",
    "class_names = data.tweet_body.unique()\n",
    "\n",
    "def plot_confusion_matrix(y_test,y_predicted,labels):\n",
    "    cm = confusion_matrix(y_test, y_predicted,labels =labels)\n",
    "\n",
    "    figsize = (10,7)\n",
    "    df_cm = pd.DataFrame(\n",
    "        cm, index=class_names, columns=class_names, \n",
    "    )\n",
    "    fig = plt.figure(figsize=figsize)\n",
    "    try:\n",
    "        heatmap = sns.heatmap(df_cm, annot=True, fmt=\"d\")\n",
    "    except ValueError:\n",
    "        raise ValueError(\"Confusion matrix values must be integers.\")\n",
    "    heatmap.yaxis.set_ticklabels(heatmap.yaxis.get_ticklabels(), rotation=0)\n",
    "    heatmap.xaxis.set_ticklabels(heatmap.xaxis.get_ticklabels(), rotation=45)\n",
    "    plt.ylabel('True label')\n",
    "    plt.xlabel('Predicted label')\n",
    "    plt.show()\n",
    "    return\n",
    "    \n",
    "def evaluate_classifier(pipeline, x_test, y_test):\n",
    "    # TODO: get the predictions\n",
    "    y_predicted = pipeline.predict(x_test)\n",
    "    # TODO: generate the report\n",
    "    report  = classification_report(y_test, y_predicted)\n",
    "    print(report)\n",
    "    # TODO: plot the confusion matrix\n",
    "    #...\n",
    "    return\n",
    "\n",
    "evaluate_classifier(pipeline, x_test,y_test)"
   ]
  },
  {
   "cell_type": "markdown",
   "metadata": {},
   "source": [
    "We can experiment with other classifiers as we please at this point. Try using an SVM classifier and a RandomForestClassifier classifier instead. You might notice that the Multinomial Naive Bayes is already a good baseline for short text classification.\n"
   ]
  },
  {
   "cell_type": "code",
   "execution_count": 14,
   "metadata": {},
   "outputs": [
    {
     "name": "stdout",
     "output_type": "stream",
     "text": [
      "                                              precision    recall  f1-score   support\n",
      "\n",
      "                                I can't tell       0.00      0.00      0.00         2\n",
      "                                    Negative       0.60      0.63      0.62        63\n",
      "Neutral / author is just sharing information       0.66      0.72      0.69        54\n",
      "                                    Positive       0.58      0.66      0.62        38\n",
      "      Tweet not related to weather condition       0.55      0.37      0.44        43\n",
      "\n",
      "                                 avg / total       0.60      0.60      0.59       200\n",
      "\n",
      "                                              precision    recall  f1-score   support\n",
      "\n",
      "                                I can't tell       0.00      0.00      0.00         2\n",
      "                                    Negative       0.54      0.60      0.57        63\n",
      "Neutral / author is just sharing information       0.68      0.67      0.67        54\n",
      "                                    Positive       0.56      0.58      0.57        38\n",
      "      Tweet not related to weather condition       0.43      0.37      0.40        43\n",
      "\n",
      "                                 avg / total       0.55      0.56      0.55       200\n",
      "\n"
     ]
    }
   ],
   "source": [
    "from sklearn.ensemble import RandomForestClassifier\n",
    "from sklearn.linear_model import SGDClassifier\n",
    "\n",
    "# TODO: build the pipeline with an SGDClassifier (SVM) and evaluate it\n",
    "pipeline = build_pipeline(SGDClassifier(),x_train,y_train)\n",
    "evaluate_classifier(pipeline, x_test,y_test)\n",
    "\n",
    "# TODO: build the pipeline with a Random Forest Classifier and evaluate it\n",
    "pipeline = build_pipeline(RandomForestClassifier(),x_train,y_train)\n",
    "evaluate_classifier(pipeline, x_test,y_test)\n"
   ]
  },
  {
   "cell_type": "markdown",
   "metadata": {},
   "source": [
    "### Task 5: Predicting Emotions for New Tweets"
   ]
  },
  {
   "cell_type": "markdown",
   "metadata": {},
   "source": [
    "It's worth noting that as have the classifiers, we can try them a couple of new tweets."
   ]
  },
  {
   "cell_type": "code",
   "execution_count": 15,
   "metadata": {
    "scrolled": true
   },
   "outputs": [
    {
     "data": {
      "text/plain": [
       "array(['Positive', 'Neutral / author is just sharing information'],\n",
       "      dtype=object)"
      ]
     },
     "execution_count": 15,
     "metadata": {},
     "output_type": "execute_result"
    }
   ],
   "source": [
    "tweets = [\"love the weather\",\"#WEATHER: 7:51 am E: 55.0F. Feels F. 30.01% Humidity. 3.5MPH Variable Wind.\"]\n",
    "# TODO: get the predictions\n",
    "predictions = pipeline.predict(tweets)\n",
    "predictions"
   ]
  },
  {
   "cell_type": "markdown",
   "metadata": {},
   "source": [
    "### Task 6: Visualizing a Decision Tree Classifier\n",
    "\n",
    "side note: this requires the installation of **graphviz**"
   ]
  },
  {
   "cell_type": "markdown",
   "metadata": {},
   "source": [
    "One way to see how our features are affecting the classification is to use interpretable classifiers like Decision Trees. To begin with, let's add another step to our pipeline, where we use TF-IDF measure for each word as a vector element instead of taking the term frequency only. We'll use the [TfidfTransformer](http://scikit-learn.org/stable/modules/generated/sklearn.feature_extraction.text.TfidfTransformer.html)."
   ]
  },
  {
   "cell_type": "code",
   "execution_count": 18,
   "metadata": {
    "collapsed": true
   },
   "outputs": [],
   "source": [
    "from sklearn.feature_extraction.text import TfidfTransformer\n",
    "\n",
    "# TODO: build a new pipeline with the TfidfTransformer\n",
    "def build_pipeline(classifier_fn,x_train,y_train):\n",
    "    pipeline = Pipeline([\n",
    "        ('count_vectorizer', CountVectorizer()),\n",
    "        ('tfidf',  TfidfTransformer()),\n",
    "        ('classifier', classifier_fn),\n",
    "        ])\n",
    "    pipeline.fit(x_train,y_train)\n",
    "    return pipeline"
   ]
  },
  {
   "cell_type": "markdown",
   "metadata": {},
   "source": [
    "Now we're ready to build and visualize the decision tree."
   ]
  },
  {
   "cell_type": "code",
   "execution_count": 20,
   "metadata": {},
   "outputs": [],
   "source": [
    "from sklearn.tree import DecisionTreeClassifier, export_graphviz\n",
    "import graphviz\n",
    "\n",
    "# TODO: build the pipeline with the Decision Tree Classifier\n",
    "pipeline = build_pipeline(DecisionTreeClassifier(),x_train,y_train)\n",
    "\n",
    "# extract the classifier and the count_vectorizer from the pipeline\n",
    "classifier= pipeline.get_params()['classifier']\n",
    "count_vectorizer = pipeline.get_params()['count_vectorizer']\n",
    "# TODO: Use export_graphviz to visualize the classifiers. You already have all the needed parameters.\n",
    "dot_data = export_graphviz\n",
    "\n",
    "#graph = graphviz.Source(dot_data) \n",
    "#graph"
   ]
  },
  {
   "cell_type": "markdown",
   "metadata": {},
   "source": [
    "### Task 7 Get Feature Importance"
   ]
  },
  {
   "cell_type": "markdown",
   "metadata": {},
   "source": [
    "One way to debug our classifiers and see how they are working is to investigate the features and print the most important ones. We'll do that next. But to start, let's do one more preprocessing step that further removes some of the noise: removing stop words."
   ]
  },
  {
   "cell_type": "code",
   "execution_count": 21,
   "metadata": {},
   "outputs": [
    {
     "name": "stdout",
     "output_type": "stream",
     "text": [
      "Burr it's so cold out today! I definitely am not looking forward to sitting outside at a track meet! #cold #Ithoughtitwassummer\n",
      "Burr cold today! I definitely looking forward sitting outside track meet! #cold #Ithoughtitwassummer\n"
     ]
    }
   ],
   "source": [
    "import nltk\n",
    "from nltk.corpus import stopwords\n",
    "\n",
    "# remove stopwords in order to improve interpretability\n",
    "stop = stopwords.words('english')\n",
    "stop += ['rt','@mention:','@mention','link']\n",
    "\n",
    "# TODO: write a function that removes the stop words from each string in a numpy array of strings \n",
    "def remove_stopwords(x_train):\n",
    "    \n",
    "    x_train_filtered = np.copy(x_train)\n",
    "    \n",
    "    for i in range(np.shape(x_train)[0]):\n",
    "        tokens = x_train[i].split()\n",
    "        tokens = [word for word in tokens if word not in stop]        \n",
    "        x_train_filtered[i] = \" \".join([word for word in tokens])\n",
    "        \n",
    "    return x_train_filtered\n",
    "\n",
    "x_train_nostop = remove_stopwords(x_train)\n",
    "x_test_no_stop = remove_stopwords(x_test)\n",
    "\n",
    "print(x_train[0])\n",
    "print(x_train_nostop[0])"
   ]
  },
  {
   "cell_type": "markdown",
   "metadata": {},
   "source": [
    "Now we're ready to get the most important features for each class. Complete the function below with the missing lines. An easy sanity check is to see if the words that are important for the \"Positive\" class are actually positive and vice-versa!"
   ]
  },
  {
   "cell_type": "code",
   "execution_count": 23,
   "metadata": {},
   "outputs": [],
   "source": [
    "def most_informative_feature_for_class(vectorizer, classifier, classlabel, n=20):\n",
    "    labelid = list(classifier.classes_).index(classlabel)\n",
    "    # TODO: get the feature names from the vectorizer\n",
    "    #feature_names = get_feature_names()\n",
    "    #topn = sorted(zip(classifier.coef_[labelid], feature_names))[-n:]\n",
    "\n",
    "    #for coef, feat in topn:\n",
    "    #    print(classlabel, feat, coef)\n",
    "        \n",
    "pipeline = build_pipeline(MultinomialNB(),x_train_nostop,y_train)\n",
    "# TODO: get the most informative features for a Multinomial NB classifier \n",
    "# by using the function above for the classes \"Positive\" and \"Negative\"\n",
    "classifier= pipeline.get_params()['classifier']\n",
    "count_vectorizer = pipeline.get_params()['count_vectorizer']\n",
    "most_informative_feature_for_class(count_vectorizer,classifier,\"Positive\")"
   ]
  },
  {
   "cell_type": "code",
   "execution_count": 24,
   "metadata": {},
   "outputs": [],
   "source": [
    "most_informative_feature_for_class(count_vectorizer, classifier, \"Negative\")"
   ]
  },
  {
   "cell_type": "code",
   "execution_count": 25,
   "metadata": {
    "collapsed": true
   },
   "outputs": [],
   "source": [
    "most_informative_feature_for_class(count_vectorizer, classifier, \"Neutral / author is just sharing information\")"
   ]
  },
  {
   "cell_type": "markdown",
   "metadata": {},
   "source": [
    "### Task 8: Cross validation"
   ]
  },
  {
   "cell_type": "markdown",
   "metadata": {},
   "source": [
    "Above, we were using a training set and a testing set for evaluating our models. A more robust way to evaluate a model is to use cross validation. In the code below, we will do such evaluation. At the same time, we will use the cross-validation results to select better parameters for our model. More specifically, we will find a good `alpha` parameter for the `MultinomialNB` model. Hence, we will plot the variation of the F1 score for the \"Positive\" and the \"Negative\" labels."
   ]
  },
  {
   "cell_type": "code",
   "execution_count": null,
   "metadata": {
    "collapsed": true
   },
   "outputs": [],
   "source": [
    "from sklearn.model_selection import ShuffleSplit\n",
    "from sklearn.pipeline import make_pipeline\n",
    "from sklearn.model_selection import cross_val_score\n",
    "from sklearn.metrics import precision_recall_fscore_support\n",
    "from sklearn.model_selection import StratifiedKFold\n",
    "\n",
    "\n",
    "# construct a new X and y \n",
    "X = np.concatenate((x_train_nostop, x_test_no_stop),axis=0)\n",
    "y = np.concatenate((y_train, y_test),axis=0)  \n",
    "\n",
    "# prepare for the cross validation \n",
    "kf = StratifiedKFold(n_splits=5,random_state=4)\n",
    "\n",
    "alphas = [(i*0.1) for i in range(0,10)]\n",
    "\n",
    "\n",
    "total_f1_pos = []\n",
    "total_f1_neg = []\n",
    "\n",
    "for a in alphas:\n",
    "    f_score_pos = []\n",
    "    f_score_neg = []\n",
    "    for train_index, test_index in kf.split(X,y):\n",
    "        \n",
    "        # TODO: build the pipeline for the current alpha and the current training and testing set \n",
    "        pipeline = ...\n",
    "       \n",
    "        y_predicted = pipeline.predict(X[test_index])\n",
    "        report  = precision_recall_fscore_support(y[test_index], y_predicted)\n",
    "        \n",
    "        # let's get the f1_score value for the \"Positive\" and the \"Negative\" labels to plot them\n",
    "        \n",
    "        ind_pos = list(pipeline.classes_).index('Positive')\n",
    "        ind_neg = list(pipeline.classes_).index('Negative')\n",
    "\n",
    "        # report 0 is precision\n",
    "        # report 2 is f-score\n",
    "        fscore_positive = report[0][ind_pos]\n",
    "        fscore_negative = report[0][ind_neg]\n",
    "        \n",
    "        f_score_pos += [fscore_positive]\n",
    "        f_score_neg += [fscore_negative]\n",
    "    # TODO: extend the arrays with the average  fscore_positive and fscore_negative repsectively.\n",
    "    total_f1_pos += ...\n",
    "    total_f1_neg += ...\n",
    "    "
   ]
  },
  {
   "cell_type": "markdown",
   "metadata": {},
   "source": [
    "We now plot the variation of the F1 score with different `alpha` values."
   ]
  },
  {
   "cell_type": "code",
   "execution_count": null,
   "metadata": {
    "collapsed": true
   },
   "outputs": [],
   "source": [
    "plt.plot(alphas,total_f1_pos,label='Positive')\n",
    "plt.plot(alphas,total_f1_neg,label='Negative')\n",
    "\n",
    "plt.xlabel('alpha')\n",
    "plt.ylabel('Precision')\n",
    "plt.legend()\n",
    "plt.show()"
   ]
  },
  {
   "cell_type": "markdown",
   "metadata": {},
   "source": [
    "### Bonus Task 9: Food for thought\n",
    "\n",
    "There is a lot of room for improvement in the above problem. Here are some issues to think about:\n",
    "- You can see a lot of numbers and measures of wind speed or humidity in the dataset. Can we do some custom tokenization to group these similar features into a single one?\n",
    "- Can we alternatively discretize these measures and turning them into discrete features like low/high wind speed? These can be either tokens in the current text classification approach or, if there is enough data, as features for a new classifier. \n",
    "- You have seen that some of the labels have no predictions in the testing set. This is due to the imbalanced dataset. What can we do to improve this?"
   ]
  }
 ],
 "metadata": {
  "anaconda-cloud": {},
  "kernelspec": {
   "display_name": "Python (DIS2018)",
   "language": "python",
   "name": "dis2018"
  },
  "language_info": {
   "codemirror_mode": {
    "name": "ipython",
    "version": 3
   },
   "file_extension": ".py",
   "mimetype": "text/x-python",
   "name": "python",
   "nbconvert_exporter": "python",
   "pygments_lexer": "ipython3",
   "version": "3.5.4"
  }
 },
 "nbformat": 4,
 "nbformat_minor": 1
}
