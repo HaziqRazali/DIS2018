{
 "cells": [
  {
   "cell_type": "markdown",
   "metadata": {},
   "source": [
    "# Exercise 11: Entity and Relation Extraction"
   ]
  },
  {
   "cell_type": "markdown",
   "metadata": {},
   "source": [
    "## Task 1: Relation extraction from Wikipedia articles\n",
    "\n",
    "Use Wikipedia to extract the relation `directedBy(Movie, Person)` by applying pattern based heuristics that utilize: *Part Of Speech Tagging*, *Named Entity Recognition* and *Regular Expressions*.\n",
    "\n",
    "#### Required Library: SpaCy\n",
    "- ```conda install -y spacy```\n",
    "- ```python -m spacy download en```"
   ]
  },
  {
   "cell_type": "code",
   "execution_count": 1,
   "metadata": {},
   "outputs": [],
   "source": [
    "import urllib.request, json, csv, re\n",
    "import spacy\n",
    "nlp = spacy.load('en')"
   ]
  },
  {
   "cell_type": "code",
   "execution_count": 2,
   "metadata": {},
   "outputs": [],
   "source": [
    "#read tsv with input movies\n",
    "def read_tsv():\n",
    "    movies=[]\n",
    "    with open('movies.tsv','r') as file:\n",
    "        tsv = csv.reader(file, delimiter='\\t')\n",
    "        next(tsv) #remove header\n",
    "        movies = [{'movie':line[0], 'director':line[1]} for line in tsv]\n",
    "    return movies\n",
    "\n",
    "#parse wikipedia page\n",
    "def parse_wikipedia(movie):\n",
    "    txt = ''\n",
    "    try:\n",
    "        with urllib.request.urlopen('https://en.wikipedia.org/w/api.php?format=json&action=query&prop=extracts&exintro=&explaintext=&titles='+movie) as url:\n",
    "            data = json.loads(url.read().decode())\n",
    "            txt = next (iter (data['query']['pages'].values()))['extract']\n",
    "    except:\n",
    "        pass\n",
    "    return txt"
   ]
  },
  {
   "cell_type": "markdown",
   "metadata": {},
   "source": [
    "#### 1) Parse the raw text of a Wikipedia movie page and extract named (PER) entities."
   ]
  },
  {
   "cell_type": "code",
   "execution_count": 3,
   "metadata": {},
   "outputs": [],
   "source": [
    "def find_PER_entities(txt):\n",
    "    txt = nlp(txt)\n",
    "    \n",
    "    persons = []\n",
    "    for e in txt.ents:\n",
    "        if e.label_ == 'PERSON':\n",
    "            persons.append(e.text)\n",
    "    return persons"
   ]
  },
  {
   "cell_type": "markdown",
   "metadata": {},
   "source": [
    "#### 2) Given the raw text of a Wikipedia movie page and the extracted PER entities, find the director."
   ]
  },
  {
   "cell_type": "code",
   "execution_count": 4,
   "metadata": {},
   "outputs": [],
   "source": [
    "def find_director(txt, persons):\n",
    "    txt = re.sub('[!?,.]', '', txt).split()\n",
    "    \n",
    "    # look for directed in text\n",
    "    for p1 in range(0, len(txt)):\n",
    "        if(txt[p1] == 'directed'):\n",
    "            \n",
    "            # look for first person after the word \"directed\"\n",
    "            for p2 in range(p1, len(txt)):\n",
    "                # iterate through list of known persons\n",
    "                for per in persons:\n",
    "                    if per.startswith(txt[p2]):\n",
    "                        return per\n",
    "        \n",
    "    # return empty string if no director found\n",
    "    return ''"
   ]
  },
  {
   "cell_type": "code",
   "execution_count": 5,
   "metadata": {
    "scrolled": false
   },
   "outputs": [],
   "source": [
    "movies = read_tsv()\n",
    "\n",
    "statements=[]\n",
    "\n",
    "tp = 0\n",
    "fp = 0\n",
    "\n",
    "# for each movie\n",
    "for m in movies:\n",
    "    \n",
    "    # find the director\n",
    "    txt = parse_wikipedia(m['movie'])\n",
    "    persons = find_PER_entities(txt)\n",
    "    director = find_director(txt, persons)\n",
    "    \n",
    "    if director != '':\n",
    "        statements.append(m['movie'] + ' is directed by ' + director + '.')\n",
    "        if director != m['director']:\n",
    "            fp += 1\n",
    "    \n",
    "    #if director != '':\n",
    "    #    statements.append(m['movie'] + ' is directed by ' + director + '.')\n",
    "        \n",
    "    # if director is correct\n",
    "    #if(m['director'] == director):\n",
    "    #    tp += 1\n",
    "    #else:\n",
    "    #    fp += 1\n",
    "            "
   ]
  },
  {
   "cell_type": "markdown",
   "metadata": {},
   "source": [
    "#### 3) Compute the precision and recall based on the given ground truth (column Director from tsv file) and show examples of statements that are extracted."
   ]
  },
  {
   "cell_type": "code",
   "execution_count": 6,
   "metadata": {},
   "outputs": [
    {
     "name": "stdout",
     "output_type": "stream",
     "text": [
      "Precision: 0.7918367346938775\n",
      "Recall: 0.8220338983050848\n",
      "\n",
      "***Sample Statements***\n",
      "13_Assassins_(2010_film) is directed by Takashi Miike.\n",
      "14_Blades is directed by Daniel Lee.\n",
      "22_Bullets is directed by Richard Berry.\n",
      "The_A-Team_(film) is directed by Joe Carnahan.\n",
      "Alien_vs_Ninja is directed by Seiji Chiba.\n"
     ]
    }
   ],
   "source": [
    "# compute precision and recall\n",
    "fn = len(movies) - len(statements)\n",
    "tp = len(statements) - fp\n",
    "precision = tp / (tp + fp)\n",
    "recall = tp / (tp + fn)\n",
    "print ('Precision:',precision)\n",
    "print ('Recall:',recall)\n",
    "\n",
    "print()\n",
    "print('***Sample Statements***')\n",
    "for s in statements[:5]:\n",
    "    print (s)"
   ]
  },
  {
   "cell_type": "markdown",
   "metadata": {},
   "source": [
    "## Task 2: Named Entity Recognition using Hidden Markov Model\n",
    "\n",
    "\n",
    "Define a Hidden Markov Model (HMM) that recognizes Person (*PER*) entities.\n",
    "Particularly, your model must be able to recognize pairs of the form (*firstname lastname*) as *PER* entities.\n",
    "Using the given sentences as training and test set:"
   ]
  },
  {
   "cell_type": "code",
   "execution_count": null,
   "metadata": {},
   "outputs": [],
   "source": [
    "training_set=['The best blues singer was Bobby Bland while Ray Charles pioneered soul music .', \\\n",
    "              'Bobby Bland was just a singer whereas Ray Charles was a pianist , songwriter and singer .' \\\n",
    "              'None of them lived in Chicago .']\n",
    "\n",
    "test_set=['Ray Charles was born in 1930 .', \\\n",
    "          'Bobby Bland was born the same year as Ray Charles .', \\\n",
    "          'Muddy Waters is the father of Chicago Blues .']"
   ]
  },
  {
   "cell_type": "markdown",
   "metadata": {},
   "source": [
    "#### 1) Annotate your training set with the labels I (for PER entities) and O (for non PER entities).\n",
    "\t\n",
    "    *Hint*: Represent the sentences as sequences of bigrams, and label each bigram.\n",
    "\tOnly bigrams that contain pairs of the form (*firstname lastname*) are considered as *PER* entities."
   ]
  },
  {
   "cell_type": "code",
   "execution_count": null,
   "metadata": {},
   "outputs": [],
   "source": [
    "#Bigram Representation\n",
    "def getBigrams(sents):\n",
    "    return [b[0]+' '+b[1] for l in sents for b in zip(l.split(' ')[:-1], l.split(' ')[1:])]\n",
    "\n",
    "bigrams = getBigrams(training_set)\n",
    "print(bigrams)\n",
    "\n",
    "#Annotation\n",
    "PER = ['Bobby Bland', 'Ray Charles']\n",
    "annotations = []\n",
    "for b in bigrams:\n",
    "    \n",
    "    if(b in PER):\n",
    "        annotations.append([b, 'I'])\n",
    "    else:\n",
    "        annotations.append([b, 'O'])\n",
    "    \n",
    "print('Annotation\\n', annotations,'\\n')"
   ]
  },
  {
   "cell_type": "markdown",
   "metadata": {},
   "source": [
    "#### 2) Compute the transition and emission probabilities for the HMM (use smoothing parameter $\\lambda$=0.5).\n",
    "\n",
    "    *Hint*: For the emission probabilities you can utilize the morphology of the words that constitute a bigram (e.g., you can count their uppercase first characters)."
   ]
  },
  {
   "cell_type": "code",
   "execution_count": null,
   "metadata": {
    "scrolled": true
   },
   "outputs": [],
   "source": [
    "# Compute probabilities for state transitions\n",
    "# -------------------------------------------\n",
    "# prior probabilities\n",
    "p_o = 0\n",
    "p_i = 0\n",
    "# marginal probabilities\n",
    "p_xo = 0\n",
    "p_xi = 0           \n",
    "# joint probabilities\n",
    "p_oo = 0\n",
    "p_oi = 0\n",
    "p_io = 0\n",
    "p_ii = 0\n",
    "\n",
    "# initialize start state\n",
    "for i, _ in enumerate(annotations):\n",
    "    \n",
    "    if(i == 0):\n",
    "        if(annotations[i][1] == 'O'): # prior\n",
    "            p_o += 1\n",
    "        if(annotations[i][1] == 'I'): # prior\n",
    "            p_i += 1\n",
    "    \n",
    "    if(i != 0):\n",
    "        if(annotations[i][1] == 'O'): # prior\n",
    "            p_o += 1\n",
    "        if(annotations[i][1] == 'I'): # prior\n",
    "            p_i += 1\n",
    "        \n",
    "        if(annotations[i-1][1] == 'O' and annotations[i][1] == 'O'): # transition\n",
    "            p_oo += 1\n",
    "            p_xo += 1\n",
    "        if(annotations[i-1][1] == 'O' and annotations[i][1] == 'I'): # transition\n",
    "            p_oi += 1\n",
    "            p_xi += 1\n",
    "        if(annotations[i-1][1] == 'I' and annotations[i][1] == 'O'): # transition\n",
    "            p_io += 1 \n",
    "            p_xo += 1\n",
    "        if(annotations[i-1][1] == 'I' and annotations[i][1] == 'I'): # transition\n",
    "            p_ii += 1\n",
    "            p_xi += 1\n",
    "            \n",
    "# Compute probabilities for emission\n",
    "# ----------------------------------\n",
    "p_0_upper_o = 0\n",
    "p_1_upper_o = 0\n",
    "p_2_upper_o = 0\n",
    "p_0_upper_i = 0\n",
    "p_1_upper_i = 0\n",
    "p_2_upper_i = 0\n",
    "\n",
    "for i, _ in enumerate(annotations):\n",
    "        \n",
    "    count = annotations[i][0].split(' ')[0][0].isupper() + annotations[i][0].split(' ')[1][0].isupper()\n",
    "    \n",
    "    if(annotations[i][1] == 'O'):\n",
    "        if(count == 0):\n",
    "            p_0_upper_o += 1\n",
    "        if(count == 1):\n",
    "            p_1_upper_o += 1\n",
    "        if(count == 2):\n",
    "            p_2_upper_o += 1\n",
    "            \n",
    "    if(annotations[i][1] == 'I'):\n",
    "        if(count == 0):\n",
    "            p_0_upper_i += 1\n",
    "        if(count == 1):\n",
    "            p_1_upper_i += 1\n",
    "        if(count == 2):\n",
    "            p_2_upper_i += 1"
   ]
  },
  {
   "cell_type": "code",
   "execution_count": null,
   "metadata": {},
   "outputs": [],
   "source": [
    "lambda_ = 0.5\n",
    "\n",
    "#Transition Probabilities\n",
    "transition_prob={}\n",
    "\n",
    "#Prior\n",
    "transition_prob['P(I|start)'] = p_i / (p_o + p_i)\n",
    "transition_prob['P(O|start)'] = p_o / (p_o + p_i)\n",
    "\n",
    "transition_prob['P(O|O)'] = p_oo / p_xo\n",
    "transition_prob['P(O|I)'] = p_oi / p_xi\n",
    "transition_prob['P(I|O)'] = p_io / p_xo\n",
    "transition_prob['P(I|I)'] = p_ii / p_xi\n",
    "\n",
    "print('Transition Probabilities\\n',transition_prob, '\\n')\n",
    "\n",
    "#Emission Probabilities\n",
    "emission_prob={}\n",
    "\n",
    "default_emission = 1/len(bigrams) * (1 - lambda_)\n",
    "\n",
    "emission_prob['P(2_upper|O)'] = (p_2_upper_o / p_o) * lambda_ + default_emission\n",
    "emission_prob['P(2_upper|I)'] = (p_2_upper_i / p_i) * lambda_ + default_emission\n",
    "emission_prob['P(1_upper|O)'] = (p_1_upper_o / p_o) * lambda_ + default_emission\n",
    "emission_prob['P(1_upper|I)'] = (p_1_upper_i / p_i) * lambda_ + default_emission\n",
    "emission_prob['P(0_upper|O)'] = (p_0_upper_o / p_o) * lambda_ + default_emission\n",
    "emission_prob['P(0_upper|I)'] = (p_0_upper_i / p_i) * lambda_ + default_emission\n",
    "\n",
    "print('Emission Probabilities\\n', emission_prob, '\\n')"
   ]
  },
  {
   "cell_type": "markdown",
   "metadata": {},
   "source": [
    "#### 3) Predict the labels of the test set and compute the precision and the recall of your model."
   ]
  },
  {
   "cell_type": "code",
   "execution_count": null,
   "metadata": {},
   "outputs": [],
   "source": [
    "#Greedy search vs Viterbi\n",
    "#Prediction\n",
    "bigrams = getBigrams(test_set)\n",
    "entities=[]\n",
    "prev_state='start'\n",
    "for b in bigrams:\n",
    "    \n",
    "    count = b.split(' ')[0][0].isupper() + b.split(' ')[1][0].isupper()\n",
    "    \n",
    "    I_prob = transition_prob['P(I|'+prev_state+')'] * emission_prob['P('+str(count)+'_upper|I)']\n",
    "    O_prob = transition_prob['P(O|'+prev_state+')'] * emission_prob['P('+str(count)+'_upper|O)']\n",
    "    \n",
    "    if O_prob > I_prob:\n",
    "        prev_state = 'O'\n",
    "    else:\n",
    "        entities.append(b)\n",
    "        prev_state = 'I'\n",
    "\n",
    "print('Predicted Entities\\n', entities, '\\n')"
   ]
  },
  {
   "cell_type": "markdown",
   "metadata": {},
   "source": [
    "Precision is *...%* while recall is *...%*. "
   ]
  },
  {
   "cell_type": "markdown",
   "metadata": {},
   "source": [
    "#### 4) Comment on how you can further improve this model."
   ]
  },
  {
   "cell_type": "markdown",
   "metadata": {},
   "source": [
    "..."
   ]
  }
 ],
 "metadata": {
  "kernelspec": {
   "display_name": "Python (DIS2018)",
   "language": "python",
   "name": "dis2018"
  },
  "language_info": {
   "codemirror_mode": {
    "name": "ipython",
    "version": 3
   },
   "file_extension": ".py",
   "mimetype": "text/x-python",
   "name": "python",
   "nbconvert_exporter": "python",
   "pygments_lexer": "ipython3",
   "version": "3.5.4"
  },
  "toc": {
   "colors": {
    "hover_highlight": "#DAA520",
    "navigate_num": "#000000",
    "navigate_text": "#333333",
    "running_highlight": "#FF0000",
    "selected_highlight": "#FFD700",
    "sidebar_border": "#EEEEEE",
    "wrapper_background": "#FFFFFF"
   },
   "moveMenuLeft": true,
   "nav_menu": {
    "height": "228px",
    "width": "252px"
   },
   "navigate_menu": true,
   "number_sections": true,
   "sideBar": true,
   "threshold": 4,
   "toc_cell": false,
   "toc_section_display": "block",
   "toc_window_display": false,
   "widenNotebook": false
  }
 },
 "nbformat": 4,
 "nbformat_minor": 1
}
