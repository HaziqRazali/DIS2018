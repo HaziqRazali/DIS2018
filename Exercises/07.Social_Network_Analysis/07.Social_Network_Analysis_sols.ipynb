{
 "cells": [
  {
   "cell_type": "markdown",
   "metadata": {},
   "source": [
    "# Exercise 6\n",
    "\n",
    "## Question 1\n",
    "\n",
    "Last week, we have implemented k-means. For this week, we will implement its variance called k-medoids."
   ]
  },
  {
   "cell_type": "code",
   "execution_count": 18,
   "metadata": {
    "collapsed": true
   },
   "outputs": [],
   "source": [
    "from __future__ import print_function, division\n",
    "import pandas as pd\n",
    "import numpy as np\n",
    "import matplotlib.pyplot as plt\n",
    "import random\n",
    "from sklearn import preprocessing\n",
    "from sklearn.datasets import make_blobs\n",
    "\n",
    "np.random.seed(42)\n",
    "\n",
    "%matplotlib inline\n",
    "\n",
    "def euclidean_distance(point, centroid):\n",
    "    return np.sqrt(np.sum((point - centroid)**2))"
   ]
  },
  {
   "cell_type": "markdown",
   "metadata": {},
   "source": [
    "### SOLUTION\n",
    "\n",
    "Complete the method `choose_centroids` below. Specifically:  \n",
    "\n",
    "*  `choose_centroids(X, labels, num_clusters)` choose a new centroid from the data points in a cluster. The new centroid is the data point that has the lowest sum of distances to other points in the cluster (recall that assignement is represented by the `labels` array).\n"
   ]
  },
  {
   "cell_type": "code",
   "execution_count": 2,
   "metadata": {
    "collapsed": true
   },
   "outputs": [],
   "source": [
    "\"\"\"\n",
    "Calculate the centroid or mean of all objects in each cluster.\n",
    "\"\"\"\n",
    "def choose_centroids(X, labels, num_clusters):\n",
    "    centroids = []\n",
    "    for i in range(num_clusters):\n",
    "        points = X[labels == i]\n",
    "        centroid = points[0]\n",
    "        min_dis = sum(euclidean_distance(centroid, p) for p in points)/len(points)\n",
    "        for candidate_centroid in points:\n",
    "            dis = sum(euclidean_distance(candidate_centroid, p) for p in points)/len(points)\n",
    "            if dis < min_dis:\n",
    "                min_dis = dis\n",
    "                centroid = candidate_centroid\n",
    "        centroids.append(centroid)\n",
    "    return np.array(centroids)"
   ]
  },
  {
   "cell_type": "code",
   "execution_count": 3,
   "metadata": {
    "collapsed": true
   },
   "outputs": [],
   "source": [
    "\"\"\"\n",
    "Generate random 2D data points\n",
    "\"\"\"\n",
    "def gen_data(num_samples,num_blobs=3,random_state=42):\n",
    "    X, y = make_blobs(n_samples=num_samples, random_state=random_state, centers=num_blobs, cluster_std=5.0)\n",
    "    return X,y\n",
    "\n",
    "\"\"\"\n",
    "Compute euclidean distance between a point and a centroid.\n",
    "point,centroid: 1D Numpy array containing coordinates [x,y]\n",
    "\"\"\"\n",
    "\n",
    "def init_centroids(X,num_clusters):\n",
    "    rand_indices = np.random.choice(X.shape[0], num_clusters,replace=False)\n",
    "    return X[rand_indices,:]\n",
    "\n",
    "\"\"\"\n",
    "Assign objects to their closest cluster center according to the Euclidean distance function.\n",
    "\"\"\"\n",
    "def assign_points(X, centroids):\n",
    "    labels = []\n",
    "    for point in range(0, X.shape[0]):\n",
    "        distance = {}\n",
    "        for centroid in range(0, centroids.shape[0]):\n",
    "            distance[centroid] = euclidean_distance(X[point], centroids[centroid])\n",
    "        \n",
    "        index_of_minimum = min(distance, key=distance.get)\n",
    "        labels.append(index_of_minimum)\n",
    "    return np.array(labels)\n",
    "    \n",
    "def k_medoids(X, num_clusters):\n",
    "\n",
    "    # Initialize centroids to randomly chosen data points\n",
    "    centroids  = init_centroids(X,num_clusters)\n",
    "\n",
    "    # Bookkeeping\n",
    "    num_iter  = 0\n",
    "    positions = [centroids]\n",
    "    \n",
    "    while True:\n",
    "        \n",
    "        labels = assign_points(X, centroids)\n",
    "        \n",
    "        new_centroids = choose_centroids(X, labels, num_clusters)\n",
    "        \n",
    "        # Termination criterion\n",
    "        if np.all(centroids == new_centroids):\n",
    "            break\n",
    "            \n",
    "        centroids = new_centroids\n",
    "        positions.append(centroids)\n",
    "        num_iter += 1\n",
    "        \n",
    "    return [labels, centroids, num_iter, positions]"
   ]
  },
  {
   "cell_type": "code",
   "execution_count": 4,
   "metadata": {},
   "outputs": [
    {
     "name": "stdout",
     "output_type": "stream",
     "text": [
      "Convergence in 3 iteration(s)\n"
     ]
    }
   ],
   "source": [
    "num_samples = 150\n",
    "num_blobs   = 3\n",
    "X,y = gen_data(num_samples,num_blobs=num_blobs)\n",
    "\n",
    "total_iterations = 10\n",
    "num_clusters     = 3\n",
    "[cluster_label, new_centroids, num_iter, positions] = k_medoids(X,num_clusters)\n",
    "print(\"Convergence in %i iteration(s)\" % num_iter)"
   ]
  },
  {
   "cell_type": "markdown",
   "metadata": {},
   "source": [
    "### Plotting\n",
    "\n",
    "Cluster centroids are displayed as red circles. Their positions across the various steps of the optimization are displayed as red lines. Data points are colored according to their cluster assignement."
   ]
  },
  {
   "cell_type": "code",
   "execution_count": 5,
   "metadata": {},
   "outputs": [
    {
     "data": {
      "text/plain": [
       "[<matplotlib.lines.Line2D at 0x115dcaf98>]"
      ]
     },
     "execution_count": 5,
     "metadata": {},
     "output_type": "execute_result"
    },
    {
     "data": {
      "image/png": "iVBORw0KGgoAAAANSUhEUgAAAXwAAAD8CAYAAAB0IB+mAAAABHNCSVQICAgIfAhkiAAAAAlwSFlz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\n",
      "text/plain": [
       "<Figure size 600x400 with 1 Axes>"
      ]
     },
     "metadata": {},
     "output_type": "display_data"
    }
   ],
   "source": [
    "_ = plt.scatter(X[:, 0], X[:, 1], c=cluster_label)\n",
    "_ = plt.scatter(new_centroids[:,0], new_centroids[:,1], marker='o', s=5, c='r', edgecolors='w', linewidths=2)\n",
    "\n",
    "plt.plot(np.array(positions)[:,0,0],np.array(positions)[:,0,1],'r',linewidth=3)\n",
    "plt.plot(np.array(positions)[:,1,0],np.array(positions)[:,1,1],'r',linewidth=3)\n",
    "plt.plot(np.array(positions)[:,2,0],np.array(positions)[:,2,1],'r',linewidth=3)"
   ]
  },
  {
   "cell_type": "markdown",
   "metadata": {},
   "source": [
    "## Question 2"
   ]
  },
  {
   "cell_type": "markdown",
   "metadata": {},
   "source": [
    "Complete the following method to compute the modularity measure of a graph."
   ]
  },
  {
   "cell_type": "markdown",
   "metadata": {
    "collapsed": true
   },
   "source": [
    "If you haven't installed networkx package, you can run the following command (note the exclamation mark)\n",
    "```python\n",
    "!conda install networkx --yes\n",
    "```"
   ]
  },
  {
   "cell_type": "code",
<<<<<<< HEAD
   "execution_count": 6,
   "metadata": {},
=======
   "execution_count": 5,
   "metadata": {
    "collapsed": false
   },
>>>>>>> 0d2d18b4ea0a3eb918a8ca61d8d38107a943de76
   "outputs": [
    {
     "data": {
      "image/png": "iVBORw0KGgoAAAANSUhEUgAAAeEAAAFCCAYAAADGwmVOAAAABHNCSVQICAgIfAhkiAAAAAlwSFlz\nAAALEgAACxIB0t1+/AAAADl0RVh0U29mdHdhcmUAbWF0cGxvdGxpYiB2ZXJzaW9uIDIuMS4yLCBo\ndHRwOi8vbWF0cGxvdGxpYi5vcmcvNQv5yAAAIABJREFUeJzt3X1c1GW+//H3KAgDKoIO2I16yrv2\nlJ5tV7dabxZJufMGMfM+07Sz2qmt3aOVtzBq6/720Y3obh5r22NuZ9csXTVZIK31BszE0nQ71QLl\ncXcfq6AhSYAKzO+PCcNSBObmmpvX8x8QmO+8+Ye3n+91zTUWh8PhEAAA8Lo2pgMAABCsKGEAAAyh\nhAEAMIQSBgDAEEoYAABDKGEAAAyhhAEAMIQSBgDAEEoYAABDKGEAAAyhhAEAMIQSBgDAEEoYAABD\nKGEAAAyhhAEAMIQSBgDAEEoYAABDKGEAAAyhhAEAMCTEdAB8pbRUWr9eOnpUqqiQoqKk/v2lmTMl\nm810OgCAB1gcDofDdIigVlgorVwp5eQ4/11T8/X3rFbJ4ZBSUqQFC6SBA81kBAB4BCVs0tq10rx5\nUnW1s2yvxmJxFvLTT0tz53ovHwDAo7gdbUpDAVdVXftnHQ7nz82b5/w3RQwAAYFJ2ITCQik+vnkF\n/E0REdKePdKAAW6PBQDwLnZHm7BypfMWdGtUVzsfDwDwe0zC3lZaKvXocfkGrJYKD5dOnGDXNAD4\nOSZhb1u/3vVrWCzuuQ4AwChK2NuOHnVtCpact6SPHXNPHgCAMZSwt1VUuOc65eXuuQ4AwBhK2Nui\notxzneho91wHAGAMJext/fs7N1a5wmqV+vVzTx4AgDHsjvY2dkcDAL7CJOxtsbHOs6AtltY93mKR\nUlMpYAAIAEzCJnBiFgBATMJmDBzofDOGiIgWPazaYlHV8uUUMAAECErYlLlzpaef1oXQUNVf62ct\nFjkiIrT9Rz9SyrZtqnH1dcYAAJ9ACRtUPmmSUqxWVSUlOTdbWa2X/4DV6vx6erose/bo3rfe0vXX\nX6/JkyertrbWTGgAgNuwJmxQRkaG/v73v+ull16SysqcR1EeO+Y8iCM62vkypBkzLtuEdeHCBY0e\nPVrdu3fXCy+8IEtrN3gBAIyjhA0pLy9X7969dfDgQd18880temxlZaUSEhI0YsQIPfXUUx5KCADw\nNG5HG7Jq1SqlpaW1uIAlqX379srOztbmzZuVlZXlgXQAAG8IMR0gGJWXl+vXv/61Dh482Opr2Gw2\n5eXlafDgwbLZbJoyZYobEwIAvIESNsCVKbixHj16KCcnR3fffbc6d+6spKQkNyUEAHgDa8Je5spa\n8NUUFBQoPT1db7zxhu644w63XBMA4HmsCXuZu6bgxgYNGqT//u//Vlpamj7++GO3XRcA4FlMwl7k\niSm4sQ0bNmjJkiUqKCjQjTfe6PbrAwDcizVhL1q1apXGjBnjkQKWpOnTp6u0tFRJSUnat2+fYmJi\nPPI8AAD3YBL2krNnz6pXr15699131bNnT48+1/z581VQUKCdO3cqMjLSo88FAGg9SthLMjMzdeLE\nCf32t7/1+HPV19frgQceUGlpqbZt26bQ0FCPPycAoOUoYS/w5hTc4OLFi0pPT1dMTIzWr1+vNm3Y\ngwcAvoa/zF7QsBbsrQKWpNDQUG3atEklJSWaP3+++L8WAPgeJmEPMzEFN1ZeXq4hQ4Zo+vTpevzx\nx73+/ACAq2N3tIeZmIIbi46OVl5engYNGiSbzaaZM2cayQEA+DYmYQ8yPQU39sknnyg+Pl4vvPCC\nRo8ebTQLAMCJNWEPWrVqlUaPHm28gCWpb9++2r59u2bNmqX8/HzTcQAAYhL2mIYp+MCBA+rVq5fp\nOJfs3LlT06ZN065du9SvXz/TcQAgqDEJe0jDFOxLBSxJI0aMUFZWllJTU3X8+HHTcQAgqLExywPO\nnj2rX/3qVzpw4IDpKFc0adIklZWVKTExUfn5+YqNjTUdCQCCEpOwB2RlZfnkFNzYI488ookTJyo1\nNVXnzp0zHQcAghJrwm7mq2vBV+JwODRnzhyVlJQoOztbYWFhpiMBQFBhEnYzf5iCG1gsFj3//POK\niorS9OnTVVdXZzoSAAQVJmE38qcpuLGamhqlpKTo1ltv1Zo1a2SxWExHAoCgwCTsRv40BTcWHh6u\nrVu3qqCgQCtWrDAdBwCCBpOwm/jrFNzYyZMnNXjwYM2bN09z5swxHQcAAh4vUXKTrKwsjRo1ym8L\nWJK6du2qvLw8DR06VF26dNH48eNNRwKAgMYk7AaBMAU3duTIESUmJmrjxo1KSEgwHQcAAhZrwm6w\nevVqv5+CG/vud7+rTZs2adKkSXr//fdNxwGAgMUk7KKzZ8+qd+/eeueddwKmhBts2bJFDz/8sPbu\n3RtwvxsA+ALWhF20evVqjRw5MiBLaty4cTpz5oySkpKUn5+v6667znQkAAgoTMIuCOQpuLGnnnpK\nr732mnbv3q1OnTqZjgMAAYM1YRcE8hTc2MKFCzV06FClpaWpurradBwACBhMwq0ULFNwg/r6ek2d\nOlU1NTV67bXXFBLCSgYAuIpJuJVWr16t1NTUoChgSWrTpo1efvllVVVVac6cOeL/bgDgOibhVmh4\nXfA777yj3r17m47jVZWVlUpISNCIESP01FNPmY4DAH6NSbgVGtaCg62AJal9+/bKzs7W5s2blZWV\nZToOAPg1FvZaqKKiQmvWrNH+/ftNRzHGZrMpLy9PgwcPls1m05QpU0xHAgC/RAm3UMNacDBOwY31\n6NFDubm5SkhIUExMjJKTk01HAgC/w5pwC1RUVKhXr17av39/0Jdwg/379ystLU07duzQHXfcYToO\nAPgV1oRbgCn42374wx9q/fr1SktL00cffWQ6DgD4FSbhZmIKbtqGDRu0ZMkS5efnq1u3bqbjAIBf\nYE24mVavXq2UlBQK+CqmT5+u0tJSJSUlad++fercubPpSADg85iEm6FhCi4oKFCfPn1Mx/Fpjz/+\nuPbt26ddu3YpMjLSdBwA8GmUcDMsX75cRUVF2rBhg+koPs/hcGjmzJkqLS3Vtm3bFBoaajoSAPgs\nSvgamIJb7uLFi0pPT1d0dLRefvlltWnD/j8AuBL+Ol7DmjVrlJKSQgG3QGhoqDZt2qRPP/1U8+fP\n55xpALgKJuEmMAW7pry8XEOGDNH06dP1+OOPm44DAD6H3dFNYAp2TXR0tPLy8jRo0CDZbDbNnDnT\ndCQA8ClMwlfBFOw+n3zyieLj47Vu3TqNGTPGdBwA8BmsCV8FU7D79O3bV9u3b9fs2bO1b98+03EA\nwGcwCV8BU7Bn7Ny5U9OmTdOuXbvUr18/03EAwDgm4StYs2aNkpOTKWA3GzFihLKyspSSkqLjx4+b\njgMAxrEx6xsqKiqUlZWl/Px801EC0qRJk1RWVqbExETl5+crNjbWdCQAMIZJ+BsapuC+ffuajhKw\nHnnkEU2cOFGpqak6d+6c6TgAYAxrwo188cUX6tmzp/Lz8ylhD3M4HJozZ45KSkqUnZ2tsLAw05EA\nwOuYhBthCvYei8Wi559/XlFRUbrvvvtUV1dnOhIAeB2T8FeYgs2oqalRSkqK/vVf/1W/+tWvZLFY\nTEcCAK9hEv4KU7AZ4eHh2rp1q/bv36/ly5ebjgMAXsUkLKZgX3Dy5EkNHjxY8+bN05w5c0zHAQCv\nCK6XKJWWSuvXS0ePShUVUlSU1L+/Xjp7VklJSRSwQV27dlVeXp6GDh2qLl26aPz48aYjAYDHBcck\nXFgorVwp5eQ4/11Tc+lbjvBwna+p0cXhw9Xh5z+XBg40FBKSdOTIESUmJmrjxo1KSEgwHQcAPCrw\nS3jtWmnePKm6WmrqV7VYJKtVevppae5c7+XDt+zevVsTJkxQbm6uvve975mOAwAeE9gbsxoKuKqq\n6QKWnN+vqnL+/Nq13smHK2p4x6VRo0apqKjIdBwA8JjAnYQLC6X4eGextlREhLRnjzRggNtjofle\nfPFFrVy5UgUFBbruuutMxwEAtwvcSXjlSuct6NaornY+HkY9+OCDmjVrlpKTk3X27FnTcQDA7QJz\nEi4tlXr0uGwDVouFh0snTkg2m/tyocUcDoceffRRffDBB8rNzZXVajUdCQDcJjAn4fXrXb+GxeKe\n68AlFotFq1at0g033KDJkyertrbWdCQAcJvALOGjR12bgiXnLeljx9yTBy5p06aN1q9fr+rqas2Z\nM0eBePMGQHAKzNvRo0dLO3a4fJm3IyNl//73FRcXp65du6pr167f+jw2Nlbt2rVzQ2hcS2VlpRIS\nEjR8+HD9/Oc/Nx0HAFwWmCdmRUW55TLfS0iQ/Wc/08mTJ3Xy5EmdOnVKRUVFOnXq1KWvlZWVqWPH\njlct6caf22w2tW3b1i3ZglH79u2VnZ2tIUOGKDY2Vo899pjpSADgksAs4f79pc2bXbslbbWq05Ah\nio+Pb/LH6uvrdebMmUsl3biwjx07dtnXysvLFRMT02RhN3yMiYlRmzaBuVrgCpvNpry8PA0ePFg2\nm01Tp079+ptXOZZUM2eywQ6ATwrM29E+uju6trZWZWVlVyzsb36tsrJSNputWYUdFRUVdG8B+OGH\nHyohIUEvv/yykjt3vuqxpLJanQexpKRICxZwLCkAnxKYJSxJ48ZJW7de+6SsK7FYpPR05zRtyPnz\n51VaWnrVkm78+YULF5q8Dd748/bt2xv7ndxt//792pKYqP9XV6e2589zLCkAvxO4JRxEJ2ZVVVV9\nq6ivVtht2rS5ZmHHxcUpLi7O91+Tu3atan/6U4WcP9/8x0REUMQAfEbglrB0+dnRzRXAf6QdDocq\nKyubvA3e+GtWq7VZhW1kh3gQ/ScLQOAK7BKWeBelVnI4HDp79myzCrusrExRUVHNKmy37RD38+UG\nAJCCoYQl6dAh58adP/3J+Qe48ZnSDRt3UlOdG3eYjlqs8Q7xaxV2eXm5Onfu3ORGs4bPr7pD3Ec3\n3gFASwVHCTcoK3O+hOXYMam8XIqOlvr1k2bM4I+xlzTeIX6twq6srFRsbOy3yjn1ww91Z06OQi5e\nbH0Qq1Wy26X58933ywFACwXm64Svxmbjj65hISEhuu6665r11oRX2iF+8uRJtfv4Y9cKWOJYUgA+\nIbhKGH4lLCxM3bp1U7du3S7/xrvvSn/9q+tPUF7u+jUAwAUcyQT/46ZjSRUd7Z7rAEArUcLwP/37\nOzdWucJqde4HAACDKGH4nxkzXL7EhQsXdCIhwfUsAOACShj+JzbWeRZ0K8/LdlgsKurVS7cnJmr2\n7Nn67LPP3BwQAJqHEoZ/WrDAeUu5FSxWq2595RUVFRXpuuuu08CBAzVr1ix9+umnbg4JAE2jhOGf\nBg50nm4WEdGyxzUcSzpggGJiYrR8+XIVFRXpxhtv1A9+8AM98MADKikp8UxmAPgGShj+a+7cr4v4\nWremLZarngseHR0tu92uoqIide/eXXfccYdmzJih4uJiD4YHAEoY/m7uXOebMaSnO3dMf/MWtdXq\n/Hp6uvPnmjgXPDo6WpmZmSouLtZNN92kO++8U/fff7+Kioo8/EsACFbBdWwlApubjyWtqKjQ6tWr\ntXr1aqWkpGjx4sXq06eP22MDCF6UMHANFRUVWrNmjbKyspSUlKTFixfrlltuMR0LQADgdjRwDVFR\nUVq8eLFKSkr0ne98R0OHDtXUqVP18ccfm44GwM9RwkAzdezYUYsWLVJJSYluu+02DR06VFOmTNFH\nH31kOhoAP0UJAy3UoUMHLViwQCUlJerfv7/i4+M1adIkffjhh6ajAfAzlDDQSh06dNCTTz6pkpIS\n3X777UpISNDEiRP1l7/8xXQ0AH6CEgZc1L59ez3xxBMqKSnRgAEDNHz4cE2YMEHHeL9iANdACQNu\n0r59e82fP18lJSX6wQ9+oBEjRmj8+PE6evSo6WgAfBQlDLhZZGSk5s2bp5KSEt11111KSkrSPffc\now8++MB0NAA+hhIGPCQyMlL/+Z//qZKSEg0ePFgpKSkaN26cjhw5YjoaAB9BCQMeFhERoZ/+9Kcq\nLi7W0KFDlZqaqrFjx+rw4cOmowEwjBIGvCQiIkKPPfaYSkpKNGzYMI0aNUppaWl67733TEcDYAgl\nDHiZ1WrVo48+quLiYg0fPlxpaWkaPXq0Dh06ZDoaAC+jhAFDrFarHnnkERUXFyspKUljx47VqFGj\nVFhYaDoaAC+hhAHDwsPD9fDDD6u4uFipqakaN26cRo4cqYMHD5qOBsDDKGHAR4SHh+uhhx5ScXGx\nRo0apfHjxyslJUUHDhwwHQ2Ah1DCgI8JCwvT3LlzVVRUpLS0NE2cOFHJycl65513TEcD4GaUMOCj\nwsLCNGfOHBUVFWncuHGaNGmSkpKStH//ftPRALgJJQz4uHbt2unf//3fVVRUpPHjx2vKlCkaMWKE\nCgoKTEcD4CKLw+FwmA4BoPkuXLigDRs26KmnnlLPnj2VkZGhIUOGmI4FoBUoYcBPXbx4Ub/73e+0\nYsUK3XTTTcrIyNDQoUNNxwLQApQw4OcuXryoV155RStWrFD37t2VmZmpH/3oR6ZjAWgGShgIEBcv\nXtT//M//aMWKFbrxxhuVmZmp+Ph407EANIESBgJMbW2tfv/732v58uW6/vrrlZGRoWHDhslisZiO\nBuAbKGEgQNXW1uoPf/iDli9frri4OGVmZiohIYEyBnwIJQwEuNraWm3cuFHLly+XzWZTZmam7r77\nbsoY8AGUMBAk6urq9Oqrr2rZsmXq3LmzMjIyNGLECMoYMIgSBoJMXV2dNm3apGXLlqlTp07KzMxU\nYmIiZQwYQAkDQaqurk6vvfaali9frg4dOigzM1NJSUmUMeBFlDAQ5Orr6/X6669r2bJlioyMVEZG\nhlJSUihjwAsoYQCSnGW8efNmLVu2TFarVRkZGUpNTaWMAQ+ihAFcpr6+Xlu2bNGyZcsUFhamjIwM\njRw5kjIGPIASBnBF9fX12rp1q+x2u0JDQ7V06VKNHj2aMgbciBIG0KT6+npt27ZNdrtdbdq0UUZG\nhsaMGUMZA25ACQNolvr6em3fvl12u12SlJGRobS0NMoYcAElDKBFHA6H3njjDWVmZqq+vl5Lly7V\n2LFj1aZNG9PRAL9DCQNoFYfDoR07dshut+vixYtaunSp0tPTKWOgBShhAC5xOBzKzs6W3W5XTU2N\nli5dqnvuuYcyBpqBEgbgFg6HQzk5OcrMzFRVVZWWLl2q8ePHU8ZAEyhhAG7lcDiUm5sru92uc+fO\nXSrjtm3bmo4G+BxKGIBHOBwO5eXlyW63q6KiQkuWLNGECRMoY6ARShiARzkcDu3cuVOZmZkqLy/X\nkiVLNHHiRMoYECUMwEscDod27dolu92u06dPa8mSJZo0aRJljKBGCQPwKofDobfffluZmZkqLS3V\n4sWLNXnyZIWEhJiOBngdJQzACIfDoT//+c/KzMzUyZMntXjxYk2ZMoUyRlChhAEY5XA4tHv3btnt\ndv3jH//Q4sWLNXXqVMoYQYESBuAzGsr4b3/7mxYtWqRp06YpNDTUdCzAYyhhAD5nz549stvt+r//\n+z8tWrRI9913H2WMgEQJA/BZ+/btk91u16effqpFixZp+vTplDECCiUMwOfl5+fLbreruLhYCxcu\n1P3336927dqZjgW4jBIG4DcKCgpkt9v117/+VQsXLtSMGTMoY/g1TlYH4DcGDRqkN998U3/4wx+0\nZcsW9e7dW+vWrdOFCxdMRwNahRIG4Hfuuusu5ebm6tVXX9XWrVvVq1cvrV27VufPnzcdDWgRShiA\n37rzzjuVk5Oj1157TW+88YZ69eql559/njKG32BNGEDAOHjwoJYtW6YPPvhATz75pGbNmqXw8PDm\nPbi0VFq/Xjp6VKqokKKipP79pZkzJZvNo7kRvChhAAGnsLBQy5Yt0+HDh/XEE0/owQcfvHoZFxZK\nK1dKOTnOf9fUfP09q1VyOKSUFGnBAmngQM+HR1ChhAEErPfee092u13vvffepTK2Wq1f/8DatdK8\neVJ1tbNsr8ZicRby009Lc+d6PjiCBmvCAALW97//fW3fvl1vvPGG3n77bfXs2VNZWVmqrq7+uoCr\nqpouYMn5/aoq58+vXeud8AgKTMIAgsbhw4e1bNky1ezbp+1ffKHQixdbfpGICGnPHmnAAPcHRNCh\nhAEEnbMJCer45z+37lagxSKlp0ubN7s7FoIQJQwguJSWSj16XL4Bq6XCw6UTJ9g1DZexJgwguKxf\n7/o1LBb3XAdBjxIGEFyOHnVtCpak6mpVFxaqvr7ePZkQtEJMBwAAr6qocMtl9mzdqtFhYbLZbIqL\ni1PXrl0VFxd32eeNP8bExMhisbjluRE4KGEAwSUqyi2XSZ40SV/+5jcqKyvTyZMnderUqUsfjx8/\nrnfffffSv0+dOqXKykrFxsZetaQbF3inTp0o7CBBCQMILv37O3c2u3JL2mqV+vVTu3btdMMNN+iG\nG2645kPOnz+v0tLSbxV2cXGxCgoKLvt6TU1Nk1N1448dO3aksJvLB48mZXc0gODiB7ujq6urr1jY\nV/pYW1vbrNvhcXFxat++fXAWtg8fTUoJAwg+48ZJW7de+6SsK/Gx1wl/+eWXl255f7Okv/k1SU3e\nBm/8MTIy0vBv5iY+fjQpJQwg+BQWSvHxzqMoW8qPT8yqrKxs1nR96tQphYSENOt2eFxc3OXncfuS\nxkeTNldEhFeLmBIGEJxa8Qe62mLRvrFjlbhliweDmedwOHTu3LlmF3Z4eHizCzssLMw7v4Sf/EeL\nEgYQvFp4q7J80SJ9d906LV++XNOnT/deTh/mcDh09uzZJm+DN3wsLS1VZGRks9avY2Nj1a5du9YH\n85MlB0oYQHA7dMi5aedPf3L+8a2u/vp7DZt2UlOdm3YGDNBHH32kYcOG6aWXXtLIkSPN5fZD9fX1\nKi8vb9Z0XVZWpo4dOzZruo6NjVVISKMX+/jB5rsGlDAASFJZmfPlK8eOSeXlUnS01K+fNGPGt/4Q\nv/vuuxo1apS2bdumH/7wh0biBrr6+nqdOXOmWYV95swZderU6VIxzzpzRvccO6Z2dXWtD2C1Sna7\nNH+++36pK6CEAaAVcnNzdf/99+vtt9/WrbfeajpOUKurq9Pp06cvlXIvu10379/v+oXvu0/asMH1\n6zSBs6MBoBWSk5P17LPPKjk5WSdOnDAdJ6i1bdtWcXFx+rd/+zclJibq5pgY91y4vNw912kCJ2YB\nQCtNnTpVZWVlSkxMVH5+vrp06WI6EiS3HU2q6Gj3XKcJTMIA4ILHHntM6enpGjlypCorK03HgeQ8\nijI83LVrfHU0qaexJgwALnI4HJo9e7b+8Y9/aPv27a69tAau86Pd0UzCAOAii8WidevWKSwsTDNn\nzuR9hk2LjXWeBd3ac7ItFufL0rzwpg6UMAC4QUhIiDZu3KgTJ07oZz/7mbjJaNiCBc5byq1htTof\n7wWUMAC4idVq1fbt2/XWW2/pF7/4hek4wW3gQOcZ0BERLXtcw9nRXjobnN3RAOBG0dHRysvL06BB\ngxQbG6tZs2aZjhS8vnoThgs/+YlCamubnjoNvYsSkzAAuNn111+vvLw8LV68WNu2bTMdJ6iVjR+v\nlIgI1SQnOzdbffMWtdXq/Hp6uvNNG7xYwBK7owHAYw4dOqTU1FRt3rxZQ4YMMR0nKD355JP64osv\n9Pzzz7foaFJvoYQBwIN27dqlqVOnaufOnerfv7/pOEGlrKxMt9xyi44cOaJu3bqZjnNF3I4GAA8a\nPny4Vq9erdTUVH322Wem4wSVZ555RhMnTvTZApbYmAUAHjdx4kSVlZUpKSlJ+fn5io2NNR0p4JWV\nlenFF1/UkSNHTEdpEpMwAHjBww8/rIkTJyo1NVXnzp0zHSfgPfPMM5owYYJPT8ESa8IA4DUOh0Nz\n5sxRSUmJsrOzFRYWZjpSQDp9+rT69OmjI0eOqHv37qbjNIkSBgAvqqur07333qvQ0FD9/ve/V9u2\nbU1HCjgLFizQ2bNntXbtWtNRrokSBgAvq6mpUXJysm677TatWbNGltaecYxvOX36tPr27avDhw/7\n/BQssSYMAF4XHh6ubdu2KT8/XytWrDAdJ6A0rAX7QwFL7I4GACOioqKUm5t76XjLH//4x6Yj+b3T\np0/rhRde0OHDh01HaTZKGAAM6dq1q958800NGTJENptN48aNMx3Jr/nbFCyxJgwAxh0+fFhJSUna\ntGmT4uPjTcfxS/62FtyANWEAMOz222/Xq6++qgkTJvj84RK+yh+nYIlJGAB8xuuvv65HH31Ue/fu\nVc+ePU3H8Rv+OgVLrAkDgM8YP368Tp8+rcTERBUUFKhr166mI/mFZ555Rvfee6/fFbDEJAwAPsdu\nt2vr1q3avXu3oqKiTMfxaQ1T8Pvvv68ePXqYjtNilDAA+BiHw6GHH35Y//u//6ucnByFh4ebjuSz\nFi5cqM8//1z/9V//ZTpKq1DCAOCD6urqNHnyZNXV1WnTpk0cb3kF/j4FS+yOBgCf1LZtW/3ud79T\nRUWF/uM//kPMS9/27LPP6t577/XbApaYhAHAp507d07x8fEaNWqU7Ha76Tg+IxCmYInd0QDg0zp0\n6KCcnBwNGjRIcXFxeuihh0xH8gmBMAVLlDAA+LzY2NhLx1t26dJFEyZMMB3JqNOnT2vdunV6//33\nTUdxGSUMAH7gpptuUnZ2tkaMGKGYmBgNHz7cdCRjAmUKllgTBgC/snfvXt1zzz3KycnRgAEDTMfx\nukBZC27A7mgA8CNDhw7Viy++qNGjR6uoqMh0HK979tlnNX78+IAoYInb0QDgd8aOHavTp08rKSlJ\n+fn5uv76601H8oozZ84EzFpwA0oYAPzQ7NmzVVpaquTkZO3du1edOnUyHcnjAm0KllgTBgC/5XA4\n9Nhjj+nw4cPKy8uT1Wo1Hcljzpw5oz59+gTMWnADShgA/Fh9fb2mTZumqqoqvf766woJCcwbnIsW\nLbr00qRAQgkDgJ+7cOGCRo8erW7duunFF1+UxWIxHcmtAnUKltgdDQB+r127dtq8ebOOHj2qRYsW\nmY7jdoG4FtyASRgAAkRZWZlZZFroAAAGPUlEQVQGDx6shx56SI8++qjpOG4RyFOwxO5oAAgYNptN\nb775pgYPHiybzaYpU6aYjuSyZ599Vvfcc09AFrDEJAwAAecvf/mL7r77bm3YsEFJSUmm47RawxT8\n3nvv6V/+5V9Mx/EI1oQBIMDcdttt2rJli6ZNm6aDBw+ajtNqDVNwoBawxCQMAAFrx44dmj17tnbv\n3q1bbrnFdJwWCYYpWGISBoCANWrUKP3iF79QcnKy/v73v5uO0yLPPfdcwE/BEpMwAAS8X/7yl9qw\nYYP27t2rmJgY03GuKVimYIkSBoCA53A4NG/ePB04cEA7d+5URESE6UhNWrx4sUpLS/XCCy+YjuJx\nlDAABIH6+nrdf//9Ki8v1x//+EeFhoaajnRFwTQFS6wJA0BQaNOmjX7729+qvr5eDz74oHx1/gqW\nteAGTMIAEES+/PJLDR8+XEOGDNEvf/lL03EuE2xTsMQkDABBJTIyUjt27NCOHTv0zDPPmI5zmeee\ne07jxo0LmgKWOLYSAIJO586dlZeXd+l4y+nTp5uOpDNnzmjt2rU6dOiQ6SheRQkDQBDq1q2bcnNz\nNWzYMHXp0kWpqalG8zRMwTfddJPRHN7GmjAABLEDBw5ozJgx2rZtm+666y4jGT7//HP17t1bhw4d\nCroSZk0YAILYnXfeqZdfflljx47Vhx9+aCRDsE7BEpMwAEDSK6+8ooULFyo/P1/du3f32vMG8xQs\nsSYMAJA0bdo0lZaWKikpSfv27VOXLl288rzBPAVLTMIAgEaeeOIJ7dmzR2+99ZYiIyM9+lzBPgVL\nlDAAoBGHw6FZs2bpn//8p7Zv3+7R4y2XLFmif/7zn/rNb37jsefwdZQwAOAytbW1GjdunDp27KgN\nGzaoTRv37+FtmIILCwt18803u/36/oLd0QCAy4SEhGjjxo06fvy45s2b55Fzpp977jmlp6cHdQFL\nTMIAgKsoLy/X0KFDNW3aND3xxBNuuy5T8NfYHQ0AuKLo6Gjl5uZeOt7ygQcecMt1mYK/xiQMAGjS\nJ598ovj4eK1bt05jxoxx6Vqff/65+vTpo4MHD1LCYk0YAHANffv21fbt2zVr1izt27fPpWutWrVK\nY8eOpYC/wiQMAGiWN998U9OmTdNbb72lfv36tfjxTMHfxiQMAGiWxMREZWVlKSUlRcePH2/x45mC\nv42NWQCAZps8ebLKysqUlJSk/Px82Wy2Zj3u888/169//WsVFhZ6OKF/oYQBAC3yk5/8RKWlpUpN\nTdXbb7+tDh06fP3N0lJp/Xrp6FGpokKKipL699cLp04xBV8Ba8IAgBZzOBz68Y9/rM8++0zZ2dlq\n98EH0sqVUk6O8wdqar7+2fBwna+pUW1iotqvWCENHGgote+hhAEArVJbW6t7771XI//2N8366CNZ\nqqulpirFYpGsVunpp6W5c70X1IexMQsA0CohISHaNGyYph0+LEtVVdMFLDm/X1UlzZsnrV3rnZA+\njkkYANA6hYVSfLyzWFsqIkLas0caMMDtsfwJkzAAoHVWrpSqq1v32Opq5+ODHJMwAKDlSkulHj0u\n24DVYuHh0okTUjNf5hSImIQBAC23fr3r17BY3HMdP0YJAwBa7uhR16ZgyXlL+tgx9+TxU5QwAKDl\nKircc53ycvdcx09RwgCAlouKcs91oqPdcx0/RQkDAFquf3/nxipXWK1SK96NKZCwOxoA0HLsjnYL\nJmEAQMvFxkopKc4dzq1hsUipqUFdwBKTMACgtTgxy2VMwgCA1hk40PlmDBERLXtcRITzcUFewBLv\nJwwAcEXDuyHNm+d83S/votQi3I4GALju0CHnWdB/+pOzbBufKW21Oss5NVVasIAJuBFKGADgPmVl\nzqMojx1zHsQRHe18GdKMGUG/CetKKGEAAAxhYxYAAIZQwgAAGEIJAwBgCCUMAIAhlDAAAIZQwgAA\nGEIJAwBgCCUMAIAhlDAAAIZQwgAAGEIJAwBgCCUMAIAhlDAAAIZQwgAAGEIJAwBgCCUMAIAhlDAA\nAIZQwgAAGEIJAwBgCCUMAIAhlDAAAIZQwgAAGEIJAwBgCCUMAIAhlDAAAIZQwgAAGEIJAwBgCCUM\nAIAhlDAAAIZQwgAAGEIJAwBgCCUMAIAh/x96ZNAWrLsMwgAAAABJRU5ErkJggg==\n",
      "text/plain": [
       "<matplotlib.figure.Figure at 0xa1231e590>"
      ]
     },
     "metadata": {},
     "output_type": "display_data"
    }
   ],
   "source": [
    "import networkx as nx\n",
    "import numpy as np\n",
    "\n",
    "%matplotlib inline\n",
    "\n",
    "M = [\"0,1,2\",\n",
    "\"1,0,2\",\n",
    "\"2,0,1,3\",\n",
    "\"3,2,4,5\",\n",
    "\"4,3,5\",\n",
    "\"5,3,4\"\n",
    "    ]\n",
    "G=nx.parse_adjlist(M, nodetype=int, delimiter=\",\")\n",
    "nx.draw(G)\n",
    "\n",
    "#G = nx.karate_club_graph()\n",
    "#nx.draw(G)"
   ]
  },
  {
   "cell_type": "code",
<<<<<<< HEAD
   "execution_count": 7,
   "metadata": {},
=======
   "execution_count": 13,
   "metadata": {
    "collapsed": false
   },
>>>>>>> 0d2d18b4ea0a3eb918a8ca61d8d38107a943de76
   "outputs": [
    {
     "data": {
      "text/plain": [
       "7"
      ]
     },
     "execution_count": 13,
     "metadata": {},
     "output_type": "execute_result"
    }
   ],
   "source": [
    "for node in [0,1,2]:\n",
    "    G.nodes[node]['community'] = 0\n",
    "for node in [3,4,5]:\n",
    "    G.nodes[node]['community'] = 1\n",
    "G.degree[2]\n",
    "len(G.edges)"
   ]
  },
  {
   "cell_type": "code",
<<<<<<< HEAD
   "execution_count": 8,
   "metadata": {
    "collapsed": true
   },
   "outputs": [],
   "source": [
    "# The community label of a node can be accessed by G[node_id]['community']\n",
    "# The degree of a node: G.degree[node_id]\n",
    "# The neighbors of a node: G.neighbors(node_id)\n",
    "# Number of edges between 2 nodes: G.number_of_edges(node_1, node_2)\n",
    "def compute_modularity(G):\n",
    "    m = len(G.edges)\n",
    "    Q = 0\n",
    "    for node_i in G.nodes:\n",
    "        for node_j in G.nodes:\n",
    "            if G.nodes[node_i]['community'] == G.nodes[node_j]['community']:\n",
    "                Q += G.number_of_edges(node_i, node_j) - G.degree[node_i]*G.degree[node_j]/(2*m)\n",
    "    return Q/(2*m)"
   ]
  },
  {
   "cell_type": "code",
   "execution_count": 9,
   "metadata": {},
=======
   "execution_count": 23,
   "metadata": {
    "collapsed": false
   },
>>>>>>> 0d2d18b4ea0a3eb918a8ca61d8d38107a943de76
   "outputs": [
    {
     "data": {
      "text/plain": [
       "0.5306122448979591"
      ]
     },
     "execution_count": 23,
     "metadata": {},
     "output_type": "execute_result"
    }
   ],
   "source": [
    "# The community label of a node can be accessed by G[node_id]['community']\n",
    "# The degree of a node: G.degree[node_id]\n",
    "# The neighbors of a node: G.neighbors(node_id)\n",
    "# Number of edges between 2 nodes: G.number_of_edges(node_1, node_2)\n",
    "def compute_modularity(G):\n",
    "    m = len(G.edges)\n",
    "    Q = 0\n",
    "    for node_i in G.nodes:\n",
    "        for node_j in G.nodes:\n",
    "            if node_j != node_i and G.nodes[node_i]['community'] == G.nodes[node_j]['community']:\n",
    "#                 print(node_i, node_j)\n",
    "                Q += G.number_of_edges(node_i, node_j) - G.degree[node_i]*G.degree[node_j]/(2*m)\n",
    "    return Q/(2*m)\n",
    "\n",
    "compute_modularity(G)"
   ]
  },
  {
   "cell_type": "markdown",
   "metadata": {
    "collapsed": true
   },
   "source": [
    "## Pen and Paper"
   ]
  },
  {
   "cell_type": "markdown",
   "metadata": {},
   "source": [
    "Suppose that you have an undirected social graph G = (U, V), where U - set of nodes, V - set of edges.\n",
    "\n",
    "<img src=\"graph.png\" width=\"400\">"
   ]
  },
  {
   "cell_type": "markdown",
   "metadata": {},
   "source": [
    "#### Question 2\n",
    "\n",
    "Compute betweenness for the graph G and output the communities for the following betweenness threshold : 4, 6."
   ]
  },
  {
   "cell_type": "markdown",
   "metadata": {},
   "source": [
    "#### SOLUTION\n",
    "\n",
    "Following the Girvan- Newman algorithm, first we visit each node X once and compute the number of shortest paths from X to each of the other nodes. To do so, we run BFS starting at node X.\n",
    "\n",
    "##### Compute Betweenness - Path Counting:\n",
    "\n",
    "Let’s assume we start from the node E. Label each node by the number of shortest paths that reach it from the root ($N_{shortest}$). So, we label the root with 1. We continue top-down. D and F have one parent so they are labeled by the score of their parent. Similarly for B, A and C. However, G has two parents, thus its label is equal to 2. Finally, we need to calculate for each edge e the fraction of shortest paths from X to Y that go through e, e.g., from E to all other nodes.\n",
    "\n",
    "![alt text](path.png \"Title\")\n",
    "\n",
    "#### Compute Betweenness - Edge Flow:\n",
    "\n",
    "1. The flow that arrives at every node is 1.\n",
    "2. In addition each node receives the flow of its children. The flow of its children is distributed over the parents, proportionally to the number of paths that are leading to those parents (previous stage). For example: B: 1 + (1+1) = 3. F = 1 + (½) = 1.5\n",
    "\n",
    "![alt text](flow.png \"Title\")\n",
    "\n",
    "To complete the calculation we need to apply the procedure to every node as the root and sum the contributions. Finally, we need to divide the credit for each edge by 2 since every shortest path is discovered twice, once for each of its endpoints. The final betweenness scores for the edges are the following. \n",
    "\n",
    "![alt text](flow2.png \"Title\")\n",
    "\n",
    "Thus, we obtain the following clusters for the betweenness of 4 and 6.\n",
    "\n",
    "![alt text](b4.png \"Title\")\n",
    "\n",
    "![alt text](b6.png \"Title\")\n"
   ]
  }
 ],
 "metadata": {
  "kernelspec": {
<<<<<<< HEAD
   "display_name": "Python [default]",
=======
   "display_name": "Python 2",
>>>>>>> 0d2d18b4ea0a3eb918a8ca61d8d38107a943de76
   "language": "python",
   "name": "python2"
  },
  "language_info": {
   "codemirror_mode": {
    "name": "ipython",
    "version": 2
   },
   "file_extension": ".py",
   "mimetype": "text/x-python",
   "name": "python",
   "nbconvert_exporter": "python",
<<<<<<< HEAD
   "pygments_lexer": "ipython3",
   "version": "3.6.3"
=======
   "pygments_lexer": "ipython2",
   "version": "2.7.13"
>>>>>>> 0d2d18b4ea0a3eb918a8ca61d8d38107a943de76
  }
 },
 "nbformat": 4,
 "nbformat_minor": 2
}
