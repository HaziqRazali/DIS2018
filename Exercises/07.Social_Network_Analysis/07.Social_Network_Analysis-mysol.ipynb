{
 "cells": [
  {
   "cell_type": "markdown",
   "metadata": {},
   "source": [
    "# Exercise 7\n",
    "\n",
    "## Question 1\n",
    "\n",
    "Last week, we have implemented k-means. For this week, we will implement its variant called k-medoids."
   ]
  },
  {
   "cell_type": "code",
   "execution_count": 1,
   "metadata": {
    "collapsed": true
   },
   "outputs": [],
   "source": [
    "import pandas as pd\n",
    "import numpy as np\n",
    "import matplotlib.pyplot as plt\n",
    "import random\n",
    "from sklearn import preprocessing\n",
    "from sklearn.datasets import make_blobs\n",
    "\n",
    "np.random.seed(42)\n",
    "\n",
    "%matplotlib inline\n",
    "\n",
    "def euclidean_distance(point, centroid):\n",
    "    return np.sqrt(np.sum((point - centroid)**2))"
   ]
  },
  {
   "cell_type": "markdown",
   "metadata": {},
   "source": [
    "### TODO\n",
    "\n",
    "Complete the method `choose_centroids` below. Specifically:  \n",
    "\n",
    "*  `choose_centroids(X, labels, num_clusters)` choose a new centroid from the data points in a cluster. The new centroid is the data point that has the lowest sum of distances to other points in the cluster (recall that assignement is represented by the `labels` array).\n"
   ]
  },
  {
   "cell_type": "code",
   "execution_count": 7,
   "metadata": {},
   "outputs": [],
   "source": [
    "\"\"\"\n",
    "Calculate the centroid or mean of all objects in each cluster.\n",
    "\"\"\"\n",
    "def choose_centroids(X, labels, num_clusters):\n",
    "    \n",
    "    centroids = []\n",
    "    \n",
    "    # for each label\n",
    "    for i in range(num_clusters):\n",
    "        \n",
    "        # find points with that label\n",
    "        subset = X[labels == i]\n",
    "        subset_size = np.shape(subset)[0]\n",
    "                                 \n",
    "        # set current minimum distance to infinity\n",
    "        min_dist = np.inf\n",
    "        centroid = -1\n",
    "        \n",
    "        # for each point with that label\n",
    "        for j in range(subset_size):\n",
    "            \n",
    "            # initialize sum of distances from point j to all other points in the subset\n",
    "            dist = 0\n",
    "            \n",
    "            # compute its sum of distances to all other points in the subset\n",
    "            for k in range(subset_size):\n",
    "                if(j != k):\n",
    "                    dist = dist + euclidean_distance(subset[j],subset[k])\n",
    "            \n",
    "            # update centroid and min_dist if a better candidate is found\n",
    "            if(dist < min_dist):\n",
    "                centroid = j\n",
    "                min_dist = dist\n",
    "                    \n",
    "        centroids.append(subset[centroid])\n",
    "        \n",
    "    print(np.shape(centroids))\n",
    "    return np.array(centroids)"
   ]
  },
  {
   "cell_type": "code",
   "execution_count": 8,
   "metadata": {
    "collapsed": true
   },
   "outputs": [],
   "source": [
    "\"\"\"\n",
    "Generate random 2D data points\n",
    "\"\"\"\n",
    "def gen_data(num_samples,num_blobs=3,random_state=42):\n",
    "    X, y = make_blobs(n_samples=num_samples, random_state=random_state, centers=num_blobs, cluster_std=5.0)\n",
    "    return X,y\n",
    "\n",
    "\"\"\"\n",
    "Compute euclidean distance between a point and a centroid.\n",
    "point,centroid: 1D Numpy array containing coordinates [x,y]\n",
    "\"\"\"\n",
    "\n",
    "def init_centroids(X,num_clusters):\n",
    "    rand_indices = np.random.choice(X.shape[0], num_clusters,replace=False)\n",
    "    return X[rand_indices,:]\n",
    "\n",
    "\"\"\"\n",
    "Assign objects to their closest cluster center according to the Euclidean distance function.\n",
    "\"\"\"\n",
    "def assign_points(X, centroids):\n",
    "    labels = []\n",
    "    for point in range(0, X.shape[0]):\n",
    "        distance = {}\n",
    "        for centroid in range(0, centroids.shape[0]):\n",
    "            distance[centroid] = euclidean_distance(X[point], centroids[centroid])\n",
    "        \n",
    "        index_of_minimum = min(distance, key=distance.get)\n",
    "        labels.append(index_of_minimum)\n",
    "    return np.array(labels)\n",
    "    \n",
    "def k_medoids(X, num_clusters):\n",
    "\n",
    "    # Initialize centroids to randomly chosen data points\n",
    "    centroids  = init_centroids(X,num_clusters)\n",
    "\n",
    "    # Bookkeeping\n",
    "    num_iter  = 0\n",
    "    positions = [centroids]\n",
    "    \n",
    "    while True:\n",
    "        \n",
    "        labels = assign_points(X, centroids)\n",
    "        \n",
    "        new_centroids = choose_centroids(X, labels, num_clusters)\n",
    "\n",
    "        num_iter += 1\n",
    "        \n",
    "        # Termination criterion\n",
    "        if np.all(centroids == new_centroids):\n",
    "            break\n",
    "            \n",
    "        centroids = new_centroids\n",
    "        positions.append(centroids)\n",
    "        \n",
    "    return [labels, centroids, num_iter, positions]"
   ]
  },
  {
   "cell_type": "code",
   "execution_count": 9,
   "metadata": {
    "scrolled": false
   },
   "outputs": [
    {
     "name": "stdout",
     "output_type": "stream",
     "text": [
      "(3, 2)\n",
      "(3, 2)\n",
      "(3, 2)\n",
      "(3, 2)\n",
      "Convergence in 4 iteration(s)\n"
     ]
    }
   ],
   "source": [
    "num_samples = 150\n",
    "num_blobs   = 3\n",
    "X,y = gen_data(num_samples,num_blobs=num_blobs)\n",
    "\n",
    "total_iterations = 10\n",
    "num_clusters     = 3\n",
    "[cluster_label, new_centroids, num_iter, positions] = k_medoids(X,num_clusters)\n",
    "print(\"Convergence in %i iteration(s)\" % num_iter)"
   ]
  },
  {
   "cell_type": "markdown",
   "metadata": {},
   "source": [
    "### Plotting\n",
    "\n",
    "Cluster centroids are displayed as red circles. Their positions across the various steps of the optimization are displayed as red lines. Data points are colored according to their cluster assignement."
   ]
  },
  {
   "cell_type": "code",
   "execution_count": 10,
   "metadata": {},
   "outputs": [
    {
     "data": {
      "text/plain": [
       "[<matplotlib.lines.Line2D at 0x2115e2c64a8>]"
      ]
     },
     "execution_count": 10,
     "metadata": {},
     "output_type": "execute_result"
    },
    {
     "data": {
      "image/png": "[encoded data removed]",
      "text/plain": [
       "<matplotlib.figure.Figure at 0x2115df4d4e0>"
      ]
     },
     "metadata": {},
     "output_type": "display_data"
    }
   ],
   "source": [
    "_ = plt.scatter(X[:, 0], X[:, 1], c=cluster_label)\n",
    "_ = plt.scatter(new_centroids[:,0], new_centroids[:,1], marker='o', s=5, c='r', edgecolors='w', linewidths=2)\n",
    "\n",
    "plt.plot(np.array(positions)[:,0,0],np.array(positions)[:,0,1],'r',linewidth=3)\n",
    "plt.plot(np.array(positions)[:,1,0],np.array(positions)[:,1,1],'r',linewidth=3)\n",
    "plt.plot(np.array(positions)[:,2,0],np.array(positions)[:,2,1],'r',linewidth=3)"
   ]
  },
  {
   "cell_type": "markdown",
   "metadata": {},
   "source": [
    "## Question 2"
   ]
  },
  {
   "cell_type": "markdown",
   "metadata": {},
   "source": [
    "Complete the following method to compute the modularity measure of a graph."
   ]
  },
  {
   "cell_type": "code",
   "execution_count": 11,
   "metadata": {},
   "outputs": [
    {
     "data": {
      "image/png": "[encoded data removed]",
      "text/plain": [
       "<matplotlib.figure.Figure at 0x2115df4cd30>"
      ]
     },
     "metadata": {},
     "output_type": "display_data"
    }
   ],
   "source": [
    "import networkx as nx\n",
    "import numpy as np\n",
    "\n",
    "M = [\"0,1,2\",\n",
    "\"1,0,2\",\n",
    "\"2,0,1,3\",\n",
    "\"3,2,4,5\",\n",
    "\"4,3,5\",\n",
    "\"5,3,4\"\n",
    "    ]\n",
    "G=nx.parse_adjlist(M, nodetype=int, delimiter=\",\")\n",
    "nx.draw(G)\n",
    "\n",
    "#G = nx.karate_club_graph()\n",
    "#nx.draw(G)"
   ]
  },
  {
   "cell_type": "code",
   "execution_count": 12,
   "metadata": {},
   "outputs": [
    {
     "data": {
      "text/plain": [
       "7"
      ]
     },
     "execution_count": 12,
     "metadata": {},
     "output_type": "execute_result"
    }
   ],
   "source": [
    "for node in [0,1,2]:\n",
    "    G.nodes[node]['community'] = 0\n",
    "for node in [3,4,5]:\n",
    "    G.nodes[node]['community'] = 1\n",
    "G.degree[2]\n",
    "len(G.edges)"
   ]
  },
  {
   "cell_type": "code",
   "execution_count": 13,
   "metadata": {},
   "outputs": [
    {
     "name": "stdout",
     "output_type": "stream",
     "text": [
      "Solving environment: ...working... done\n",
      "\n",
      "## Package Plan ##\n",
      "\n",
      "  environment location: C:\\Users\\ha_ha\\Anaconda3\n",
      "\n",
      "  added / updated specs: \n",
      "    - networkx\n",
      "\n",
      "\n",
      "The following packages will be downloaded:\n",
      "\n",
      "    package                    |            build\n",
      "    ---------------------------|-----------------\n",
      "    networkx-2.1               |           py36_0         1.8 MB\n",
      "    certifi-2018.4.16          |           py36_0         143 KB\n",
      "    ------------------------------------------------------------\n",
      "                                           Total:         2.0 MB\n",
      "\n",
      "The following packages will be UPDATED:\n",
      "\n",
      "    ca-certificates: 2017.08.26-h94faf87_0 --> 2018.03.07-0     \n",
      "    certifi:         2018.1.18-py36_0      --> 2018.4.16-py36_0 \n",
      "    networkx:        2.0-py36hff991e3_0    --> 2.1-py36_0       \n",
      "    openssl:         1.0.2n-h74b6da3_0     --> 1.0.2o-h8ea7d77_0\n",
      "\n",
      "\n",
      "Downloading and Extracting Packages\n",
      "Preparing transaction: ...working... done\n",
      "Verifying transaction: ...working... done\n",
      "Executing transaction: ...working... done\n"
     ]
    },
    {
     "name": "stderr",
     "output_type": "stream",
     "text": [
      "\n",
      "\n",
      "==> WARNING: A newer version of conda exists. <==\n",
      "  current version: 4.4.10\n",
      "  latest version: 4.5.1\n",
      "\n",
      "Please update conda by running\n",
      "\n",
      "    $ conda update -n base conda\n",
      "\n",
      "\n",
      "\n",
      "networkx 2.1:            |   0% \n",
      "networkx 2.1: #          |  11% \n",
      "networkx 2.1: ###1       |  32% \n",
      "networkx 2.1: #####2     |  52% \n",
      "networkx 2.1: #######4   |  74% \n",
      "networkx 2.1: ########8  |  88% \n",
      "networkx 2.1: #########7 |  98% \n",
      "networkx 2.1: ########## | 100% \n",
      "\n",
      "certifi 2018.4.16:            |   0% \n",
      "certifi 2018.4.16: #######5   |  75% \n",
      "certifi 2018.4.16: ########8  |  88% \n",
      "certifi 2018.4.16: ########## | 100% \n"
     ]
    }
   ],
   "source": [
    "## If you haven't installed networkx package, you can run the following command (note the exclamation mark)\n",
    "!conda install networkx --yes "
   ]
  },
  {
   "cell_type": "code",
   "execution_count": null,
   "metadata": {
    "collapsed": true
   },
   "outputs": [],
   "source": [
    "# The community label of a node can be accessed by G[node_id]['community']\n",
    "# The degree of a node: G.degree[node_id]\n",
    "# The neighbors of a node: G.neighbors(node_id)\n",
    "# Number of edges between 2 nodes: G.number_of_edges(node_1, node_2)\n",
    "def compute_modularity(G):\n",
    "    m = len(G.edges)\n",
    "    Q = 0\n",
    "    #TODO\n",
    "    return Q/(2*m)"
   ]
  },
  {
   "cell_type": "code",
   "execution_count": null,
   "metadata": {
    "collapsed": true
   },
   "outputs": [],
   "source": [
    "compute_modularity(G)"
   ]
  },
  {
   "cell_type": "markdown",
   "metadata": {
    "collapsed": true
   },
   "source": [
    "## Pen and Paper"
   ]
  },
  {
   "cell_type": "markdown",
   "metadata": {},
   "source": [
    "Suppose that you have an undirected social graph G = (U, V), where U - set of nodes, V - set of edges.\n",
    "\n",
    "<img src=\"graph.png\" width=\"400\">"
   ]
  },
  {
   "cell_type": "markdown",
   "metadata": {},
   "source": [
    "#### Question\n",
    "\n",
    "Compute betweenness for the graph G and output the communities for the following betweenness threshold : 4, 6."
   ]
  }
 ],
 "metadata": {
  "kernelspec": {
   "display_name": "Python (DIS2018)",
   "language": "python",
   "name": "dis2018"
  },
  "language_info": {
   "codemirror_mode": {
    "name": "ipython",
    "version": 3
   },
   "file_extension": ".py",
   "mimetype": "text/x-python",
   "name": "python",
   "nbconvert_exporter": "python",
   "pygments_lexer": "ipython3",
   "version": "3.5.4"
  }
 },
 "nbformat": 4,
 "nbformat_minor": 2
}
